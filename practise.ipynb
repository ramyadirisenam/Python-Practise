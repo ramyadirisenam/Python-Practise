{
 "cells": [
  {
   "cell_type": "markdown",
   "metadata": {},
   "source": [
    "### Write a function called estimate_pi that uses this formula to compute and return an\n",
    "estimate of π. It should use a while loop to compute terms of the summation until the \n",
    "last term is smaller than 1e-15 (which is Python notation for 10−15). You can check"
   ]
  },
  {
   "cell_type": "code",
   "execution_count": 12,
   "metadata": {},
   "outputs": [
    {
     "ename": "SyntaxError",
     "evalue": "invalid syntax (<ipython-input-12-d5b459d76787>, line 7)",
     "output_type": "error",
     "traceback": [
      "\u001b[1;36m  File \u001b[1;32m\"<ipython-input-12-d5b459d76787>\"\u001b[1;36m, line \u001b[1;32m7\u001b[0m\n\u001b[1;33m    def fact_2\u001b[0m\n\u001b[1;37m              ^\u001b[0m\n\u001b[1;31mSyntaxError\u001b[0m\u001b[1;31m:\u001b[0m invalid syntax\n"
     ]
    }
   ],
   "source": [
    "import math as m\n",
    "def fact(n):\n",
    "    factorial = 1\n",
    "    for i in range(n,1,-1):\n",
    "        factorial =factorial * i\n",
    "    return factorial\n",
    "\n",
    "\n",
    "# def fact_2(n):\n",
    "#     if n==0 or n==1:\n",
    "#         return 1\n",
    "#     else:\n",
    "#         return n*fact_2(n-1)\n",
    "\n",
    "\n",
    "\n",
    "def estimate_pi():\n",
    "    part_1 = 0\n",
    "    for k in range(0,31):\n",
    "        num =\n",
    "        den = \n",
    "        part_1 = part_1+(num/den)\n",
    "    \n",
    "    part_2 = 2*(sqrt)*part_1/9801\n",
    "    \n",
    "    \n",
    "    \n",
    "    est_pi = 1/(part_2)\n",
    "    return est_pi\n",
    "\n",
    "\n",
    "chk = estimate_pi()\n",
    "print(chk)\n",
    "print(fact(0))"
   ]
  },
  {
   "cell_type": "code",
   "execution_count": null,
   "metadata": {},
   "outputs": [],
   "source": []
  }
 ],
 "metadata": {
  "kernelspec": {
   "display_name": "Python 3",
   "language": "python",
   "name": "python3"
  },
  "language_info": {
   "codemirror_mode": {
    "name": "ipython",
    "version": 3
   },
   "file_extension": ".py",
   "mimetype": "text/x-python",
   "name": "python",
   "nbconvert_exporter": "python",
   "pygments_lexer": "ipython3",
   "version": "3.8.5"
  }
 },
 "nbformat": 4,
 "nbformat_minor": 4
}
