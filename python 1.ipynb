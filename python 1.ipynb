{
 "cells": [
  {
   "cell_type": "code",
   "execution_count": 3,
   "metadata": {},
   "outputs": [
    {
     "ename": "NameError",
     "evalue": "name 'Output' is not defined",
     "output_type": "error",
     "traceback": [
      "\u001b[1;31m---------------------------------------------------------------------------\u001b[0m",
      "\u001b[1;31mNameError\u001b[0m                                 Traceback (most recent call last)",
      "\u001b[1;32m<ipython-input-3-c633443a4815>\u001b[0m in \u001b[0;36m<module>\u001b[1;34m\u001b[0m\n\u001b[0;32m      2\u001b[0m \u001b[0mlist1\u001b[0m\u001b[1;33m.\u001b[0m\u001b[0mindex\u001b[0m\u001b[1;33m(\u001b[0m\u001b[1;34m\"e\"\u001b[0m\u001b[1;33m,\u001b[0m\u001b[1;36m0\u001b[0m\u001b[1;33m,\u001b[0m \u001b[0mlen\u001b[0m\u001b[1;33m(\u001b[0m\u001b[0mlist1\u001b[0m\u001b[1;33m)\u001b[0m\u001b[1;33m)\u001b[0m  \u001b[1;31m# list.index(element, start, end)\u001b[0m\u001b[1;33m\u001b[0m\u001b[1;33m\u001b[0m\u001b[0m\n\u001b[0;32m      3\u001b[0m \u001b[1;33m\u001b[0m\u001b[0m\n\u001b[1;32m----> 4\u001b[1;33m \u001b[0mOutput\u001b[0m\u001b[1;33m\u001b[0m\u001b[1;33m\u001b[0m\u001b[0m\n\u001b[0m\u001b[0;32m      5\u001b[0m \u001b[1;33m\u001b[0m\u001b[0m\n\u001b[0;32m      6\u001b[0m \u001b[1;36m4\u001b[0m\u001b[1;33m\u001b[0m\u001b[1;33m\u001b[0m\u001b[0m\n",
      "\u001b[1;31mNameError\u001b[0m: name 'Output' is not defined"
     ]
    }
   ],
   "source": [
    "list1=[\"a\",\"b\",\"c\",\"d\",\"e\",\"f\"]\n",
    "list1.index(\"e\",0, len(list1))  # list.index(element, start, end)\n",
    "\n",
    "Output\n",
    "\n",
    "4"
   ]
  },
  {
   "cell_type": "code",
   "execution_count": null,
   "metadata": {},
   "outputs": [],
   "source": [
    "def sum_a_b(a,b=20,*args):\n",
    "    return a+b+sum(args)\n",
    "\n",
    "c = sum_a_b(1,3,5,6,9,56)\n",
    "print(c)"
   ]
  },
  {
   "cell_type": "code",
   "execution_count": null,
   "metadata": {},
   "outputs": [],
   "source": [
    "#one hot encoding should not be applied here as it creates too many variables which do not have high predictivepower. \n",
    "def slots(x):\n",
    "    if x == \"India\":\n",
    "        category = \"india\"\n",
    "    elif x == \"not provided\":\n",
    "        category = \"not provided\"\n",
    "    else:\n",
    "        category = \"outside india\"\n",
    "    return category\n",
    "\n",
    "lead_score2['Country'] = lead_score2.apply(lambda row:slots(row['Country']), axis = 1)\n",
    "lead_score2['Country'].value_counts()\n",
    "\n",
    "\n",
    "# def slots2(row):\n",
    "#     if row['Country'] and =='india' and row['continent']=='asia':\n",
    "#         cat =\"India_asia\"\n",
    "#     elif row['country']=='not provided':\n",
    "#         cat=\"not provided\"\n",
    "#     else:\n",
    "#         cat=\"outside of india\"\n",
    "#     return cat\n",
    "\n",
    "# lead_score2['country_cat'] = lead_score2.apply(slots2, axis=1)\n",
    "\n",
    "# def slots(x,y):\n",
    "#     category = \"\"\n",
    "#     if x == \"india\" and y==\"asia\":\n",
    "#         category = \"india_asia\"\n",
    "#     elif x == \"not provided\":\n",
    "#         category = \"not provided\"\n",
    "#     else:\n",
    "#         category = \"outside india\"\n",
    "#     return category\n",
    "\n",
    "# lead_score2['Country_cat'] = lead_score2.apply(lambda row:slots(row['Country'], row['continent']), axis = 1)\n"
   ]
  },
  {
   "cell_type": "code",
   "execution_count": null,
   "metadata": {},
   "outputs": [],
   "source": [
    "Hi,\n",
    "\n",
    "We can create an empty dictionary object by giving no elements in curly brackets in the assignment statement\n",
    "\n",
    "# {} symbol to initialize dictionary\n",
    "\n",
    "emptyDict = {}\n",
    "\n",
    "# print dictionary\n",
    "\n",
    "print(emptyDict)\n",
    "\n",
    "# print length of dictionary\n",
    "\n",
    "print(\"Length:\", len(emptyDict))\n",
    "\n",
    "# print type\n",
    "\n",
    "print(type(emptyDict))\n",
    "\n",
    " \n",
    "\n",
    "Output\n",
    "\n",
    "{}\n",
    "Length: 0\n",
    "<class 'dict'>\n",
    "Sets can be created by using the built-in set() function \n",
    "\n",
    "# Creation of Set in Python\n",
    "\n",
    "# Creating a Set\n",
    "\n",
    "set1 = set()\n",
    "\n",
    "print(\"Intial blank Set: \")\n",
    "\n",
    "print(set1)\n",
    "\n",
    "Output:\n",
    "\n",
    "Intial blank Set: \n",
    "set()"
   ]
  },
  {
   "cell_type": "code",
   "execution_count": null,
   "metadata": {},
   "outputs": [],
   "source": [
    "\n",
    "Sample Input :\n",
    "\n",
    "A = [5, 1, 3, 4, 4, 5, 6, 7]\n",
    "\n",
    "B = [3, 3, 5, 5, 1 ,7 ,2]\n",
    "\n",
    "Sample Output:\n",
    "\n",
    "[1,3,5,7]\n",
    "\n",
    "CODE:\n",
    "\n",
    "import ast,sys\n",
    "input_str = sys.stdin.read()\n",
    "input_list = ast.literal_eval(input_str)\n",
    "list_1 = input_list[0]\n",
    "list_2 = input_list[1]\n",
    "\n",
    "set_1 = set(list_1)\n",
    "set_2 = set(list_2)\n",
    "set_3 = set_1.intersection(set_2)\n",
    "answer= sorted(list(set_3))\n",
    "print(answer)\n",
    "\n",
    "\n",
    "Input\n",
    "[5,5,5,5,5,5,5,3], [3,3,5,5,1,7,2]\n"
   ]
  },
  {
   "cell_type": "code",
   "execution_count": null,
   "metadata": {},
   "outputs": [],
   "source": [
    "Hi,\n",
    "\n",
    "The class method in Python is a method, which is bound to the class but not the object of that class. The static methods are also same but there are some basic differences. For class methods, we need to specify @classmethod decorator, and for static method @staticmethod decorator is used.\n",
    "\n",
    "Syntax for Class Method.\n",
    "\n",
    "class my_class:\n",
    "   @classmethod\n",
    "  deffunction_name(cls, arguments):\n",
    "      #Function Body\n",
    "      return value\n",
    "Syntax for Static Method.\n",
    "\n",
    "class my_class:\n",
    "   @staticmethod\n",
    "   deffunction_name(arguments):\n",
    "      #Function Body\n",
    "      return value\n",
    "What are the differences between Classmethod and StaticMehtod?\n",
    "Class Method\tStatic Method\n",
    "The class method takes cls (class) as first argument.\tThe static method does not take any specific parameter.\n",
    "Class method can access and modify the class state.\tStatic Method cannot access or modify the class state.\n",
    "The class method takes the class as parameter to know about the state of that class.\tStatic methods do not know about class state. These methods are used to do some utility tasks by taking some parameters.\n",
    "@classmethod decorator is used here.\t@staticmethod decorator is used here.\n",
    "The Static methods are used to do some utility tasks, and class methods are used for factory methods. The factory methods can return class objects for different use cases.\n",
    "\n",
    "Example code\n",
    "from datetime import date as dt\n",
    "class Employee:\n",
    "   def __init__(self, name, age):\n",
    "      self.name = name\n",
    "      self.age = age\n",
    "   @staticmethod\n",
    "   defisAdult(age):\n",
    "      if age > 18:\n",
    "         return True\n",
    "      else:\n",
    "         return False\n",
    "   @classmethod\n",
    "   defemp_from_year(emp_class, name, year):\n",
    "      return emp_class(name, dt.today().year - year)\n",
    "   def __str__(self):\n",
    "      return 'Employee Name: {} and Age: {}'.format(self.name, self.age)\n",
    "e1 = Employee('Dhiman', 25)\n",
    "print(e1)\n",
    "e2 = Employee.emp_from_year('Subhas', 1987)\n",
    "print(e2)\n",
    "print(Employee.isAdult(25))\n",
    "print(Employee.isAdult(16))\n",
    "Output\n",
    "Employee Name: Dhiman and Age: 25\n",
    "Employee Name: Subhas and Age: 31\n",
    "True\n",
    "False"
   ]
  },
  {
   "cell_type": "code",
   "execution_count": null,
   "metadata": {},
   "outputs": [],
   "source": [
    "class Car:\n",
    "    wheels = 4    # <- Class variable    \n",
    "        def __init__(self, name):\n",
    "        self.name = name    # <- Instance variable\n",
    "Car class defined. Each instance of it will have class variable wheels along with the instance variable name. Let’s instantiate the class to access the variables.\n",
    "\n",
    "jag = Car('jaguar')\n",
    ">>> fer = Car('ferrari')\n",
    ">>> jag.name, fer.name\n",
    "('jaguar', 'ferrari')\n",
    ">>> jag.wheels, fer.wheels\n",
    "output : (4, 4)\n",
    "\n",
    ">>> Car.wheels\n",
    "output : 4"
   ]
  },
  {
   "cell_type": "code",
   "execution_count": null,
   "metadata": {},
   "outputs": [],
   "source": [
    "help(list)"
   ]
  },
  {
   "cell_type": "code",
   "execution_count": null,
   "metadata": {},
   "outputs": [],
   "source": [
    "list1=[1,2,3,4]\n",
    "print(list1(len(list1-2).index(3)))"
   ]
  },
  {
   "cell_type": "code",
   "execution_count": null,
   "metadata": {},
   "outputs": [],
   "source": [
    "class GeekforGeeks: \n",
    "    # default constructor \n",
    "    def __init__(self,pyi): \n",
    "\t\tself.geek = \"GeekforGeeks\"\n",
    "        self.pyi=pyi\n",
    "\t# a method for printing data members \n",
    "\tdef print_Geek(self): \n",
    "\t\tprint(self.geek) \n",
    "\n",
    "\n",
    "# creating object of the class \n",
    "obj = GeekforGeeks(\"56\") \n",
    "\n",
    "# calling the instance method using the object obj \n",
    "obj.print_Geek() "
   ]
  },
  {
   "cell_type": "code",
   "execution_count": null,
   "metadata": {},
   "outputs": [],
   "source": [
    "# case1: new_list in for loop\n",
    "\n",
    "sample_list=[20,40,10,50,60]\n",
    "\n",
    "all_list =[] #\n",
    "\n",
    "#in python code flow is from top to bottom\n",
    "\n",
    "# but in for loop control will come to the starting point of for loop after every iteration. after all iterations in the loop are\n",
    "#completed then it goes down again.\n",
    "\n",
    "for num in sample_list:\n",
    "    new_list=[] #overwrites the previous list in for loop\n",
    "    for i in range(1,num+1): # this for executes only conditions till new_list.append\n",
    "        if num%i==0:\n",
    "            new_list.append(i)\n",
    "    print(new_list) #prints for every iteration(num and sample list), this print is related to first for loop\n",
    "    all_list.append(new_list)\n",
    "\n",
    "\n",
    "print(all_list) # prints only after exiting last iteration\n",
    "\n",
    "\n",
    "for i in range(5):\n",
    "    print(i)\n",
    "    \n",
    "print(i)"
   ]
  },
  {
   "cell_type": "code",
   "execution_count": null,
   "metadata": {},
   "outputs": [],
   "source": [
    "# case1: new _list in above for loop,print 1st type\n",
    "sample_list=[20,40,10,50,60]\n",
    "new_list=[]\n",
    "\n",
    "\n",
    "for num in sample_list:  \n",
    "    for i in range(1,num+1):\n",
    "        if num%i==0:\n",
    "            new_list.append(i)\n",
    "            print(new_list) # gives output when the condition is true  as it is in the if block\n",
    "    \n",
    "\n",
    "\n",
    "    \n",
    "   "
   ]
  },
  {
   "cell_type": "code",
   "execution_count": null,
   "metadata": {},
   "outputs": [],
   "source": [
    "# case1: new _list in above for loop,print 2nd type\n",
    "sample_list=[20,40,10,50,60]\n",
    "new_list=[]\n",
    "\n",
    "\n",
    "for num in sample_list:  \n",
    "    for i in range(1,num+1):\n",
    "        if num%i==0:\n",
    "            new_list.append(i)\n",
    "        print(new_list) # gives output weather the condition is true or false as it is out of if block\n",
    "    "
   ]
  },
  {
   "cell_type": "code",
   "execution_count": null,
   "metadata": {},
   "outputs": [],
   "source": [
    "# case1: new _list in above for loop,print 3rd type\n",
    "sample_list=[20,40,10,50,60]\n",
    "new_list=[]\n",
    "\n",
    "\n",
    "for num in sample_list:  \n",
    "    for i in range(1,num+1):\n",
    "        if num%i==0:\n",
    "            new_list.append(i)\n",
    "            \n",
    "    print(new_list)\n",
    "    "
   ]
  },
  {
   "cell_type": "code",
   "execution_count": null,
   "metadata": {
    "scrolled": true
   },
   "outputs": [],
   "source": [
    "# case: num_list in if block:\n",
    "sample_list=[20,40,10,50,60]\n",
    "for num in sample_list:  \n",
    "    for i in range(1,num+1):\n",
    "        if num%i==0:\n",
    "            new_list=[]\n",
    "            new_list.append(i)\n",
    "\n",
    "            \n",
    "            \n",
    "\n",
    "print(new_list)"
   ]
  },
  {
   "cell_type": "code",
   "execution_count": null,
   "metadata": {},
   "outputs": [],
   "source": [
    "# case: num_list in 2nd for  block:\n",
    "\n",
    "sample_list=[20,40,10,50,60]\n",
    "for num in sample_list:  \n",
    "    for i in range(1,num+1):\n",
    "        new_list=[]\n",
    "        if num%i==0:\n",
    "            new_list.append(i)\n",
    "print(new_list)"
   ]
  },
  {
   "cell_type": "code",
   "execution_count": null,
   "metadata": {},
   "outputs": [],
   "source": [
    "l = ['Varma', 'Raj', 'Gupta', 'Sandeep']\n",
    "str1 = str(l)\n",
    "print(str1.capitalize().title())"
   ]
  },
  {
   "cell_type": "code",
   "execution_count": null,
   "metadata": {},
   "outputs": [],
   "source": [
    "n=3\n",
    "for i in range(1,n+1):\n",
    "    print('*'*i)\n",
    "    "
   ]
  },
  {
   "cell_type": "code",
   "execution_count": null,
   "metadata": {},
   "outputs": [],
   "source": [
    "n=3\n",
    "for i in range(1,n+1):\n",
    "    print(\" \"*(n-i),'*'*i)\n",
    "    "
   ]
  },
  {
   "cell_type": "code",
   "execution_count": null,
   "metadata": {},
   "outputs": [],
   "source": [
    "       *\n",
    "    *    *\n",
    "  *   *    * "
   ]
  },
  {
   "cell_type": "code",
   "execution_count": null,
   "metadata": {},
   "outputs": [],
   "source": [
    "***\n",
    "**\n",
    "*\n",
    "\n",
    "***\n",
    " **\n",
    "  *\n",
    "\n",
    "******\n",
    "**  **\n",
    "*    *\n",
    "**  **\n",
    "******"
   ]
  },
  {
   "cell_type": "code",
   "execution_count": null,
   "metadata": {},
   "outputs": [],
   "source": [
    "x=(lambda i:i%17==0,for i in range(1,100))\n",
    "x"
   ]
  },
  {
   "cell_type": "code",
   "execution_count": null,
   "metadata": {
    "scrolled": true
   },
   "outputs": [],
   "source": [
    "#case 1:\n",
    "x=(lambda i : i%17==0)\n",
    "for i in [1,100]:\n",
    "    print(x(i),end=\" \")\n",
    " #case 2:   \n",
    "x = [i%17==0 for i in [1,100]]\n",
    "\n",
    "print(x)"
   ]
  },
  {
   "cell_type": "code",
   "execution_count": null,
   "metadata": {},
   "outputs": [],
   "source": []
  },
  {
   "cell_type": "code",
   "execution_count": null,
   "metadata": {
    "scrolled": true
   },
   "outputs": [],
   "source": [
    "encrypt_msg = str()\n",
    "\n",
    "for i,j in zip(place,city):\n",
    "        encrypt_msg = encrypt_msg+i+j\n",
    "\n",
    "encrypt_msg  \n",
    " \n",
    "\n",
    "output: \n",
    "\n",
    "ndoeildhai\n",
    " \n",
    "\n",
    "###########\n",
    "\n",
    "Note: If the lengths of place and city are unequal then zip will stop running after the last letter of shorter object is reached.\n",
    "\n",
    "For example if place is 'taj' and city is 'agra' output will be 'taagjr' instead of 'taagjra'.\n",
    "\n",
    " \n",
    "\n",
    "To avoid this you can use zip_longest function available in itertools package.\n",
    "\n",
    "Here is the code:\n",
    "\n",
    " \n",
    "\n",
    "import itertools\n",
    "\n",
    "encrypt_msg = str()\n",
    "\n",
    "for i,j in itertools.zip_longest(place,city):\n",
    "    if i != None:\n",
    "        encrypt_msg = encrypt_msg + i\n",
    "    if j != None:\n",
    "        encrypt_msg = encrypt_msg + j\n",
    "\n",
    "encrypt_msg"
   ]
  },
  {
   "cell_type": "code",
   "execution_count": null,
   "metadata": {},
   "outputs": [],
   "source": [
    "# Python code to demonstrate the working of    \n",
    "# zip_longest()   \n",
    "      \n",
    "    \n",
    "import itertools   \n",
    "      \n",
    "# using zip_longest() to combine two iterables.   \n",
    "print (\"The combined values of iterables is  : \")   \n",
    "print (*(itertools.zip_longest('GesoGes', 'ekfrek', fillvalue ='_' ))) "
   ]
  },
  {
   "cell_type": "code",
   "execution_count": 47,
   "metadata": {},
   "outputs": [
    {
     "name": "stdout",
     "output_type": "stream",
     "text": [
      "[(1, 8), (2, 9), (3, 10), (4, None), (5, None), (6, None), (7, None)]\n"
     ]
    }
   ],
   "source": [
    "from itertools import zip_longest \n",
    "  \n",
    "  \n",
    "x =[1, 2, 3, 4, 5, 6, 7] \n",
    "y =[8, 9, 10] \n",
    "z = list(zip_longest(x, y)) \n",
    "print(z) "
   ]
  },
  {
   "cell_type": "code",
   "execution_count": 49,
   "metadata": {
    "scrolled": false
   },
   "outputs": [
    {
     "name": "stdout",
     "output_type": "stream",
     "text": [
      "Enter Place : panaji\n",
      "Enter City : goa\n"
     ]
    },
    {
     "data": {
      "text/plain": [
       "'pgaonaa#j#i#'"
      ]
     },
     "execution_count": 49,
     "metadata": {},
     "output_type": "execute_result"
    }
   ],
   "source": [
    "from itertools import zip_longest \n",
    "place=input(\"Enter Place : \")\n",
    "city=input(\"Enter City : \")\n",
    "encrypt_msg =str()\n",
    "for i,j in zip_longest(place,city,fillvalue ='#' ):\n",
    "    encrypt_msg = encrypt_msg +i+j\n",
    "encrypt_msg "
   ]
  },
  {
   "cell_type": "code",
   "execution_count": 45,
   "metadata": {},
   "outputs": [
    {
     "name": "stdout",
     "output_type": "stream",
     "text": [
      "Enter Place : bandra\n",
      "Enter City : mumbai\n"
     ]
    },
    {
     "ename": "NameError",
     "evalue": "name 'zip_longest' is not defined",
     "output_type": "error",
     "traceback": [
      "\u001b[1;31m---------------------------------------------------------------------------\u001b[0m",
      "\u001b[1;31mNameError\u001b[0m                                 Traceback (most recent call last)",
      "\u001b[1;32m<ipython-input-45-b3196447bc60>\u001b[0m in \u001b[0;36m<module>\u001b[1;34m\u001b[0m\n\u001b[0;32m      2\u001b[0m \u001b[0mcity\u001b[0m\u001b[1;33m=\u001b[0m\u001b[0minput\u001b[0m\u001b[1;33m(\u001b[0m\u001b[1;34m\"Enter City : \"\u001b[0m\u001b[1;33m)\u001b[0m\u001b[1;33m\u001b[0m\u001b[1;33m\u001b[0m\u001b[0m\n\u001b[0;32m      3\u001b[0m \u001b[0mencrypt_msg\u001b[0m \u001b[1;33m=\u001b[0m\u001b[0mstr\u001b[0m\u001b[1;33m(\u001b[0m\u001b[1;33m)\u001b[0m\u001b[1;33m\u001b[0m\u001b[1;33m\u001b[0m\u001b[0m\n\u001b[1;32m----> 4\u001b[1;33m \u001b[1;32mfor\u001b[0m \u001b[0mi\u001b[0m\u001b[1;33m,\u001b[0m\u001b[0mj\u001b[0m \u001b[1;32min\u001b[0m \u001b[0mzip_longest\u001b[0m\u001b[1;33m(\u001b[0m\u001b[0mplace\u001b[0m\u001b[1;33m,\u001b[0m\u001b[0mcity\u001b[0m\u001b[1;33m)\u001b[0m\u001b[1;33m:\u001b[0m\u001b[1;33m\u001b[0m\u001b[1;33m\u001b[0m\u001b[0m\n\u001b[0m\u001b[0;32m      5\u001b[0m     \u001b[0mencrypt_msg\u001b[0m \u001b[1;33m=\u001b[0m \u001b[0mencrypt_msg\u001b[0m \u001b[1;33m+\u001b[0m\u001b[0mi\u001b[0m\u001b[1;33m+\u001b[0m\u001b[0mj\u001b[0m\u001b[1;33m\u001b[0m\u001b[1;33m\u001b[0m\u001b[0m\n\u001b[0;32m      6\u001b[0m \u001b[0mencrypt_msg\u001b[0m\u001b[1;33m\u001b[0m\u001b[1;33m\u001b[0m\u001b[0m\n",
      "\u001b[1;31mNameError\u001b[0m: name 'zip_longest' is not defined"
     ]
    }
   ],
   "source": [
    "place=input(\"Enter Place : \")\n",
    "city=input(\"Enter City : \")\n",
    "encrypt_msg =str()\n",
    "for i,j in zip_longest(place,city):\n",
    "    encrypt_msg = encrypt_msg +i+j\n",
    "encrypt_msg "
   ]
  },
  {
   "cell_type": "code",
   "execution_count": 34,
   "metadata": {},
   "outputs": [
    {
     "name": "stdout",
     "output_type": "stream",
     "text": [
      "bandra,mumbai\n"
     ]
    }
   ],
   "source": [
    "g = \"bmaunmdbraai\"\n",
    "message1 = g[0::2].rstrip('#')\n",
    "message2 =g[1::2].rstrip('#')\n",
    "\n",
    "message= message1+','+message2\n",
    "\n",
    "print(message)\n"
   ]
  },
  {
   "cell_type": "code",
   "execution_count": 44,
   "metadata": {},
   "outputs": [
    {
     "name": "stdout",
     "output_type": "stream",
     "text": [
      "goa,panaji\n"
     ]
    }
   ],
   "source": [
    "g = \"gpoaan#a#j#i\"\n",
    "message1 = g[0::2].rstrip('#')\n",
    "message2 =g[1::2].rstrip('#')\n",
    "\n",
    "message= message1+','+message2\n",
    "\n",
    "print(message)"
   ]
  },
  {
   "cell_type": "code",
   "execution_count": null,
   "metadata": {},
   "outputs": [],
   "source": [
    "if __name__ == '__main__':\n",
    "    n = int(input())\n",
    "    arr = list(map(int, input().split()))\n",
    "A = max(arr)\n",
    "print(A)\n",
    "max(arr.remove(A))"
   ]
  },
  {
   "cell_type": "code",
   "execution_count": null,
   "metadata": {},
   "outputs": [],
   "source": [
    "nums = [1, 2, 3, 4, 5, 6]\n",
    " \n",
    "n = 2\n",
    " \n",
    "found = False\n",
    "for num in nums:\n",
    "    if n == num:\n",
    "        found = True\n",
    "        break\n",
    "print(f'List contains {n}: {found}')\n",
    "# Output\n",
    "# List contains 2: True"
   ]
  },
  {
   "cell_type": "code",
   "execution_count": null,
   "metadata": {},
   "outputs": [],
   "source": [
    "def outerfunction (x,y):  \n",
    "    return (x+y) + 5\n",
    "print(outerfunction(5,6))"
   ]
  },
  {
   "cell_type": "code",
   "execution_count": null,
   "metadata": {},
   "outputs": [],
   "source": [
    "input_str=\"Kumar_Ravi_003\n",
    "\n",
    "first_name = input_str.split(\"_\")[1]\n",
    "\n",
    "second_name = input_str.split(\"_\")[0]\n",
    "\n",
    "customer_code = input_str.split(\"_\")[2]\n",
    "print(first_name)\n",
    "print(second_name)\n",
    "print(customer_code)"
   ]
  },
  {
   "cell_type": "code",
   "execution_count": null,
   "metadata": {},
   "outputs": [],
   "source": [
    "msg='abrakadabraandreaditagainabrakadabra'\n",
    "count = 0\n",
    "  \n",
    "for i in msg: \n",
    "    if i == 'a': \n",
    "        count = count + 1\n",
    "print(count)\n"
   ]
  },
  {
   "cell_type": "code",
   "execution_count": null,
   "metadata": {},
   "outputs": [],
   "source": [
    "msg=\"abrakadabra\"\n",
    "for i in range(len(msg)):\n",
    "    if msg[i]=='a':\n",
    "        print(msg[i])\n"
   ]
  },
  {
   "cell_type": "code",
   "execution_count": null,
   "metadata": {},
   "outputs": [],
   "source": [
    "count=0\n",
    "msg1 = 'coffeeortea'\n",
    "for i in msg1:\n",
    "    if i in'aeiou':\n",
    "        count=count+1\n",
    "print(count)\n"
   ]
  },
  {
   "cell_type": "code",
   "execution_count": null,
   "metadata": {},
   "outputs": [],
   "source": [
    "msg = 'coffeeortea'\n",
    "count=0\n",
    "vowels='aeiouAEIOU'\n",
    "for i in range(len(msg)) : \n",
    "\tif i in vowels :\n",
    "\t\tcount=count+1\n",
    "print(count)\n"
   ]
  },
  {
   "cell_type": "code",
   "execution_count": null,
   "metadata": {},
   "outputs": [],
   "source": [
    "msg = 'cofee or tea'\n",
    "count =0\n",
    "spacecnt=0\n",
    "consonentspaces=0\n",
    "for i in msg:\n",
    "    if i not in (\"aeiouAEIOU\"):\n",
    "        count = count +1\n",
    "        elif i in (''):\n",
    "            spacecnt = spacecnt+1\n",
    "    else\n",
    "     consonentspaces=consonentspaces+1\n",
    "    \n",
    "print(count)\n",
    "print(spacecnt)\n",
    "print(consonentspaces)\n"
   ]
  },
  {
   "cell_type": "code",
   "execution_count": null,
   "metadata": {},
   "outputs": [],
   "source": [
    "name='ANIRUDH'\n",
    "score=0\n",
    "for i in name:\n",
    "    score=score+ord(i)\n",
    "    \n",
    "print(score)\n"
   ]
  },
  {
   "cell_type": "code",
   "execution_count": null,
   "metadata": {},
   "outputs": [],
   "source": [
    "import ast\n",
    "num= ast.literal_eval(input('Please provide a number: '))\n",
    "for i in range(1,n+1):\n",
    "    print('{}*{}={}'.format(num,i,num*i)\n"
   ]
  },
  {
   "cell_type": "code",
   "execution_count": null,
   "metadata": {},
   "outputs": [],
   "source": [
    "number = int(input (\"enter a number\"))\n",
    "for i in range(1,11):\n",
    "    print(\"{} * {} = {}\".format (number,i,number*i))\n"
   ]
  },
  {
   "cell_type": "code",
   "execution_count": 22,
   "metadata": {},
   "outputs": [
    {
     "name": "stdout",
     "output_type": "stream",
     "text": [
      " Mount everest is tallest of all mountains Bachendri Pal is the first woman to climb\n"
     ]
    }
   ],
   "source": [
    "A=[\"Mount everest is tallest of all mountains\", \"Bachendri Pal is the first woman to climb\"]\n",
    "c=\"\"\n",
    "for i in A:\n",
    "    c=c+\" \"+i\n",
    "print(c)"
   ]
  },
  {
   "cell_type": "code",
   "execution_count": 16,
   "metadata": {},
   "outputs": [
    {
     "name": "stdout",
     "output_type": "stream",
     "text": [
      "Help on class str in module builtins:\n",
      "\n",
      "class str(object)\n",
      " |  str(object='') -> str\n",
      " |  str(bytes_or_buffer[, encoding[, errors]]) -> str\n",
      " |  \n",
      " |  Create a new string object from the given object. If encoding or\n",
      " |  errors is specified, then the object must expose a data buffer\n",
      " |  that will be decoded using the given encoding and error handler.\n",
      " |  Otherwise, returns the result of object.__str__() (if defined)\n",
      " |  or repr(object).\n",
      " |  encoding defaults to sys.getdefaultencoding().\n",
      " |  errors defaults to 'strict'.\n",
      " |  \n",
      " |  Methods defined here:\n",
      " |  \n",
      " |  __add__(self, value, /)\n",
      " |      Return self+value.\n",
      " |  \n",
      " |  __contains__(self, key, /)\n",
      " |      Return key in self.\n",
      " |  \n",
      " |  __eq__(self, value, /)\n",
      " |      Return self==value.\n",
      " |  \n",
      " |  __format__(self, format_spec, /)\n",
      " |      Return a formatted version of the string as described by format_spec.\n",
      " |  \n",
      " |  __ge__(self, value, /)\n",
      " |      Return self>=value.\n",
      " |  \n",
      " |  __getattribute__(self, name, /)\n",
      " |      Return getattr(self, name).\n",
      " |  \n",
      " |  __getitem__(self, key, /)\n",
      " |      Return self[key].\n",
      " |  \n",
      " |  __getnewargs__(...)\n",
      " |  \n",
      " |  __gt__(self, value, /)\n",
      " |      Return self>value.\n",
      " |  \n",
      " |  __hash__(self, /)\n",
      " |      Return hash(self).\n",
      " |  \n",
      " |  __iter__(self, /)\n",
      " |      Implement iter(self).\n",
      " |  \n",
      " |  __le__(self, value, /)\n",
      " |      Return self<=value.\n",
      " |  \n",
      " |  __len__(self, /)\n",
      " |      Return len(self).\n",
      " |  \n",
      " |  __lt__(self, value, /)\n",
      " |      Return self<value.\n",
      " |  \n",
      " |  __mod__(self, value, /)\n",
      " |      Return self%value.\n",
      " |  \n",
      " |  __mul__(self, value, /)\n",
      " |      Return self*value.\n",
      " |  \n",
      " |  __ne__(self, value, /)\n",
      " |      Return self!=value.\n",
      " |  \n",
      " |  __repr__(self, /)\n",
      " |      Return repr(self).\n",
      " |  \n",
      " |  __rmod__(self, value, /)\n",
      " |      Return value%self.\n",
      " |  \n",
      " |  __rmul__(self, value, /)\n",
      " |      Return value*self.\n",
      " |  \n",
      " |  __sizeof__(self, /)\n",
      " |      Return the size of the string in memory, in bytes.\n",
      " |  \n",
      " |  __str__(self, /)\n",
      " |      Return str(self).\n",
      " |  \n",
      " |  capitalize(self, /)\n",
      " |      Return a capitalized version of the string.\n",
      " |      \n",
      " |      More specifically, make the first character have upper case and the rest lower\n",
      " |      case.\n",
      " |  \n",
      " |  casefold(self, /)\n",
      " |      Return a version of the string suitable for caseless comparisons.\n",
      " |  \n",
      " |  center(self, width, fillchar=' ', /)\n",
      " |      Return a centered string of length width.\n",
      " |      \n",
      " |      Padding is done using the specified fill character (default is a space).\n",
      " |  \n",
      " |  count(...)\n",
      " |      S.count(sub[, start[, end]]) -> int\n",
      " |      \n",
      " |      Return the number of non-overlapping occurrences of substring sub in\n",
      " |      string S[start:end].  Optional arguments start and end are\n",
      " |      interpreted as in slice notation.\n",
      " |  \n",
      " |  encode(self, /, encoding='utf-8', errors='strict')\n",
      " |      Encode the string using the codec registered for encoding.\n",
      " |      \n",
      " |      encoding\n",
      " |        The encoding in which to encode the string.\n",
      " |      errors\n",
      " |        The error handling scheme to use for encoding errors.\n",
      " |        The default is 'strict' meaning that encoding errors raise a\n",
      " |        UnicodeEncodeError.  Other possible values are 'ignore', 'replace' and\n",
      " |        'xmlcharrefreplace' as well as any other name registered with\n",
      " |        codecs.register_error that can handle UnicodeEncodeErrors.\n",
      " |  \n",
      " |  endswith(...)\n",
      " |      S.endswith(suffix[, start[, end]]) -> bool\n",
      " |      \n",
      " |      Return True if S ends with the specified suffix, False otherwise.\n",
      " |      With optional start, test S beginning at that position.\n",
      " |      With optional end, stop comparing S at that position.\n",
      " |      suffix can also be a tuple of strings to try.\n",
      " |  \n",
      " |  expandtabs(self, /, tabsize=8)\n",
      " |      Return a copy where all tab characters are expanded using spaces.\n",
      " |      \n",
      " |      If tabsize is not given, a tab size of 8 characters is assumed.\n",
      " |  \n",
      " |  find(...)\n",
      " |      S.find(sub[, start[, end]]) -> int\n",
      " |      \n",
      " |      Return the lowest index in S where substring sub is found,\n",
      " |      such that sub is contained within S[start:end].  Optional\n",
      " |      arguments start and end are interpreted as in slice notation.\n",
      " |      \n",
      " |      Return -1 on failure.\n",
      " |  \n",
      " |  format(...)\n",
      " |      S.format(*args, **kwargs) -> str\n",
      " |      \n",
      " |      Return a formatted version of S, using substitutions from args and kwargs.\n",
      " |      The substitutions are identified by braces ('{' and '}').\n",
      " |  \n",
      " |  format_map(...)\n",
      " |      S.format_map(mapping) -> str\n",
      " |      \n",
      " |      Return a formatted version of S, using substitutions from mapping.\n",
      " |      The substitutions are identified by braces ('{' and '}').\n",
      " |  \n",
      " |  index(...)\n",
      " |      S.index(sub[, start[, end]]) -> int\n",
      " |      \n",
      " |      Return the lowest index in S where substring sub is found,\n",
      " |      such that sub is contained within S[start:end].  Optional\n",
      " |      arguments start and end are interpreted as in slice notation.\n",
      " |      \n",
      " |      Raises ValueError when the substring is not found.\n",
      " |  \n",
      " |  isalnum(self, /)\n",
      " |      Return True if the string is an alpha-numeric string, False otherwise.\n",
      " |      \n",
      " |      A string is alpha-numeric if all characters in the string are alpha-numeric and\n",
      " |      there is at least one character in the string.\n",
      " |  \n",
      " |  isalpha(self, /)\n",
      " |      Return True if the string is an alphabetic string, False otherwise.\n",
      " |      \n",
      " |      A string is alphabetic if all characters in the string are alphabetic and there\n",
      " |      is at least one character in the string.\n",
      " |  \n",
      " |  isascii(self, /)\n",
      " |      Return True if all characters in the string are ASCII, False otherwise.\n",
      " |      \n",
      " |      ASCII characters have code points in the range U+0000-U+007F.\n",
      " |      Empty string is ASCII too.\n",
      " |  \n",
      " |  isdecimal(self, /)\n",
      " |      Return True if the string is a decimal string, False otherwise.\n",
      " |      \n",
      " |      A string is a decimal string if all characters in the string are decimal and\n",
      " |      there is at least one character in the string.\n",
      " |  \n",
      " |  isdigit(self, /)\n",
      " |      Return True if the string is a digit string, False otherwise.\n",
      " |      \n",
      " |      A string is a digit string if all characters in the string are digits and there\n",
      " |      is at least one character in the string.\n",
      " |  \n",
      " |  isidentifier(self, /)\n",
      " |      Return True if the string is a valid Python identifier, False otherwise.\n",
      " |      \n",
      " |      Call keyword.iskeyword(s) to test whether string s is a reserved identifier,\n",
      " |      such as \"def\" or \"class\".\n",
      " |  \n",
      " |  islower(self, /)\n",
      " |      Return True if the string is a lowercase string, False otherwise.\n",
      " |      \n",
      " |      A string is lowercase if all cased characters in the string are lowercase and\n",
      " |      there is at least one cased character in the string.\n",
      " |  \n",
      " |  isnumeric(self, /)\n",
      " |      Return True if the string is a numeric string, False otherwise.\n",
      " |      \n",
      " |      A string is numeric if all characters in the string are numeric and there is at\n",
      " |      least one character in the string.\n",
      " |  \n",
      " |  isprintable(self, /)\n",
      " |      Return True if the string is printable, False otherwise.\n",
      " |      \n",
      " |      A string is printable if all of its characters are considered printable in\n",
      " |      repr() or if it is empty.\n",
      " |  \n",
      " |  isspace(self, /)\n",
      " |      Return True if the string is a whitespace string, False otherwise.\n",
      " |      \n",
      " |      A string is whitespace if all characters in the string are whitespace and there\n",
      " |      is at least one character in the string.\n",
      " |  \n",
      " |  istitle(self, /)\n",
      " |      Return True if the string is a title-cased string, False otherwise.\n",
      " |      \n",
      " |      In a title-cased string, upper- and title-case characters may only\n",
      " |      follow uncased characters and lowercase characters only cased ones.\n",
      " |  \n",
      " |  isupper(self, /)\n",
      " |      Return True if the string is an uppercase string, False otherwise.\n",
      " |      \n",
      " |      A string is uppercase if all cased characters in the string are uppercase and\n",
      " |      there is at least one cased character in the string.\n",
      " |  \n",
      " |  join(self, iterable, /)\n",
      " |      Concatenate any number of strings.\n",
      " |      \n",
      " |      The string whose method is called is inserted in between each given string.\n",
      " |      The result is returned as a new string.\n",
      " |      \n",
      " |      Example: '.'.join(['ab', 'pq', 'rs']) -> 'ab.pq.rs'\n",
      " |  \n",
      " |  ljust(self, width, fillchar=' ', /)\n",
      " |      Return a left-justified string of length width.\n",
      " |      \n",
      " |      Padding is done using the specified fill character (default is a space).\n",
      " |  \n",
      " |  lower(self, /)\n",
      " |      Return a copy of the string converted to lowercase.\n",
      " |  \n",
      " |  lstrip(self, chars=None, /)\n",
      " |      Return a copy of the string with leading whitespace removed.\n",
      " |      \n",
      " |      If chars is given and not None, remove characters in chars instead.\n",
      " |  \n",
      " |  partition(self, sep, /)\n",
      " |      Partition the string into three parts using the given separator.\n",
      " |      \n",
      " |      This will search for the separator in the string.  If the separator is found,\n",
      " |      returns a 3-tuple containing the part before the separator, the separator\n",
      " |      itself, and the part after it.\n",
      " |      \n",
      " |      If the separator is not found, returns a 3-tuple containing the original string\n",
      " |      and two empty strings.\n",
      " |  \n",
      " |  replace(self, old, new, count=-1, /)\n",
      " |      Return a copy with all occurrences of substring old replaced by new.\n",
      " |      \n",
      " |        count\n",
      " |          Maximum number of occurrences to replace.\n",
      " |          -1 (the default value) means replace all occurrences.\n",
      " |      \n",
      " |      If the optional argument count is given, only the first count occurrences are\n",
      " |      replaced.\n",
      " |  \n",
      " |  rfind(...)\n",
      " |      S.rfind(sub[, start[, end]]) -> int\n",
      " |      \n",
      " |      Return the highest index in S where substring sub is found,\n",
      " |      such that sub is contained within S[start:end].  Optional\n",
      " |      arguments start and end are interpreted as in slice notation.\n",
      " |      \n",
      " |      Return -1 on failure.\n",
      " |  \n",
      " |  rindex(...)\n",
      " |      S.rindex(sub[, start[, end]]) -> int\n",
      " |      \n",
      " |      Return the highest index in S where substring sub is found,\n",
      " |      such that sub is contained within S[start:end].  Optional\n",
      " |      arguments start and end are interpreted as in slice notation.\n",
      " |      \n",
      " |      Raises ValueError when the substring is not found.\n",
      " |  \n",
      " |  rjust(self, width, fillchar=' ', /)\n",
      " |      Return a right-justified string of length width.\n",
      " |      \n",
      " |      Padding is done using the specified fill character (default is a space).\n",
      " |  \n",
      " |  rpartition(self, sep, /)\n",
      " |      Partition the string into three parts using the given separator.\n",
      " |      \n",
      " |      This will search for the separator in the string, starting at the end. If\n",
      " |      the separator is found, returns a 3-tuple containing the part before the\n",
      " |      separator, the separator itself, and the part after it.\n",
      " |      \n",
      " |      If the separator is not found, returns a 3-tuple containing two empty strings\n",
      " |      and the original string.\n",
      " |  \n",
      " |  rsplit(self, /, sep=None, maxsplit=-1)\n",
      " |      Return a list of the words in the string, using sep as the delimiter string.\n",
      " |      \n",
      " |        sep\n",
      " |          The delimiter according which to split the string.\n",
      " |          None (the default value) means split according to any whitespace,\n",
      " |          and discard empty strings from the result.\n",
      " |        maxsplit\n",
      " |          Maximum number of splits to do.\n",
      " |          -1 (the default value) means no limit.\n",
      " |      \n",
      " |      Splits are done starting at the end of the string and working to the front.\n",
      " |  \n",
      " |  rstrip(self, chars=None, /)\n",
      " |      Return a copy of the string with trailing whitespace removed.\n",
      " |      \n",
      " |      If chars is given and not None, remove characters in chars instead.\n",
      " |  \n",
      " |  split(self, /, sep=None, maxsplit=-1)\n",
      " |      Return a list of the words in the string, using sep as the delimiter string.\n",
      " |      \n",
      " |      sep\n",
      " |        The delimiter according which to split the string.\n",
      " |        None (the default value) means split according to any whitespace,\n",
      " |        and discard empty strings from the result.\n",
      " |      maxsplit\n",
      " |        Maximum number of splits to do.\n",
      " |        -1 (the default value) means no limit.\n",
      " |  \n",
      " |  splitlines(self, /, keepends=False)\n",
      " |      Return a list of the lines in the string, breaking at line boundaries.\n",
      " |      \n",
      " |      Line breaks are not included in the resulting list unless keepends is given and\n",
      " |      true.\n",
      " |  \n",
      " |  startswith(...)\n",
      " |      S.startswith(prefix[, start[, end]]) -> bool\n",
      " |      \n",
      " |      Return True if S starts with the specified prefix, False otherwise.\n",
      " |      With optional start, test S beginning at that position.\n",
      " |      With optional end, stop comparing S at that position.\n",
      " |      prefix can also be a tuple of strings to try.\n",
      " |  \n",
      " |  strip(self, chars=None, /)\n",
      " |      Return a copy of the string with leading and trailing whitespace removed.\n",
      " |      \n",
      " |      If chars is given and not None, remove characters in chars instead.\n",
      " |  \n",
      " |  swapcase(self, /)\n",
      " |      Convert uppercase characters to lowercase and lowercase characters to uppercase.\n",
      " |  \n",
      " |  title(self, /)\n",
      " |      Return a version of the string where each word is titlecased.\n",
      " |      \n",
      " |      More specifically, words start with uppercased characters and all remaining\n",
      " |      cased characters have lower case.\n",
      " |  \n",
      " |  translate(self, table, /)\n",
      " |      Replace each character in the string using the given translation table.\n",
      " |      \n",
      " |        table\n",
      " |          Translation table, which must be a mapping of Unicode ordinals to\n",
      " |          Unicode ordinals, strings, or None.\n",
      " |      \n",
      " |      The table must implement lookup/indexing via __getitem__, for instance a\n",
      " |      dictionary or list.  If this operation raises LookupError, the character is\n",
      " |      left untouched.  Characters mapped to None are deleted.\n",
      " |  \n",
      " |  upper(self, /)\n",
      " |      Return a copy of the string converted to uppercase.\n",
      " |  \n",
      " |  zfill(self, width, /)\n",
      " |      Pad a numeric string with zeros on the left, to fill a field of the given width.\n",
      " |      \n",
      " |      The string is never truncated.\n",
      " |  \n",
      " |  ----------------------------------------------------------------------\n",
      " |  Static methods defined here:\n",
      " |  \n",
      " |  __new__(*args, **kwargs) from builtins.type\n",
      " |      Create and return a new object.  See help(type) for accurate signature.\n",
      " |  \n",
      " |  maketrans(...)\n",
      " |      Return a translation table usable for str.translate().\n",
      " |      \n",
      " |      If there is only one argument, it must be a dictionary mapping Unicode\n",
      " |      ordinals (integers) or characters to Unicode ordinals, strings or None.\n",
      " |      Character keys will be then converted to ordinals.\n",
      " |      If there are two arguments, they must be strings of equal length, and\n",
      " |      in the resulting dictionary, each character in x will be mapped to the\n",
      " |      character at the same position in y. If there is a third argument, it\n",
      " |      must be a string, whose characters will be mapped to None in the result.\n",
      "\n"
     ]
    }
   ],
   "source": [
    "help(str)"
   ]
  },
  {
   "cell_type": "code",
   "execution_count": 23,
   "metadata": {},
   "outputs": [
    {
     "ename": "TypeError",
     "evalue": "'str' object does not support item assignment",
     "output_type": "error",
     "traceback": [
      "\u001b[1;31m---------------------------------------------------------------------------\u001b[0m",
      "\u001b[1;31mTypeError\u001b[0m                                 Traceback (most recent call last)",
      "\u001b[1;32m<ipython-input-23-3f8b3fab2cd4>\u001b[0m in \u001b[0;36m<module>\u001b[1;34m\u001b[0m\n\u001b[0;32m      3\u001b[0m \u001b[1;32mfor\u001b[0m \u001b[0mi\u001b[0m \u001b[1;32min\u001b[0m \u001b[0mrange\u001b[0m\u001b[1;33m(\u001b[0m\u001b[0mlen\u001b[0m\u001b[1;33m(\u001b[0m\u001b[0ms\u001b[0m\u001b[1;33m)\u001b[0m\u001b[1;33m)\u001b[0m\u001b[1;33m:\u001b[0m\u001b[1;33m\u001b[0m\u001b[1;33m\u001b[0m\u001b[0m\n\u001b[0;32m      4\u001b[0m     \u001b[1;32mif\u001b[0m \u001b[0ms\u001b[0m\u001b[1;33m[\u001b[0m\u001b[0mi\u001b[0m\u001b[1;33m]\u001b[0m \u001b[1;32min\u001b[0m \u001b[1;34m'a'\u001b[0m\u001b[1;33m:\u001b[0m\u001b[1;33m\u001b[0m\u001b[1;33m\u001b[0m\u001b[0m\n\u001b[1;32m----> 5\u001b[1;33m         \u001b[0ms\u001b[0m\u001b[1;33m[\u001b[0m\u001b[0mi\u001b[0m\u001b[1;33m]\u001b[0m\u001b[1;33m=\u001b[0m\u001b[1;34m'*'\u001b[0m\u001b[1;33m\u001b[0m\u001b[1;33m\u001b[0m\u001b[0m\n\u001b[0m\u001b[0;32m      6\u001b[0m \u001b[1;33m\u001b[0m\u001b[0m\n\u001b[0;32m      7\u001b[0m \u001b[0mprint\u001b[0m\u001b[1;33m(\u001b[0m\u001b[0ms\u001b[0m\u001b[1;33m)\u001b[0m\u001b[1;33m\u001b[0m\u001b[1;33m\u001b[0m\u001b[0m\n",
      "\u001b[1;31mTypeError\u001b[0m: 'str' object does not support item assignment"
     ]
    }
   ],
   "source": [
    "s=\"Upgrad\"\n",
    "\n",
    "for i in range(len(s)):\n",
    "    if s[i] in 'a':\n",
    "        s[i]='*'\n",
    "\n",
    "print(s)"
   ]
  },
  {
   "cell_type": "code",
   "execution_count": 24,
   "metadata": {},
   "outputs": [
    {
     "name": "stdout",
     "output_type": "stream",
     "text": [
      "<zip object at 0x000001B1F5EB0D40>\n",
      "(('John', 'Jenny'), ('Charles', 'Christy'), ('Mike', 'Monica'))\n"
     ]
    }
   ],
   "source": [
    "a = (\"John\", \"Charles\", \"Mike\")\n",
    "b = (\"Jenny\", \"Christy\", \"Monica\")\n",
    "\n",
    "x = zip(a, b)\n",
    "print(x)\n",
    "\n",
    "#use the tuple() function to display a readable version of the result:\n",
    "\n",
    "print(tuple(x))"
   ]
  },
  {
   "cell_type": "code",
   "execution_count": 17,
   "metadata": {},
   "outputs": [
    {
     "name": "stdout",
     "output_type": "stream",
     "text": [
      "<__main__.Student object at 0x0000014737AD9430>\n",
      "welcome Mike Olsen 2019\n",
      "<__main__.Student object at 0x0000014737AD9430>\n",
      "welcome Mike Olsen 2019 Mike Olsen 2019\n",
      "<__main__.Student object at 0x0000014737AD9820>\n",
      "welcome aa bb cc\n",
      "welcome aa cc\n",
      "welcome 5 78\n",
      "welcome 5\n"
     ]
    }
   ],
   "source": [
    "class Person: #parent class\n",
    "  def __init__(self, f, l):\n",
    "    self.firstname = f # only left side data matters which are attributes, we can give any names in main class and sub classes\n",
    "    self.lastname = l # attribute or class variables can be of any name on right side like below in sub class \n",
    "                      #as we will pass the actual names while calling the method or while defining \n",
    "\n",
    "  def printname(self):\n",
    "    print(self.firstname, self.lastname)\n",
    "\n",
    "class Student(Person): #child class\n",
    "  def __init__(self, fname, lname, year):\n",
    "    super().__init__(fname, lname)\n",
    "    self.graduationyear = year\n",
    "   \n",
    " # all the methods below are the instance methods which takes more than one argument\n",
    "\n",
    "  def welcome(self):\n",
    "    print(self)\n",
    "    print(\"welcome\",self.firstname,self.lastname,self.graduationyear) #we have to speak about the variables, what ever we mention only those attributes will get printed\n",
    "\n",
    "  def welcome2(self,h,k):\n",
    "    print(\"welcome\",h) # we no need to print all the variables which we passed but we have to call all the variables while calling a function/method\n",
    "\n",
    "  def welcome4(self,h,k): # we can give different variables in methods and while calling function \n",
    "    print(\"welcome\",h,k) #but methods variables and print variables has to be same but at the end these valves will be overwrited if we call the function by using different variables\n",
    "\n",
    "  def welcome5(self,h,k):\n",
    "    print(\"welcome\",h)\n",
    "    \n",
    "    \n",
    "  def welcome3(self,f):\n",
    "    self.new = f # i may or may not define method variables as self variables in methods but i should define \n",
    "                \n",
    "    print(\"welcome\", \"aa\", f)\n",
    "  def welcome6(self,a,b,c):\n",
    "    print(self)\n",
    "    print(\"welcome\",self.firstname,self.lastname,self.graduationyear,a,b,c) \n",
    " \n",
    " # self variables no need to pass evrytime as they obviously will take as we mention in methods which considers as a 1 argument\n",
    "  # and others it will take as a different arguments\n",
    "    # no of passing variables = no of calling variables\n",
    "    #no of printing variables may != no of passing and calling variables\n",
    "    # indicating or notation of passing variables = indicating or notation of printing variables\n",
    "    # indicating or notation of calling variables = indicating or notation of  variables which are taken in the main block\n",
    "    #only arguments  which are defining in class are considered as a attributes \n",
    "    # instance methods which are defines in methods, which may be defined or may not be defined\n",
    "    \n",
    "x = Student(\"Mike\", \"Olsen\", 2019) # i should call all the arguments which are declared in class\n",
    "y = Student('aa','bb','cc')\n",
    "x.welcome()\n",
    "x.welcome6(\"Mike\", \"Olsen\", 2019) # it should not be like this as in welcome method we have given only one argument or variable self which have attributes, if i mention here any arguments then it throws error \n",
    "y.welcome() # i can not call class attributes in applying method as the attributes are already defined in the class variable self but i can call other parameters which are not class variables inside paranthesis\n",
    "            # if i define it will take as seperate arguments which we have to pass again in method to execute\n",
    "d=5 \n",
    "e=78\n",
    "f=\"bb\"\n",
    "x.welcome3(\"cc\") # i can pass calling variables inside or i can pass the valves itself inside directly provided these variables should not be self attributes\n",
    "x.welcome4(d,e) #calling variables and assigning seperate variables has to be same as calling variables like d and e above\n",
    "#x.welcome5(d) # we have to call all the parameters which we passed in the method\n",
    "x.welcome2(d,e)\n",
    "\n",
    "\n"
   ]
  },
  {
   "cell_type": "code",
   "execution_count": null,
   "metadata": {},
   "outputs": [],
   "source": [
    "18001023858"
   ]
  },
  {
   "cell_type": "code",
   "execution_count": 1,
   "metadata": {},
   "outputs": [
    {
     "name": "stdout",
     "output_type": "stream",
     "text": [
      "enter value x4\n",
      "enter value y5\n",
      "9\n"
     ]
    }
   ],
   "source": [
    "x= int(input('enter value x'))\n",
    "y = int (input('enter value y'))\n",
    "c= x+y\n",
    "print(c)\n",
    "\n"
   ]
  },
  {
   "cell_type": "code",
   "execution_count": 1,
   "metadata": {},
   "outputs": [
    {
     "data": {
      "text/plain": [
       "('work', 12, 4.5, 4.5)"
      ]
     },
     "execution_count": 1,
     "metadata": {},
     "output_type": "execute_result"
    }
   ],
   "source": [
    "t = ('run', 12, 4.5)\n",
    "new_t = ('work',) + t[1:] + t[2:] \n",
    "new_t"
   ]
  },
  {
   "cell_type": "code",
   "execution_count": 7,
   "metadata": {},
   "outputs": [
    {
     "data": {
      "text/plain": [
       "(3, 'Hard work', 'disco')"
      ]
     },
     "execution_count": 7,
     "metadata": {},
     "output_type": "execute_result"
    }
   ],
   "source": [
    "t = (3, 'disco', 12, 4.5)\n",
    "new_t = t[0:1] + ('Hard work',) + t[1:2]\n",
    "new_t"
   ]
  },
  {
   "cell_type": "code",
   "execution_count": 9,
   "metadata": {},
   "outputs": [
    {
     "name": "stdout",
     "output_type": "stream",
     "text": [
      "Please provide a number: 1\n",
      "<class 'int'>\n"
     ]
    }
   ],
   "source": [
    "import ast\n",
    "inp=ast.literal_eval(input('Please provide a number: '))\n",
    "print(type(inp))"
   ]
  },
  {
   "cell_type": "code",
   "execution_count": 2,
   "metadata": {},
   "outputs": [
    {
     "data": {
      "text/plain": [
       "'1, 2, 3, 4, 5, 6, 7, 6, 6, 7 ,India'"
      ]
     },
     "execution_count": 2,
     "metadata": {},
     "output_type": "execute_result"
    }
   ],
   "source": [
    "s = (1,2,3,4,5,6,7,6,6,7)\n",
    "k=str(s)\n",
    "l=k.strip('(')\n",
    "m=l.strip(')')\n",
    "new_s=m+\" \"+\",\"+\"India\"\n",
    "new_s\n",
    "\n",
    "\n",
    "\n",
    "\n"
   ]
  },
  {
   "cell_type": "code",
   "execution_count": 18,
   "metadata": {},
   "outputs": [
    {
     "name": "stdout",
     "output_type": "stream",
     "text": [
      "Help on class str in module builtins:\n",
      "\n",
      "class str(object)\n",
      " |  str(object='') -> str\n",
      " |  str(bytes_or_buffer[, encoding[, errors]]) -> str\n",
      " |  \n",
      " |  Create a new string object from the given object. If encoding or\n",
      " |  errors is specified, then the object must expose a data buffer\n",
      " |  that will be decoded using the given encoding and error handler.\n",
      " |  Otherwise, returns the result of object.__str__() (if defined)\n",
      " |  or repr(object).\n",
      " |  encoding defaults to sys.getdefaultencoding().\n",
      " |  errors defaults to 'strict'.\n",
      " |  \n",
      " |  Methods defined here:\n",
      " |  \n",
      " |  __add__(self, value, /)\n",
      " |      Return self+value.\n",
      " |  \n",
      " |  __contains__(self, key, /)\n",
      " |      Return key in self.\n",
      " |  \n",
      " |  __eq__(self, value, /)\n",
      " |      Return self==value.\n",
      " |  \n",
      " |  __format__(self, format_spec, /)\n",
      " |      Return a formatted version of the string as described by format_spec.\n",
      " |  \n",
      " |  __ge__(self, value, /)\n",
      " |      Return self>=value.\n",
      " |  \n",
      " |  __getattribute__(self, name, /)\n",
      " |      Return getattr(self, name).\n",
      " |  \n",
      " |  __getitem__(self, key, /)\n",
      " |      Return self[key].\n",
      " |  \n",
      " |  __getnewargs__(...)\n",
      " |  \n",
      " |  __gt__(self, value, /)\n",
      " |      Return self>value.\n",
      " |  \n",
      " |  __hash__(self, /)\n",
      " |      Return hash(self).\n",
      " |  \n",
      " |  __iter__(self, /)\n",
      " |      Implement iter(self).\n",
      " |  \n",
      " |  __le__(self, value, /)\n",
      " |      Return self<=value.\n",
      " |  \n",
      " |  __len__(self, /)\n",
      " |      Return len(self).\n",
      " |  \n",
      " |  __lt__(self, value, /)\n",
      " |      Return self<value.\n",
      " |  \n",
      " |  __mod__(self, value, /)\n",
      " |      Return self%value.\n",
      " |  \n",
      " |  __mul__(self, value, /)\n",
      " |      Return self*value.\n",
      " |  \n",
      " |  __ne__(self, value, /)\n",
      " |      Return self!=value.\n",
      " |  \n",
      " |  __repr__(self, /)\n",
      " |      Return repr(self).\n",
      " |  \n",
      " |  __rmod__(self, value, /)\n",
      " |      Return value%self.\n",
      " |  \n",
      " |  __rmul__(self, value, /)\n",
      " |      Return value*self.\n",
      " |  \n",
      " |  __sizeof__(self, /)\n",
      " |      Return the size of the string in memory, in bytes.\n",
      " |  \n",
      " |  __str__(self, /)\n",
      " |      Return str(self).\n",
      " |  \n",
      " |  capitalize(self, /)\n",
      " |      Return a capitalized version of the string.\n",
      " |      \n",
      " |      More specifically, make the first character have upper case and the rest lower\n",
      " |      case.\n",
      " |  \n",
      " |  casefold(self, /)\n",
      " |      Return a version of the string suitable for caseless comparisons.\n",
      " |  \n",
      " |  center(self, width, fillchar=' ', /)\n",
      " |      Return a centered string of length width.\n",
      " |      \n",
      " |      Padding is done using the specified fill character (default is a space).\n",
      " |  \n",
      " |  count(...)\n",
      " |      S.count(sub[, start[, end]]) -> int\n",
      " |      \n",
      " |      Return the number of non-overlapping occurrences of substring sub in\n",
      " |      string S[start:end].  Optional arguments start and end are\n",
      " |      interpreted as in slice notation.\n",
      " |  \n",
      " |  encode(self, /, encoding='utf-8', errors='strict')\n",
      " |      Encode the string using the codec registered for encoding.\n",
      " |      \n",
      " |      encoding\n",
      " |        The encoding in which to encode the string.\n",
      " |      errors\n",
      " |        The error handling scheme to use for encoding errors.\n",
      " |        The default is 'strict' meaning that encoding errors raise a\n",
      " |        UnicodeEncodeError.  Other possible values are 'ignore', 'replace' and\n",
      " |        'xmlcharrefreplace' as well as any other name registered with\n",
      " |        codecs.register_error that can handle UnicodeEncodeErrors.\n",
      " |  \n",
      " |  endswith(...)\n",
      " |      S.endswith(suffix[, start[, end]]) -> bool\n",
      " |      \n",
      " |      Return True if S ends with the specified suffix, False otherwise.\n",
      " |      With optional start, test S beginning at that position.\n",
      " |      With optional end, stop comparing S at that position.\n",
      " |      suffix can also be a tuple of strings to try.\n",
      " |  \n",
      " |  expandtabs(self, /, tabsize=8)\n",
      " |      Return a copy where all tab characters are expanded using spaces.\n",
      " |      \n",
      " |      If tabsize is not given, a tab size of 8 characters is assumed.\n",
      " |  \n",
      " |  find(...)\n",
      " |      S.find(sub[, start[, end]]) -> int\n",
      " |      \n",
      " |      Return the lowest index in S where substring sub is found,\n",
      " |      such that sub is contained within S[start:end].  Optional\n",
      " |      arguments start and end are interpreted as in slice notation.\n",
      " |      \n",
      " |      Return -1 on failure.\n",
      " |  \n",
      " |  format(...)\n",
      " |      S.format(*args, **kwargs) -> str\n",
      " |      \n",
      " |      Return a formatted version of S, using substitutions from args and kwargs.\n",
      " |      The substitutions are identified by braces ('{' and '}').\n",
      " |  \n",
      " |  format_map(...)\n",
      " |      S.format_map(mapping) -> str\n",
      " |      \n",
      " |      Return a formatted version of S, using substitutions from mapping.\n",
      " |      The substitutions are identified by braces ('{' and '}').\n",
      " |  \n",
      " |  index(...)\n",
      " |      S.index(sub[, start[, end]]) -> int\n",
      " |      \n",
      " |      Return the lowest index in S where substring sub is found,\n",
      " |      such that sub is contained within S[start:end].  Optional\n",
      " |      arguments start and end are interpreted as in slice notation.\n",
      " |      \n",
      " |      Raises ValueError when the substring is not found.\n",
      " |  \n",
      " |  isalnum(self, /)\n",
      " |      Return True if the string is an alpha-numeric string, False otherwise.\n",
      " |      \n",
      " |      A string is alpha-numeric if all characters in the string are alpha-numeric and\n",
      " |      there is at least one character in the string.\n",
      " |  \n",
      " |  isalpha(self, /)\n",
      " |      Return True if the string is an alphabetic string, False otherwise.\n",
      " |      \n",
      " |      A string is alphabetic if all characters in the string are alphabetic and there\n",
      " |      is at least one character in the string.\n",
      " |  \n",
      " |  isascii(self, /)\n",
      " |      Return True if all characters in the string are ASCII, False otherwise.\n",
      " |      \n",
      " |      ASCII characters have code points in the range U+0000-U+007F.\n",
      " |      Empty string is ASCII too.\n",
      " |  \n",
      " |  isdecimal(self, /)\n",
      " |      Return True if the string is a decimal string, False otherwise.\n",
      " |      \n",
      " |      A string is a decimal string if all characters in the string are decimal and\n",
      " |      there is at least one character in the string.\n",
      " |  \n",
      " |  isdigit(self, /)\n",
      " |      Return True if the string is a digit string, False otherwise.\n",
      " |      \n",
      " |      A string is a digit string if all characters in the string are digits and there\n",
      " |      is at least one character in the string.\n",
      " |  \n",
      " |  isidentifier(self, /)\n",
      " |      Return True if the string is a valid Python identifier, False otherwise.\n",
      " |      \n",
      " |      Call keyword.iskeyword(s) to test whether string s is a reserved identifier,\n",
      " |      such as \"def\" or \"class\".\n",
      " |  \n",
      " |  islower(self, /)\n",
      " |      Return True if the string is a lowercase string, False otherwise.\n",
      " |      \n",
      " |      A string is lowercase if all cased characters in the string are lowercase and\n",
      " |      there is at least one cased character in the string.\n",
      " |  \n",
      " |  isnumeric(self, /)\n",
      " |      Return True if the string is a numeric string, False otherwise.\n",
      " |      \n",
      " |      A string is numeric if all characters in the string are numeric and there is at\n",
      " |      least one character in the string.\n",
      " |  \n",
      " |  isprintable(self, /)\n",
      " |      Return True if the string is printable, False otherwise.\n",
      " |      \n",
      " |      A string is printable if all of its characters are considered printable in\n",
      " |      repr() or if it is empty.\n",
      " |  \n",
      " |  isspace(self, /)\n",
      " |      Return True if the string is a whitespace string, False otherwise.\n",
      " |      \n",
      " |      A string is whitespace if all characters in the string are whitespace and there\n",
      " |      is at least one character in the string.\n",
      " |  \n",
      " |  istitle(self, /)\n",
      " |      Return True if the string is a title-cased string, False otherwise.\n",
      " |      \n",
      " |      In a title-cased string, upper- and title-case characters may only\n",
      " |      follow uncased characters and lowercase characters only cased ones.\n",
      " |  \n",
      " |  isupper(self, /)\n",
      " |      Return True if the string is an uppercase string, False otherwise.\n",
      " |      \n",
      " |      A string is uppercase if all cased characters in the string are uppercase and\n",
      " |      there is at least one cased character in the string.\n",
      " |  \n",
      " |  join(self, iterable, /)\n",
      " |      Concatenate any number of strings.\n",
      " |      \n",
      " |      The string whose method is called is inserted in between each given string.\n",
      " |      The result is returned as a new string.\n",
      " |      \n",
      " |      Example: '.'.join(['ab', 'pq', 'rs']) -> 'ab.pq.rs'\n",
      " |  \n",
      " |  ljust(self, width, fillchar=' ', /)\n",
      " |      Return a left-justified string of length width.\n",
      " |      \n",
      " |      Padding is done using the specified fill character (default is a space).\n",
      " |  \n",
      " |  lower(self, /)\n",
      " |      Return a copy of the string converted to lowercase.\n",
      " |  \n",
      " |  lstrip(self, chars=None, /)\n",
      " |      Return a copy of the string with leading whitespace removed.\n",
      " |      \n",
      " |      If chars is given and not None, remove characters in chars instead.\n",
      " |  \n",
      " |  partition(self, sep, /)\n",
      " |      Partition the string into three parts using the given separator.\n",
      " |      \n",
      " |      This will search for the separator in the string.  If the separator is found,\n",
      " |      returns a 3-tuple containing the part before the separator, the separator\n",
      " |      itself, and the part after it.\n",
      " |      \n",
      " |      If the separator is not found, returns a 3-tuple containing the original string\n",
      " |      and two empty strings.\n",
      " |  \n",
      " |  replace(self, old, new, count=-1, /)\n",
      " |      Return a copy with all occurrences of substring old replaced by new.\n",
      " |      \n",
      " |        count\n",
      " |          Maximum number of occurrences to replace.\n",
      " |          -1 (the default value) means replace all occurrences.\n",
      " |      \n",
      " |      If the optional argument count is given, only the first count occurrences are\n",
      " |      replaced.\n",
      " |  \n",
      " |  rfind(...)\n",
      " |      S.rfind(sub[, start[, end]]) -> int\n",
      " |      \n",
      " |      Return the highest index in S where substring sub is found,\n",
      " |      such that sub is contained within S[start:end].  Optional\n",
      " |      arguments start and end are interpreted as in slice notation.\n",
      " |      \n",
      " |      Return -1 on failure.\n",
      " |  \n",
      " |  rindex(...)\n",
      " |      S.rindex(sub[, start[, end]]) -> int\n",
      " |      \n",
      " |      Return the highest index in S where substring sub is found,\n",
      " |      such that sub is contained within S[start:end].  Optional\n",
      " |      arguments start and end are interpreted as in slice notation.\n",
      " |      \n",
      " |      Raises ValueError when the substring is not found.\n",
      " |  \n",
      " |  rjust(self, width, fillchar=' ', /)\n",
      " |      Return a right-justified string of length width.\n",
      " |      \n",
      " |      Padding is done using the specified fill character (default is a space).\n",
      " |  \n",
      " |  rpartition(self, sep, /)\n",
      " |      Partition the string into three parts using the given separator.\n",
      " |      \n",
      " |      This will search for the separator in the string, starting at the end. If\n",
      " |      the separator is found, returns a 3-tuple containing the part before the\n",
      " |      separator, the separator itself, and the part after it.\n",
      " |      \n",
      " |      If the separator is not found, returns a 3-tuple containing two empty strings\n",
      " |      and the original string.\n",
      " |  \n",
      " |  rsplit(self, /, sep=None, maxsplit=-1)\n",
      " |      Return a list of the words in the string, using sep as the delimiter string.\n",
      " |      \n",
      " |        sep\n",
      " |          The delimiter according which to split the string.\n",
      " |          None (the default value) means split according to any whitespace,\n",
      " |          and discard empty strings from the result.\n",
      " |        maxsplit\n",
      " |          Maximum number of splits to do.\n",
      " |          -1 (the default value) means no limit.\n",
      " |      \n",
      " |      Splits are done starting at the end of the string and working to the front.\n",
      " |  \n",
      " |  rstrip(self, chars=None, /)\n",
      " |      Return a copy of the string with trailing whitespace removed.\n",
      " |      \n",
      " |      If chars is given and not None, remove characters in chars instead.\n",
      " |  \n",
      " |  split(self, /, sep=None, maxsplit=-1)\n",
      " |      Return a list of the words in the string, using sep as the delimiter string.\n",
      " |      \n",
      " |      sep\n",
      " |        The delimiter according which to split the string.\n",
      " |        None (the default value) means split according to any whitespace,\n",
      " |        and discard empty strings from the result.\n",
      " |      maxsplit\n",
      " |        Maximum number of splits to do.\n",
      " |        -1 (the default value) means no limit.\n",
      " |  \n",
      " |  splitlines(self, /, keepends=False)\n",
      " |      Return a list of the lines in the string, breaking at line boundaries.\n",
      " |      \n",
      " |      Line breaks are not included in the resulting list unless keepends is given and\n",
      " |      true.\n",
      " |  \n",
      " |  startswith(...)\n",
      " |      S.startswith(prefix[, start[, end]]) -> bool\n",
      " |      \n",
      " |      Return True if S starts with the specified prefix, False otherwise.\n",
      " |      With optional start, test S beginning at that position.\n",
      " |      With optional end, stop comparing S at that position.\n",
      " |      prefix can also be a tuple of strings to try.\n",
      " |  \n",
      " |  strip(self, chars=None, /)\n",
      " |      Return a copy of the string with leading and trailing whitespace removed.\n",
      " |      \n",
      " |      If chars is given and not None, remove characters in chars instead.\n",
      " |  \n",
      " |  swapcase(self, /)\n",
      " |      Convert uppercase characters to lowercase and lowercase characters to uppercase.\n",
      " |  \n",
      " |  title(self, /)\n",
      " |      Return a version of the string where each word is titlecased.\n",
      " |      \n",
      " |      More specifically, words start with uppercased characters and all remaining\n",
      " |      cased characters have lower case.\n",
      " |  \n",
      " |  translate(self, table, /)\n",
      " |      Replace each character in the string using the given translation table.\n",
      " |      \n",
      " |        table\n",
      " |          Translation table, which must be a mapping of Unicode ordinals to\n",
      " |          Unicode ordinals, strings, or None.\n",
      " |      \n",
      " |      The table must implement lookup/indexing via __getitem__, for instance a\n",
      " |      dictionary or list.  If this operation raises LookupError, the character is\n",
      " |      left untouched.  Characters mapped to None are deleted.\n",
      " |  \n",
      " |  upper(self, /)\n",
      " |      Return a copy of the string converted to uppercase.\n",
      " |  \n",
      " |  zfill(self, width, /)\n",
      " |      Pad a numeric string with zeros on the left, to fill a field of the given width.\n",
      " |      \n",
      " |      The string is never truncated.\n",
      " |  \n",
      " |  ----------------------------------------------------------------------\n",
      " |  Static methods defined here:\n",
      " |  \n",
      " |  __new__(*args, **kwargs) from builtins.type\n",
      " |      Create and return a new object.  See help(type) for accurate signature.\n",
      " |  \n",
      " |  maketrans(...)\n",
      " |      Return a translation table usable for str.translate().\n",
      " |      \n",
      " |      If there is only one argument, it must be a dictionary mapping Unicode\n",
      " |      ordinals (integers) or characters to Unicode ordinals, strings or None.\n",
      " |      Character keys will be then converted to ordinals.\n",
      " |      If there are two arguments, they must be strings of equal length, and\n",
      " |      in the resulting dictionary, each character in x will be mapped to the\n",
      " |      character at the same position in y. If there is a third argument, it\n",
      " |      must be a string, whose characters will be mapped to None in the result.\n",
      "\n"
     ]
    }
   ],
   "source": [
    "help(str)\n"
   ]
  },
  {
   "cell_type": "code",
   "execution_count": 4,
   "metadata": {},
   "outputs": [
    {
     "name": "stdout",
     "output_type": "stream",
     "text": [
      "india & america\n"
     ]
    }
   ],
   "source": [
    "\n",
    "str1='india','america'\n",
    "string_new = ' & '.join(str1)\n",
    "print(string_new)"
   ]
  },
  {
   "cell_type": "code",
   "execution_count": 45,
   "metadata": {},
   "outputs": [
    {
     "data": {
      "text/plain": [
       "1"
      ]
     },
     "execution_count": 45,
     "metadata": {},
     "output_type": "execute_result"
    }
   ],
   "source": [
    "((500//7) % 5) ** 3"
   ]
  },
  {
   "cell_type": "code",
   "execution_count": 48,
   "metadata": {},
   "outputs": [
    {
     "name": "stdout",
     "output_type": "stream",
     "text": [
      "love\n",
      "love\n"
     ]
    }
   ],
   "source": [
    "S = \"I love Python\"\n",
    "print(S[2:6])\n",
    "print(S[-11:-7])"
   ]
  },
  {
   "cell_type": "code",
   "execution_count": 49,
   "metadata": {},
   "outputs": [
    {
     "data": {
      "text/plain": [
       "81"
      ]
     },
     "execution_count": 49,
     "metadata": {},
     "output_type": "execute_result"
    }
   ],
   "source": [
    "3 * 3 ** 3"
   ]
  },
  {
   "cell_type": "code",
   "execution_count": 50,
   "metadata": {},
   "outputs": [
    {
     "ename": "AttributeError",
     "evalue": "'tuple' object has no attribute 'append'",
     "output_type": "error",
     "traceback": [
      "\u001b[1;31m---------------------------------------------------------------------------\u001b[0m",
      "\u001b[1;31mAttributeError\u001b[0m                            Traceback (most recent call last)",
      "\u001b[1;32m<ipython-input-50-9d8c21e3c639>\u001b[0m in \u001b[0;36m<module>\u001b[1;34m\u001b[0m\n\u001b[0;32m      1\u001b[0m \u001b[0mT\u001b[0m \u001b[1;33m=\u001b[0m \u001b[1;33m(\u001b[0m\u001b[1;36m3\u001b[0m\u001b[1;33m,\u001b[0m \u001b[1;36m5\u001b[0m\u001b[1;33m,\u001b[0m \u001b[1;36m7\u001b[0m\u001b[1;33m,\u001b[0m \u001b[1;36m11\u001b[0m\u001b[1;33m)\u001b[0m\u001b[1;33m\u001b[0m\u001b[1;33m\u001b[0m\u001b[0m\n\u001b[1;32m----> 2\u001b[1;33m \u001b[0mT\u001b[0m\u001b[1;33m.\u001b[0m\u001b[0mappend\u001b[0m\u001b[1;33m(\u001b[0m\u001b[1;36m9\u001b[0m\u001b[1;33m)\u001b[0m\u001b[1;33m\u001b[0m\u001b[1;33m\u001b[0m\u001b[0m\n\u001b[0m",
      "\u001b[1;31mAttributeError\u001b[0m: 'tuple' object has no attribute 'append'"
     ]
    }
   ],
   "source": [
    "T = (3, 5, 7, 11)\n",
    "T.append(9)"
   ]
  },
  {
   "cell_type": "code",
   "execution_count": 51,
   "metadata": {},
   "outputs": [
    {
     "name": "stdout",
     "output_type": "stream",
     "text": [
      "y\n"
     ]
    }
   ],
   "source": [
    "L1 = ['Vikas', 'Akshay', 'Sanskar', 'Mahima']\n",
    "print(L1[1][-1])"
   ]
  },
  {
   "cell_type": "code",
   "execution_count": 52,
   "metadata": {},
   "outputs": [
    {
     "name": "stdout",
     "output_type": "stream",
     "text": [
      "6\n"
     ]
    }
   ],
   "source": [
    "l = [32, 34, 12, 27, 33]\n",
    "l.append([14, 19])\n",
    "print(len(l))"
   ]
  },
  {
   "cell_type": "code",
   "execution_count": 53,
   "metadata": {},
   "outputs": [
    {
     "name": "stdout",
     "output_type": "stream",
     "text": [
      "1\n",
      "2\n",
      "3\n"
     ]
    }
   ],
   "source": [
    "D = {1:['Raj', 22], 2:['Simran', 21], 3:['Rahul', 40]}\n",
    "for val in D:\n",
    "     print(val)"
   ]
  },
  {
   "cell_type": "code",
   "execution_count": 54,
   "metadata": {},
   "outputs": [
    {
     "ename": "NameError",
     "evalue": "name 'paragraph' is not defined",
     "output_type": "error",
     "traceback": [
      "\u001b[1;31m---------------------------------------------------------------------------\u001b[0m",
      "\u001b[1;31mNameError\u001b[0m                                 Traceback (most recent call last)",
      "\u001b[1;32m<ipython-input-54-53fdd3c097f6>\u001b[0m in \u001b[0;36m<module>\u001b[1;34m\u001b[0m\n\u001b[1;32m----> 1\u001b[1;33m \u001b[1;32mfor\u001b[0m \u001b[0msentence\u001b[0m \u001b[1;32min\u001b[0m \u001b[0mparagraph\u001b[0m\u001b[1;33m:\u001b[0m\u001b[1;33m\u001b[0m\u001b[1;33m\u001b[0m\u001b[0m\n\u001b[0m\u001b[0;32m      2\u001b[0m     \u001b[1;32mfor\u001b[0m \u001b[0mword\u001b[0m \u001b[1;32min\u001b[0m \u001b[0msentence\u001b[0m\u001b[1;33m.\u001b[0m\u001b[0msplit\u001b[0m\u001b[1;33m(\u001b[0m\u001b[1;33m)\u001b[0m\u001b[1;33m:\u001b[0m\u001b[1;33m\u001b[0m\u001b[1;33m\u001b[0m\u001b[0m\n\u001b[0;32m      3\u001b[0m         \u001b[0msingle_word_list\u001b[0m\u001b[1;33m.\u001b[0m\u001b[0mappend\u001b[0m\u001b[1;33m(\u001b[0m\u001b[0mword\u001b[0m\u001b[1;33m)\u001b[0m\u001b[1;33m\u001b[0m\u001b[1;33m\u001b[0m\u001b[0m\n",
      "\u001b[1;31mNameError\u001b[0m: name 'paragraph' is not defined"
     ]
    }
   ],
   "source": [
    "for sentence in paragraph:\n",
    "    for word in sentence.split():\n",
    "        single_word_list.append(word)"
   ]
  },
  {
   "cell_type": "code",
   "execution_count": 55,
   "metadata": {},
   "outputs": [
    {
     "name": "stdout",
     "output_type": "stream",
     "text": [
      "[10, 9, 8, 7, 6, 5, 4, 3, 2]\n"
     ]
    }
   ],
   "source": [
    "print(list(range(10, 1, -1)))"
   ]
  },
  {
   "cell_type": "code",
   "execution_count": 13,
   "metadata": {},
   "outputs": [
    {
     "ename": "KeyboardInterrupt",
     "evalue": "Interrupted by user",
     "output_type": "error",
     "traceback": [
      "\u001b[1;31m---------------------------------------------------------------------------\u001b[0m",
      "\u001b[1;31mKeyboardInterrupt\u001b[0m                         Traceback (most recent call last)",
      "\u001b[1;32m<ipython-input-13-9939e128f334>\u001b[0m in \u001b[0;36m<module>\u001b[1;34m\u001b[0m\n\u001b[1;32m----> 1\u001b[1;33m \u001b[0mi\u001b[0m\u001b[1;33m=\u001b[0m\u001b[0minput\u001b[0m\u001b[1;33m(\u001b[0m\u001b[1;34m\"please enter values of a,b,c:\"\u001b[0m\u001b[1;33m)\u001b[0m\u001b[1;33m\u001b[0m\u001b[1;33m\u001b[0m\u001b[0m\n\u001b[0m\u001b[0;32m      2\u001b[0m \u001b[0ma\u001b[0m\u001b[1;33m,\u001b[0m\u001b[0mb\u001b[0m\u001b[1;33m,\u001b[0m\u001b[0mc\u001b[0m \u001b[1;33m=\u001b[0m \u001b[0mi\u001b[0m\u001b[1;33m.\u001b[0m\u001b[0msplit\u001b[0m\u001b[1;33m(\u001b[0m\u001b[1;33m)\u001b[0m\u001b[1;33m\u001b[0m\u001b[1;33m\u001b[0m\u001b[0m\n\u001b[0;32m      3\u001b[0m \u001b[0ma\u001b[0m \u001b[1;33m=\u001b[0m \u001b[0mint\u001b[0m\u001b[1;33m(\u001b[0m\u001b[0ma\u001b[0m\u001b[1;33m)\u001b[0m\u001b[1;33m\u001b[0m\u001b[1;33m\u001b[0m\u001b[0m\n\u001b[0;32m      4\u001b[0m \u001b[0mb\u001b[0m \u001b[1;33m=\u001b[0m \u001b[0mint\u001b[0m\u001b[1;33m(\u001b[0m\u001b[0mb\u001b[0m\u001b[1;33m)\u001b[0m\u001b[1;33m\u001b[0m\u001b[1;33m\u001b[0m\u001b[0m\n\u001b[0;32m      5\u001b[0m \u001b[0mc\u001b[0m \u001b[1;33m=\u001b[0m \u001b[0mint\u001b[0m\u001b[1;33m(\u001b[0m\u001b[0mc\u001b[0m\u001b[1;33m)\u001b[0m\u001b[1;33m\u001b[0m\u001b[1;33m\u001b[0m\u001b[0m\n",
      "\u001b[1;32m~\\anaconda3\\lib\\site-packages\\ipykernel\\kernelbase.py\u001b[0m in \u001b[0;36mraw_input\u001b[1;34m(self, prompt)\u001b[0m\n\u001b[0;32m    858\u001b[0m                 \u001b[1;34m\"raw_input was called, but this frontend does not support input requests.\"\u001b[0m\u001b[1;33m\u001b[0m\u001b[1;33m\u001b[0m\u001b[0m\n\u001b[0;32m    859\u001b[0m             )\n\u001b[1;32m--> 860\u001b[1;33m         return self._input_request(str(prompt),\n\u001b[0m\u001b[0;32m    861\u001b[0m             \u001b[0mself\u001b[0m\u001b[1;33m.\u001b[0m\u001b[0m_parent_ident\u001b[0m\u001b[1;33m,\u001b[0m\u001b[1;33m\u001b[0m\u001b[1;33m\u001b[0m\u001b[0m\n\u001b[0;32m    862\u001b[0m             \u001b[0mself\u001b[0m\u001b[1;33m.\u001b[0m\u001b[0m_parent_header\u001b[0m\u001b[1;33m,\u001b[0m\u001b[1;33m\u001b[0m\u001b[1;33m\u001b[0m\u001b[0m\n",
      "\u001b[1;32m~\\anaconda3\\lib\\site-packages\\ipykernel\\kernelbase.py\u001b[0m in \u001b[0;36m_input_request\u001b[1;34m(self, prompt, ident, parent, password)\u001b[0m\n\u001b[0;32m    902\u001b[0m             \u001b[1;32mexcept\u001b[0m \u001b[0mKeyboardInterrupt\u001b[0m\u001b[1;33m:\u001b[0m\u001b[1;33m\u001b[0m\u001b[1;33m\u001b[0m\u001b[0m\n\u001b[0;32m    903\u001b[0m                 \u001b[1;31m# re-raise KeyboardInterrupt, to truncate traceback\u001b[0m\u001b[1;33m\u001b[0m\u001b[1;33m\u001b[0m\u001b[1;33m\u001b[0m\u001b[0m\n\u001b[1;32m--> 904\u001b[1;33m                 \u001b[1;32mraise\u001b[0m \u001b[0mKeyboardInterrupt\u001b[0m\u001b[1;33m(\u001b[0m\u001b[1;34m\"Interrupted by user\"\u001b[0m\u001b[1;33m)\u001b[0m \u001b[1;32mfrom\u001b[0m \u001b[1;32mNone\u001b[0m\u001b[1;33m\u001b[0m\u001b[1;33m\u001b[0m\u001b[0m\n\u001b[0m\u001b[0;32m    905\u001b[0m             \u001b[1;32mexcept\u001b[0m \u001b[0mException\u001b[0m \u001b[1;32mas\u001b[0m \u001b[0me\u001b[0m\u001b[1;33m:\u001b[0m\u001b[1;33m\u001b[0m\u001b[1;33m\u001b[0m\u001b[0m\n\u001b[0;32m    906\u001b[0m                 \u001b[0mself\u001b[0m\u001b[1;33m.\u001b[0m\u001b[0mlog\u001b[0m\u001b[1;33m.\u001b[0m\u001b[0mwarning\u001b[0m\u001b[1;33m(\u001b[0m\u001b[1;34m\"Invalid Message:\"\u001b[0m\u001b[1;33m,\u001b[0m \u001b[0mexc_info\u001b[0m\u001b[1;33m=\u001b[0m\u001b[1;32mTrue\u001b[0m\u001b[1;33m)\u001b[0m\u001b[1;33m\u001b[0m\u001b[1;33m\u001b[0m\u001b[0m\n",
      "\u001b[1;31mKeyboardInterrupt\u001b[0m: Interrupted by user"
     ]
    }
   ],
   "source": [
    "a,b,c= input().split()\n",
    "a = int(a)\n",
    "b = int(b)\n",
    "c = int(c)\n",
    "if a+b>c and b+c>a and c+a>b:\n",
    "    print(\"triangle is valid\")\n",
    "else:\n",
    "    print(\"triangle is invalid\")\n",
    "\n"
   ]
  },
  {
   "cell_type": "code",
   "execution_count": 4,
   "metadata": {},
   "outputs": [
    {
     "name": "stdout",
     "output_type": "stream",
     "text": [
      "Help on class str in module builtins:\n",
      "\n",
      "class str(object)\n",
      " |  str(object='') -> str\n",
      " |  str(bytes_or_buffer[, encoding[, errors]]) -> str\n",
      " |  \n",
      " |  Create a new string object from the given object. If encoding or\n",
      " |  errors is specified, then the object must expose a data buffer\n",
      " |  that will be decoded using the given encoding and error handler.\n",
      " |  Otherwise, returns the result of object.__str__() (if defined)\n",
      " |  or repr(object).\n",
      " |  encoding defaults to sys.getdefaultencoding().\n",
      " |  errors defaults to 'strict'.\n",
      " |  \n",
      " |  Methods defined here:\n",
      " |  \n",
      " |  __add__(self, value, /)\n",
      " |      Return self+value.\n",
      " |  \n",
      " |  __contains__(self, key, /)\n",
      " |      Return key in self.\n",
      " |  \n",
      " |  __eq__(self, value, /)\n",
      " |      Return self==value.\n",
      " |  \n",
      " |  __format__(self, format_spec, /)\n",
      " |      Return a formatted version of the string as described by format_spec.\n",
      " |  \n",
      " |  __ge__(self, value, /)\n",
      " |      Return self>=value.\n",
      " |  \n",
      " |  __getattribute__(self, name, /)\n",
      " |      Return getattr(self, name).\n",
      " |  \n",
      " |  __getitem__(self, key, /)\n",
      " |      Return self[key].\n",
      " |  \n",
      " |  __getnewargs__(...)\n",
      " |  \n",
      " |  __gt__(self, value, /)\n",
      " |      Return self>value.\n",
      " |  \n",
      " |  __hash__(self, /)\n",
      " |      Return hash(self).\n",
      " |  \n",
      " |  __iter__(self, /)\n",
      " |      Implement iter(self).\n",
      " |  \n",
      " |  __le__(self, value, /)\n",
      " |      Return self<=value.\n",
      " |  \n",
      " |  __len__(self, /)\n",
      " |      Return len(self).\n",
      " |  \n",
      " |  __lt__(self, value, /)\n",
      " |      Return self<value.\n",
      " |  \n",
      " |  __mod__(self, value, /)\n",
      " |      Return self%value.\n",
      " |  \n",
      " |  __mul__(self, value, /)\n",
      " |      Return self*value.\n",
      " |  \n",
      " |  __ne__(self, value, /)\n",
      " |      Return self!=value.\n",
      " |  \n",
      " |  __repr__(self, /)\n",
      " |      Return repr(self).\n",
      " |  \n",
      " |  __rmod__(self, value, /)\n",
      " |      Return value%self.\n",
      " |  \n",
      " |  __rmul__(self, value, /)\n",
      " |      Return value*self.\n",
      " |  \n",
      " |  __sizeof__(self, /)\n",
      " |      Return the size of the string in memory, in bytes.\n",
      " |  \n",
      " |  __str__(self, /)\n",
      " |      Return str(self).\n",
      " |  \n",
      " |  capitalize(self, /)\n",
      " |      Return a capitalized version of the string.\n",
      " |      \n",
      " |      More specifically, make the first character have upper case and the rest lower\n",
      " |      case.\n",
      " |  \n",
      " |  casefold(self, /)\n",
      " |      Return a version of the string suitable for caseless comparisons.\n",
      " |  \n",
      " |  center(self, width, fillchar=' ', /)\n",
      " |      Return a centered string of length width.\n",
      " |      \n",
      " |      Padding is done using the specified fill character (default is a space).\n",
      " |  \n",
      " |  count(...)\n",
      " |      S.count(sub[, start[, end]]) -> int\n",
      " |      \n",
      " |      Return the number of non-overlapping occurrences of substring sub in\n",
      " |      string S[start:end].  Optional arguments start and end are\n",
      " |      interpreted as in slice notation.\n",
      " |  \n",
      " |  encode(self, /, encoding='utf-8', errors='strict')\n",
      " |      Encode the string using the codec registered for encoding.\n",
      " |      \n",
      " |      encoding\n",
      " |        The encoding in which to encode the string.\n",
      " |      errors\n",
      " |        The error handling scheme to use for encoding errors.\n",
      " |        The default is 'strict' meaning that encoding errors raise a\n",
      " |        UnicodeEncodeError.  Other possible values are 'ignore', 'replace' and\n",
      " |        'xmlcharrefreplace' as well as any other name registered with\n",
      " |        codecs.register_error that can handle UnicodeEncodeErrors.\n",
      " |  \n",
      " |  endswith(...)\n",
      " |      S.endswith(suffix[, start[, end]]) -> bool\n",
      " |      \n",
      " |      Return True if S ends with the specified suffix, False otherwise.\n",
      " |      With optional start, test S beginning at that position.\n",
      " |      With optional end, stop comparing S at that position.\n",
      " |      suffix can also be a tuple of strings to try.\n",
      " |  \n",
      " |  expandtabs(self, /, tabsize=8)\n",
      " |      Return a copy where all tab characters are expanded using spaces.\n",
      " |      \n",
      " |      If tabsize is not given, a tab size of 8 characters is assumed.\n",
      " |  \n",
      " |  find(...)\n",
      " |      S.find(sub[, start[, end]]) -> int\n",
      " |      \n",
      " |      Return the lowest index in S where substring sub is found,\n",
      " |      such that sub is contained within S[start:end].  Optional\n",
      " |      arguments start and end are interpreted as in slice notation.\n",
      " |      \n",
      " |      Return -1 on failure.\n",
      " |  \n",
      " |  format(...)\n",
      " |      S.format(*args, **kwargs) -> str\n",
      " |      \n",
      " |      Return a formatted version of S, using substitutions from args and kwargs.\n",
      " |      The substitutions are identified by braces ('{' and '}').\n",
      " |  \n",
      " |  format_map(...)\n",
      " |      S.format_map(mapping) -> str\n",
      " |      \n",
      " |      Return a formatted version of S, using substitutions from mapping.\n",
      " |      The substitutions are identified by braces ('{' and '}').\n",
      " |  \n",
      " |  index(...)\n",
      " |      S.index(sub[, start[, end]]) -> int\n",
      " |      \n",
      " |      Return the lowest index in S where substring sub is found,\n",
      " |      such that sub is contained within S[start:end].  Optional\n",
      " |      arguments start and end are interpreted as in slice notation.\n",
      " |      \n",
      " |      Raises ValueError when the substring is not found.\n",
      " |  \n",
      " |  isalnum(self, /)\n",
      " |      Return True if the string is an alpha-numeric string, False otherwise.\n",
      " |      \n",
      " |      A string is alpha-numeric if all characters in the string are alpha-numeric and\n",
      " |      there is at least one character in the string.\n",
      " |  \n",
      " |  isalpha(self, /)\n",
      " |      Return True if the string is an alphabetic string, False otherwise.\n",
      " |      \n",
      " |      A string is alphabetic if all characters in the string are alphabetic and there\n",
      " |      is at least one character in the string.\n",
      " |  \n",
      " |  isascii(self, /)\n",
      " |      Return True if all characters in the string are ASCII, False otherwise.\n",
      " |      \n",
      " |      ASCII characters have code points in the range U+0000-U+007F.\n",
      " |      Empty string is ASCII too.\n",
      " |  \n",
      " |  isdecimal(self, /)\n",
      " |      Return True if the string is a decimal string, False otherwise.\n",
      " |      \n",
      " |      A string is a decimal string if all characters in the string are decimal and\n",
      " |      there is at least one character in the string.\n",
      " |  \n",
      " |  isdigit(self, /)\n",
      " |      Return True if the string is a digit string, False otherwise.\n",
      " |      \n",
      " |      A string is a digit string if all characters in the string are digits and there\n",
      " |      is at least one character in the string.\n",
      " |  \n",
      " |  isidentifier(self, /)\n",
      " |      Return True if the string is a valid Python identifier, False otherwise.\n",
      " |      \n",
      " |      Call keyword.iskeyword(s) to test whether string s is a reserved identifier,\n",
      " |      such as \"def\" or \"class\".\n",
      " |  \n",
      " |  islower(self, /)\n",
      " |      Return True if the string is a lowercase string, False otherwise.\n",
      " |      \n",
      " |      A string is lowercase if all cased characters in the string are lowercase and\n",
      " |      there is at least one cased character in the string.\n",
      " |  \n",
      " |  isnumeric(self, /)\n",
      " |      Return True if the string is a numeric string, False otherwise.\n",
      " |      \n",
      " |      A string is numeric if all characters in the string are numeric and there is at\n",
      " |      least one character in the string.\n",
      " |  \n",
      " |  isprintable(self, /)\n",
      " |      Return True if the string is printable, False otherwise.\n",
      " |      \n",
      " |      A string is printable if all of its characters are considered printable in\n",
      " |      repr() or if it is empty.\n",
      " |  \n",
      " |  isspace(self, /)\n",
      " |      Return True if the string is a whitespace string, False otherwise.\n",
      " |      \n",
      " |      A string is whitespace if all characters in the string are whitespace and there\n",
      " |      is at least one character in the string.\n",
      " |  \n",
      " |  istitle(self, /)\n",
      " |      Return True if the string is a title-cased string, False otherwise.\n",
      " |      \n",
      " |      In a title-cased string, upper- and title-case characters may only\n",
      " |      follow uncased characters and lowercase characters only cased ones.\n",
      " |  \n",
      " |  isupper(self, /)\n",
      " |      Return True if the string is an uppercase string, False otherwise.\n",
      " |      \n",
      " |      A string is uppercase if all cased characters in the string are uppercase and\n",
      " |      there is at least one cased character in the string.\n",
      " |  \n",
      " |  join(self, iterable, /)\n",
      " |      Concatenate any number of strings.\n",
      " |      \n",
      " |      The string whose method is called is inserted in between each given string.\n",
      " |      The result is returned as a new string.\n",
      " |      \n",
      " |      Example: '.'.join(['ab', 'pq', 'rs']) -> 'ab.pq.rs'\n",
      " |  \n",
      " |  ljust(self, width, fillchar=' ', /)\n",
      " |      Return a left-justified string of length width.\n",
      " |      \n",
      " |      Padding is done using the specified fill character (default is a space).\n",
      " |  \n",
      " |  lower(self, /)\n",
      " |      Return a copy of the string converted to lowercase.\n",
      " |  \n",
      " |  lstrip(self, chars=None, /)\n",
      " |      Return a copy of the string with leading whitespace removed.\n",
      " |      \n",
      " |      If chars is given and not None, remove characters in chars instead.\n",
      " |  \n",
      " |  partition(self, sep, /)\n",
      " |      Partition the string into three parts using the given separator.\n",
      " |      \n",
      " |      This will search for the separator in the string.  If the separator is found,\n",
      " |      returns a 3-tuple containing the part before the separator, the separator\n",
      " |      itself, and the part after it.\n",
      " |      \n",
      " |      If the separator is not found, returns a 3-tuple containing the original string\n",
      " |      and two empty strings.\n",
      " |  \n",
      " |  replace(self, old, new, count=-1, /)\n",
      " |      Return a copy with all occurrences of substring old replaced by new.\n",
      " |      \n",
      " |        count\n",
      " |          Maximum number of occurrences to replace.\n",
      " |          -1 (the default value) means replace all occurrences.\n",
      " |      \n",
      " |      If the optional argument count is given, only the first count occurrences are\n",
      " |      replaced.\n",
      " |  \n",
      " |  rfind(...)\n",
      " |      S.rfind(sub[, start[, end]]) -> int\n",
      " |      \n",
      " |      Return the highest index in S where substring sub is found,\n",
      " |      such that sub is contained within S[start:end].  Optional\n",
      " |      arguments start and end are interpreted as in slice notation.\n",
      " |      \n",
      " |      Return -1 on failure.\n",
      " |  \n",
      " |  rindex(...)\n",
      " |      S.rindex(sub[, start[, end]]) -> int\n",
      " |      \n",
      " |      Return the highest index in S where substring sub is found,\n",
      " |      such that sub is contained within S[start:end].  Optional\n",
      " |      arguments start and end are interpreted as in slice notation.\n",
      " |      \n",
      " |      Raises ValueError when the substring is not found.\n",
      " |  \n",
      " |  rjust(self, width, fillchar=' ', /)\n",
      " |      Return a right-justified string of length width.\n",
      " |      \n",
      " |      Padding is done using the specified fill character (default is a space).\n",
      " |  \n",
      " |  rpartition(self, sep, /)\n",
      " |      Partition the string into three parts using the given separator.\n",
      " |      \n",
      " |      This will search for the separator in the string, starting at the end. If\n",
      " |      the separator is found, returns a 3-tuple containing the part before the\n",
      " |      separator, the separator itself, and the part after it.\n",
      " |      \n",
      " |      If the separator is not found, returns a 3-tuple containing two empty strings\n",
      " |      and the original string.\n",
      " |  \n",
      " |  rsplit(self, /, sep=None, maxsplit=-1)\n",
      " |      Return a list of the words in the string, using sep as the delimiter string.\n",
      " |      \n",
      " |        sep\n",
      " |          The delimiter according which to split the string.\n",
      " |          None (the default value) means split according to any whitespace,\n",
      " |          and discard empty strings from the result.\n",
      " |        maxsplit\n",
      " |          Maximum number of splits to do.\n",
      " |          -1 (the default value) means no limit.\n",
      " |      \n",
      " |      Splits are done starting at the end of the string and working to the front.\n",
      " |  \n",
      " |  rstrip(self, chars=None, /)\n",
      " |      Return a copy of the string with trailing whitespace removed.\n",
      " |      \n",
      " |      If chars is given and not None, remove characters in chars instead.\n",
      " |  \n",
      " |  split(self, /, sep=None, maxsplit=-1)\n",
      " |      Return a list of the words in the string, using sep as the delimiter string.\n",
      " |      \n",
      " |      sep\n",
      " |        The delimiter according which to split the string.\n",
      " |        None (the default value) means split according to any whitespace,\n",
      " |        and discard empty strings from the result.\n",
      " |      maxsplit\n",
      " |        Maximum number of splits to do.\n",
      " |        -1 (the default value) means no limit.\n",
      " |  \n",
      " |  splitlines(self, /, keepends=False)\n",
      " |      Return a list of the lines in the string, breaking at line boundaries.\n",
      " |      \n",
      " |      Line breaks are not included in the resulting list unless keepends is given and\n",
      " |      true.\n",
      " |  \n",
      " |  startswith(...)\n",
      " |      S.startswith(prefix[, start[, end]]) -> bool\n",
      " |      \n",
      " |      Return True if S starts with the specified prefix, False otherwise.\n",
      " |      With optional start, test S beginning at that position.\n",
      " |      With optional end, stop comparing S at that position.\n",
      " |      prefix can also be a tuple of strings to try.\n",
      " |  \n",
      " |  strip(self, chars=None, /)\n",
      " |      Return a copy of the string with leading and trailing whitespace removed.\n",
      " |      \n",
      " |      If chars is given and not None, remove characters in chars instead.\n",
      " |  \n",
      " |  swapcase(self, /)\n",
      " |      Convert uppercase characters to lowercase and lowercase characters to uppercase.\n",
      " |  \n",
      " |  title(self, /)\n",
      " |      Return a version of the string where each word is titlecased.\n",
      " |      \n",
      " |      More specifically, words start with uppercased characters and all remaining\n",
      " |      cased characters have lower case.\n",
      " |  \n",
      " |  translate(self, table, /)\n",
      " |      Replace each character in the string using the given translation table.\n",
      " |      \n",
      " |        table\n",
      " |          Translation table, which must be a mapping of Unicode ordinals to\n",
      " |          Unicode ordinals, strings, or None.\n",
      " |      \n",
      " |      The table must implement lookup/indexing via __getitem__, for instance a\n",
      " |      dictionary or list.  If this operation raises LookupError, the character is\n",
      " |      left untouched.  Characters mapped to None are deleted.\n",
      " |  \n",
      " |  upper(self, /)\n",
      " |      Return a copy of the string converted to uppercase.\n",
      " |  \n",
      " |  zfill(self, width, /)\n",
      " |      Pad a numeric string with zeros on the left, to fill a field of the given width.\n",
      " |      \n",
      " |      The string is never truncated.\n",
      " |  \n",
      " |  ----------------------------------------------------------------------\n",
      " |  Static methods defined here:\n",
      " |  \n",
      " |  __new__(*args, **kwargs) from builtins.type\n",
      " |      Create and return a new object.  See help(type) for accurate signature.\n",
      " |  \n",
      " |  maketrans(...)\n",
      " |      Return a translation table usable for str.translate().\n",
      " |      \n",
      " |      If there is only one argument, it must be a dictionary mapping Unicode\n",
      " |      ordinals (integers) or characters to Unicode ordinals, strings or None.\n",
      " |      Character keys will be then converted to ordinals.\n",
      " |      If there are two arguments, they must be strings of equal length, and\n",
      " |      in the resulting dictionary, each character in x will be mapped to the\n",
      " |      character at the same position in y. If there is a third argument, it\n",
      " |      must be a string, whose characters will be mapped to None in the result.\n",
      "\n"
     ]
    }
   ],
   "source": [
    "help(str)\n",
    "\n"
   ]
  },
  {
   "cell_type": "code",
   "execution_count": 1,
   "metadata": {},
   "outputs": [
    {
     "name": "stdout",
     "output_type": "stream",
     "text": [
      "['ramya', 'pavanraghu']\n"
     ]
    }
   ],
   "source": [
    "a=\"ramya#pavanraghu\"\n",
    "b=a.split(\"#\",1)\n",
    "print(b)"
   ]
  },
  {
   "cell_type": "code",
   "execution_count": 14,
   "metadata": {},
   "outputs": [
    {
     "name": "stdout",
     "output_type": "stream",
     "text": [
      "please enter number:9\n",
      "<class 'str'>\n"
     ]
    }
   ],
   "source": [
    "inp=input(\"please enter number:\")\n",
    "print(type(inp))"
   ]
  },
  {
   "cell_type": "code",
   "execution_count": 21,
   "metadata": {},
   "outputs": [
    {
     "name": "stdout",
     "output_type": "stream",
     "text": [
      "please enter number:a\n"
     ]
    },
    {
     "ename": "ValueError",
     "evalue": "malformed node or string: <_ast.Name object at 0x0000021ECF8CD370>",
     "output_type": "error",
     "traceback": [
      "\u001b[1;31m---------------------------------------------------------------------------\u001b[0m",
      "\u001b[1;31mValueError\u001b[0m                                Traceback (most recent call last)",
      "\u001b[1;32m<ipython-input-21-cc5ccfb1812d>\u001b[0m in \u001b[0;36m<module>\u001b[1;34m\u001b[0m\n\u001b[0;32m      4\u001b[0m \u001b[1;31m#write your code here\u001b[0m\u001b[1;33m\u001b[0m\u001b[1;33m\u001b[0m\u001b[1;33m\u001b[0m\u001b[0m\n\u001b[0;32m      5\u001b[0m \u001b[1;33m\u001b[0m\u001b[0m\n\u001b[1;32m----> 6\u001b[1;33m \u001b[0mb\u001b[0m\u001b[1;33m=\u001b[0m\u001b[0mast\u001b[0m\u001b[1;33m.\u001b[0m\u001b[0mliteral_eval\u001b[0m\u001b[1;33m(\u001b[0m\u001b[0minp\u001b[0m\u001b[1;33m)\u001b[0m\u001b[1;33m\u001b[0m\u001b[1;33m\u001b[0m\u001b[0m\n\u001b[0m\u001b[0;32m      7\u001b[0m \u001b[0mprint\u001b[0m\u001b[1;33m(\u001b[0m\u001b[0mb\u001b[0m\u001b[1;33m)\u001b[0m\u001b[1;33m\u001b[0m\u001b[1;33m\u001b[0m\u001b[0m\n\u001b[0;32m      8\u001b[0m \u001b[1;33m\u001b[0m\u001b[0m\n",
      "\u001b[1;32m~\\anaconda3\\lib\\ast.py\u001b[0m in \u001b[0;36mliteral_eval\u001b[1;34m(node_or_string)\u001b[0m\n\u001b[0;32m     97\u001b[0m                     \u001b[1;32mreturn\u001b[0m \u001b[0mleft\u001b[0m \u001b[1;33m-\u001b[0m \u001b[0mright\u001b[0m\u001b[1;33m\u001b[0m\u001b[1;33m\u001b[0m\u001b[0m\n\u001b[0;32m     98\u001b[0m         \u001b[1;32mreturn\u001b[0m \u001b[0m_convert_signed_num\u001b[0m\u001b[1;33m(\u001b[0m\u001b[0mnode\u001b[0m\u001b[1;33m)\u001b[0m\u001b[1;33m\u001b[0m\u001b[1;33m\u001b[0m\u001b[0m\n\u001b[1;32m---> 99\u001b[1;33m     \u001b[1;32mreturn\u001b[0m \u001b[0m_convert\u001b[0m\u001b[1;33m(\u001b[0m\u001b[0mnode_or_string\u001b[0m\u001b[1;33m)\u001b[0m\u001b[1;33m\u001b[0m\u001b[1;33m\u001b[0m\u001b[0m\n\u001b[0m\u001b[0;32m    100\u001b[0m \u001b[1;33m\u001b[0m\u001b[0m\n\u001b[0;32m    101\u001b[0m \u001b[1;33m\u001b[0m\u001b[0m\n",
      "\u001b[1;32m~\\anaconda3\\lib\\ast.py\u001b[0m in \u001b[0;36m_convert\u001b[1;34m(node)\u001b[0m\n\u001b[0;32m     96\u001b[0m                 \u001b[1;32melse\u001b[0m\u001b[1;33m:\u001b[0m\u001b[1;33m\u001b[0m\u001b[1;33m\u001b[0m\u001b[0m\n\u001b[0;32m     97\u001b[0m                     \u001b[1;32mreturn\u001b[0m \u001b[0mleft\u001b[0m \u001b[1;33m-\u001b[0m \u001b[0mright\u001b[0m\u001b[1;33m\u001b[0m\u001b[1;33m\u001b[0m\u001b[0m\n\u001b[1;32m---> 98\u001b[1;33m         \u001b[1;32mreturn\u001b[0m \u001b[0m_convert_signed_num\u001b[0m\u001b[1;33m(\u001b[0m\u001b[0mnode\u001b[0m\u001b[1;33m)\u001b[0m\u001b[1;33m\u001b[0m\u001b[1;33m\u001b[0m\u001b[0m\n\u001b[0m\u001b[0;32m     99\u001b[0m     \u001b[1;32mreturn\u001b[0m \u001b[0m_convert\u001b[0m\u001b[1;33m(\u001b[0m\u001b[0mnode_or_string\u001b[0m\u001b[1;33m)\u001b[0m\u001b[1;33m\u001b[0m\u001b[1;33m\u001b[0m\u001b[0m\n\u001b[0;32m    100\u001b[0m \u001b[1;33m\u001b[0m\u001b[0m\n",
      "\u001b[1;32m~\\anaconda3\\lib\\ast.py\u001b[0m in \u001b[0;36m_convert_signed_num\u001b[1;34m(node)\u001b[0m\n\u001b[0;32m     73\u001b[0m             \u001b[1;32melse\u001b[0m\u001b[1;33m:\u001b[0m\u001b[1;33m\u001b[0m\u001b[1;33m\u001b[0m\u001b[0m\n\u001b[0;32m     74\u001b[0m                 \u001b[1;32mreturn\u001b[0m \u001b[1;33m-\u001b[0m \u001b[0moperand\u001b[0m\u001b[1;33m\u001b[0m\u001b[1;33m\u001b[0m\u001b[0m\n\u001b[1;32m---> 75\u001b[1;33m         \u001b[1;32mreturn\u001b[0m \u001b[0m_convert_num\u001b[0m\u001b[1;33m(\u001b[0m\u001b[0mnode\u001b[0m\u001b[1;33m)\u001b[0m\u001b[1;33m\u001b[0m\u001b[1;33m\u001b[0m\u001b[0m\n\u001b[0m\u001b[0;32m     76\u001b[0m     \u001b[1;32mdef\u001b[0m \u001b[0m_convert\u001b[0m\u001b[1;33m(\u001b[0m\u001b[0mnode\u001b[0m\u001b[1;33m)\u001b[0m\u001b[1;33m:\u001b[0m\u001b[1;33m\u001b[0m\u001b[1;33m\u001b[0m\u001b[0m\n\u001b[0;32m     77\u001b[0m         \u001b[1;32mif\u001b[0m \u001b[0misinstance\u001b[0m\u001b[1;33m(\u001b[0m\u001b[0mnode\u001b[0m\u001b[1;33m,\u001b[0m \u001b[0mConstant\u001b[0m\u001b[1;33m)\u001b[0m\u001b[1;33m:\u001b[0m\u001b[1;33m\u001b[0m\u001b[1;33m\u001b[0m\u001b[0m\n",
      "\u001b[1;32m~\\anaconda3\\lib\\ast.py\u001b[0m in \u001b[0;36m_convert_num\u001b[1;34m(node)\u001b[0m\n\u001b[0;32m     64\u001b[0m     \u001b[1;32mdef\u001b[0m \u001b[0m_convert_num\u001b[0m\u001b[1;33m(\u001b[0m\u001b[0mnode\u001b[0m\u001b[1;33m)\u001b[0m\u001b[1;33m:\u001b[0m\u001b[1;33m\u001b[0m\u001b[1;33m\u001b[0m\u001b[0m\n\u001b[0;32m     65\u001b[0m         \u001b[1;32mif\u001b[0m \u001b[1;32mnot\u001b[0m \u001b[0misinstance\u001b[0m\u001b[1;33m(\u001b[0m\u001b[0mnode\u001b[0m\u001b[1;33m,\u001b[0m \u001b[0mConstant\u001b[0m\u001b[1;33m)\u001b[0m \u001b[1;32mor\u001b[0m \u001b[0mtype\u001b[0m\u001b[1;33m(\u001b[0m\u001b[0mnode\u001b[0m\u001b[1;33m.\u001b[0m\u001b[0mvalue\u001b[0m\u001b[1;33m)\u001b[0m \u001b[1;32mnot\u001b[0m \u001b[1;32min\u001b[0m \u001b[1;33m(\u001b[0m\u001b[0mint\u001b[0m\u001b[1;33m,\u001b[0m \u001b[0mfloat\u001b[0m\u001b[1;33m,\u001b[0m \u001b[0mcomplex\u001b[0m\u001b[1;33m)\u001b[0m\u001b[1;33m:\u001b[0m\u001b[1;33m\u001b[0m\u001b[1;33m\u001b[0m\u001b[0m\n\u001b[1;32m---> 66\u001b[1;33m             \u001b[0m_raise_malformed_node\u001b[0m\u001b[1;33m(\u001b[0m\u001b[0mnode\u001b[0m\u001b[1;33m)\u001b[0m\u001b[1;33m\u001b[0m\u001b[1;33m\u001b[0m\u001b[0m\n\u001b[0m\u001b[0;32m     67\u001b[0m         \u001b[1;32mreturn\u001b[0m \u001b[0mnode\u001b[0m\u001b[1;33m.\u001b[0m\u001b[0mvalue\u001b[0m\u001b[1;33m\u001b[0m\u001b[1;33m\u001b[0m\u001b[0m\n\u001b[0;32m     68\u001b[0m     \u001b[1;32mdef\u001b[0m \u001b[0m_convert_signed_num\u001b[0m\u001b[1;33m(\u001b[0m\u001b[0mnode\u001b[0m\u001b[1;33m)\u001b[0m\u001b[1;33m:\u001b[0m\u001b[1;33m\u001b[0m\u001b[1;33m\u001b[0m\u001b[0m\n",
      "\u001b[1;32m~\\anaconda3\\lib\\ast.py\u001b[0m in \u001b[0;36m_raise_malformed_node\u001b[1;34m(node)\u001b[0m\n\u001b[0;32m     61\u001b[0m         \u001b[0mnode_or_string\u001b[0m \u001b[1;33m=\u001b[0m \u001b[0mnode_or_string\u001b[0m\u001b[1;33m.\u001b[0m\u001b[0mbody\u001b[0m\u001b[1;33m\u001b[0m\u001b[1;33m\u001b[0m\u001b[0m\n\u001b[0;32m     62\u001b[0m     \u001b[1;32mdef\u001b[0m \u001b[0m_raise_malformed_node\u001b[0m\u001b[1;33m(\u001b[0m\u001b[0mnode\u001b[0m\u001b[1;33m)\u001b[0m\u001b[1;33m:\u001b[0m\u001b[1;33m\u001b[0m\u001b[1;33m\u001b[0m\u001b[0m\n\u001b[1;32m---> 63\u001b[1;33m         \u001b[1;32mraise\u001b[0m \u001b[0mValueError\u001b[0m\u001b[1;33m(\u001b[0m\u001b[1;34mf'malformed node or string: {node!r}'\u001b[0m\u001b[1;33m)\u001b[0m\u001b[1;33m\u001b[0m\u001b[1;33m\u001b[0m\u001b[0m\n\u001b[0m\u001b[0;32m     64\u001b[0m     \u001b[1;32mdef\u001b[0m \u001b[0m_convert_num\u001b[0m\u001b[1;33m(\u001b[0m\u001b[0mnode\u001b[0m\u001b[1;33m)\u001b[0m\u001b[1;33m:\u001b[0m\u001b[1;33m\u001b[0m\u001b[1;33m\u001b[0m\u001b[0m\n\u001b[0;32m     65\u001b[0m         \u001b[1;32mif\u001b[0m \u001b[1;32mnot\u001b[0m \u001b[0misinstance\u001b[0m\u001b[1;33m(\u001b[0m\u001b[0mnode\u001b[0m\u001b[1;33m,\u001b[0m \u001b[0mConstant\u001b[0m\u001b[1;33m)\u001b[0m \u001b[1;32mor\u001b[0m \u001b[0mtype\u001b[0m\u001b[1;33m(\u001b[0m\u001b[0mnode\u001b[0m\u001b[1;33m.\u001b[0m\u001b[0mvalue\u001b[0m\u001b[1;33m)\u001b[0m \u001b[1;32mnot\u001b[0m \u001b[1;32min\u001b[0m \u001b[1;33m(\u001b[0m\u001b[0mint\u001b[0m\u001b[1;33m,\u001b[0m \u001b[0mfloat\u001b[0m\u001b[1;33m,\u001b[0m \u001b[0mcomplex\u001b[0m\u001b[1;33m)\u001b[0m\u001b[1;33m:\u001b[0m\u001b[1;33m\u001b[0m\u001b[1;33m\u001b[0m\u001b[0m\n",
      "\u001b[1;31mValueError\u001b[0m: malformed node or string: <_ast.Name object at 0x0000021ECF8CD370>"
     ]
    }
   ],
   "source": [
    "import ast\n",
    "inp=input(\"please enter number:\")\n",
    "\n",
    "#write your code here\n",
    "\n",
    "b=ast.literal_eval(inp)\n",
    "print(b)\n",
    "\n",
    "# if type(b)==int:\n",
    "#     print(\"Integer\")\n",
    "# elif type(b)==str:\n",
    "#     print(\"Alphabet\")\n"
   ]
  },
  {
   "cell_type": "code",
   "execution_count": 20,
   "metadata": {},
   "outputs": [
    {
     "name": "stdout",
     "output_type": "stream",
     "text": [
      "you are #awesome and i know you will #win in #2021\n",
      "['you', 'are', '#awesome', 'and', 'i', 'know', 'you', 'will', '#win', 'in', '#2021']\n"
     ]
    },
    {
     "ename": "TypeError",
     "evalue": "list indices must be integers or slices, not str",
     "output_type": "error",
     "traceback": [
      "\u001b[1;31m---------------------------------------------------------------------------\u001b[0m",
      "\u001b[1;31mTypeError\u001b[0m                                 Traceback (most recent call last)",
      "\u001b[1;32m<ipython-input-20-a31bfebae510>\u001b[0m in \u001b[0;36m<module>\u001b[1;34m\u001b[0m\n\u001b[0;32m      5\u001b[0m \u001b[0mc\u001b[0m\u001b[1;33m=\u001b[0m\u001b[1;33m[\u001b[0m\u001b[1;33m]\u001b[0m\u001b[1;33m\u001b[0m\u001b[1;33m\u001b[0m\u001b[0m\n\u001b[0;32m      6\u001b[0m \u001b[1;32mfor\u001b[0m \u001b[0mi\u001b[0m \u001b[1;32min\u001b[0m \u001b[0ms\u001b[0m\u001b[1;33m:\u001b[0m\u001b[1;33m\u001b[0m\u001b[1;33m\u001b[0m\u001b[0m\n\u001b[1;32m----> 7\u001b[1;33m     \u001b[1;32mif\u001b[0m \u001b[0ms\u001b[0m\u001b[1;33m[\u001b[0m\u001b[0mi\u001b[0m\u001b[1;33m]\u001b[0m\u001b[1;33m==\u001b[0m\u001b[1;34m'#'\u001b[0m\u001b[1;33m:\u001b[0m\u001b[1;33m\u001b[0m\u001b[1;33m\u001b[0m\u001b[0m\n\u001b[0m\u001b[0;32m      8\u001b[0m         \u001b[0mc\u001b[0m\u001b[1;33m.\u001b[0m\u001b[0mappend\u001b[0m\u001b[1;33m(\u001b[0m\u001b[1;33m[\u001b[0m\u001b[0mi\u001b[0m\u001b[1;33m]\u001b[0m\u001b[1;33m)\u001b[0m\u001b[1;33m\u001b[0m\u001b[1;33m\u001b[0m\u001b[0m\n\u001b[0;32m      9\u001b[0m     \u001b[1;32melse\u001b[0m\u001b[1;33m:\u001b[0m\u001b[1;33m\u001b[0m\u001b[1;33m\u001b[0m\u001b[0m\n",
      "\u001b[1;31mTypeError\u001b[0m: list indices must be integers or slices, not str"
     ]
    }
   ],
   "source": [
    "tweet ='you are #awesome and i know you will #win in #2021'\n",
    "print(tweet)\n",
    "s=tweet.split(\" \") \n",
    "print(s) # when we apply method on a string it gives list as a output\n",
    "c=[]\n",
    "for i in s:\n",
    "    if s[i]=='#':\n",
    "        c.append([i])\n",
    "    else:\n",
    "        continue\n",
    "    print(c)\n",
    "print(\",\".join(c))"
   ]
  },
  {
   "cell_type": "code",
   "execution_count": 6,
   "metadata": {},
   "outputs": [
    {
     "name": "stdout",
     "output_type": "stream",
     "text": [
      "#awesome\n",
      "['awesome']\n",
      "#win\n",
      "['awesome', 'win']\n",
      "#2021\n",
      "['awesome', 'win', '2021']\n",
      "awesome,win,2021\n"
     ]
    }
   ],
   "source": [
    "tweet ='you are #awesome and i know you will #win in #2021'\n",
    "s=tweet.split(\" \")\n",
    "c=[]\n",
    "for a in s:\n",
    "    if a[0]=='#':\n",
    "        c.append(a[1:])\n",
    "        print(a)\n",
    "    else:\n",
    "        continue\n",
    "        \n",
    "    print(c)\n",
    "print(\",\".join(c)) # join concatination works in lists and strings"
   ]
  },
  {
   "cell_type": "code",
   "execution_count": 15,
   "metadata": {},
   "outputs": [
    {
     "name": "stdout",
     "output_type": "stream",
     "text": [
      "[]\n",
      "[]\n",
      "#awesome\n",
      "['awesome']\n",
      "['awesome']\n",
      "['awesome']\n",
      "['awesome']\n",
      "['awesome']\n",
      "['awesome']\n",
      "#win\n",
      "['awesome', 'win']\n",
      "['awesome', 'win']\n",
      "#2021\n",
      "['awesome', 'win', '2021']\n",
      "awesome, win, 2021, "
     ]
    }
   ],
   "source": [
    "tweet = 'you are #awesome and i know you will #win in #2021'\n",
    "L1 = list((tweet.split()))\n",
    "hashtag_list = []\n",
    "for char in L1:\n",
    "    if char[0] == \"#\":\n",
    "        hashtag_list.append (char[1:])\n",
    "        print(char)\n",
    "    print(hashtag_list)\n",
    "for hashtag in hashtag_list: \n",
    "        print(hashtag, end = \", \")"
   ]
  },
  {
   "cell_type": "code",
   "execution_count": 19,
   "metadata": {},
   "outputs": [
    {
     "name": "stdout",
     "output_type": "stream",
     "text": [
      "awesome\n",
      "win\n",
      "2021\n"
     ]
    }
   ],
   "source": [
    "tweet ='you are #awesome and i know you will #win in #2021'\n",
    "hashtag = tweet.split(\" \")\n",
    "for i in hashtag:\n",
    "    if i[0] == '#':\n",
    "        print(i[1:])"
   ]
  },
  {
   "cell_type": "code",
   "execution_count": 51,
   "metadata": {},
   "outputs": [
    {
     "name": "stdout",
     "output_type": "stream",
     "text": [
      "['you', 'are', '#awesome', 'and', 'i', 'know', 'you', 'will', '#win', 'in', '#2021']\n",
      "['awesome', 'win', '2021']\n",
      "awesome,win,2021\n",
      "awesome, win, 2021, "
     ]
    }
   ],
   "source": [
    "tweet ='you are #awesome and i know you will #win in #2021'\n",
    "b=tweet.split(\" \")\n",
    "print(b)\n",
    "\n",
    "answer=[]\n",
    "for word in b:\n",
    "    \n",
    "    if word[0]==\"#\":\n",
    "        #print(\"contains # in the 1st digit\")\n",
    "        answer.append(word[1:])\n",
    "    #else:\n",
    "        #print(\"doesnot contain # in 1st digit\")\n",
    "\n",
    "print(answer)\n",
    "print(\",\".join(answer))\n",
    "for hashtag in answer: \n",
    "        print(hashtag, end = \", \")"
   ]
  },
  {
   "cell_type": "code",
   "execution_count": 4,
   "metadata": {},
   "outputs": [
    {
     "name": "stdout",
     "output_type": "stream",
     "text": [
      "11,12,13,14\n"
     ]
    }
   ],
   "source": [
    "a=11\n",
    "\n",
    "b=12\n",
    "\n",
    "c=13 \n",
    "\n",
    "d=14\n",
    "\n",
    "print('{},{},{},{}'.format(a,b,c,d) )\n"
   ]
  },
  {
   "cell_type": "code",
   "execution_count": 9,
   "metadata": {},
   "outputs": [
    {
     "ename": "IndentationError",
     "evalue": "unindent does not match any outer indentation level (<tokenize>, line 4)",
     "output_type": "error",
     "traceback": [
      "\u001b[1;36m  File \u001b[1;32m\"<tokenize>\"\u001b[1;36m, line \u001b[1;32m4\u001b[0m\n\u001b[1;33m    func(2, func(3))\u001b[0m\n\u001b[1;37m    ^\u001b[0m\n\u001b[1;31mIndentationError\u001b[0m\u001b[1;31m:\u001b[0m unindent does not match any outer indentation level\n"
     ]
    }
   ],
   "source": [
    " def func(x, y = 1):\n",
    "        z = x * y + x + y\n",
    "        return z\n",
    "    func(2, func(3))"
   ]
  },
  {
   "cell_type": "code",
   "execution_count": 14,
   "metadata": {},
   "outputs": [
    {
     "name": "stdout",
     "output_type": "stream",
     "text": [
      "[5, 7, 9]\n"
     ]
    }
   ],
   "source": [
    "list1 = [1, 2, 3]\n",
    "list2 = [4, 5, 6]\n",
    "zipped_lists = zip(list1, list2)\n",
    "sum = [x + y for (x, y) in zipped_lists]\n",
    "print(sum)"
   ]
  },
  {
   "cell_type": "code",
   "execution_count": 18,
   "metadata": {},
   "outputs": [
    {
     "data": {
      "text/plain": [
       "{1: [1, 1, 2, 1, 3], 2: [1, 1, 2, 1, 3], 3: [1, 1, 2, 1, 3]}"
      ]
     },
     "execution_count": 18,
     "metadata": {},
     "output_type": "execute_result"
    }
   ],
   "source": [
    "# sample_list = [6, 98, 34, 45, 64, 7, 2, 5, 78, 90, 324, 111, 657, 438]\n",
    "# answer = {}\n",
    "# for num in sample_list:\n",
    "#     fac_num = []\n",
    "#     for i in range(1,num+1):\n",
    "#         if num%i == 0:\n",
    "#             fac_num.append(i)\n",
    "#         answer[num] = fac_num\n",
    "# answer\n",
    "\n",
    "\n",
    "sample_list = [6, 98, 34, 45, 64, 7, 2, 5, 78, 90, 324, 111, 657, 438]\n",
    "\n",
    "answer = {}\n",
    "for num in sample_list:\n",
    "    \n",
    "    \n",
    "    fac_num = []\n",
    "    for i in range(1,num+1):\n",
    "        if num%i==0:\n",
    "            fac_num.append(i)\n",
    "    \n",
    "    answer[num]=fac_num #dict[key]=valve for updating the dictionary\n",
    "    \n",
    "answer\n",
    "\n",
    "\n",
    "        \n",
    "\n",
    "\n",
    "\n",
    "\n"
   ]
  },
  {
   "cell_type": "code",
   "execution_count": 42,
   "metadata": {},
   "outputs": [
    {
     "name": "stdout",
     "output_type": "stream",
     "text": [
      "tbaajn#d#r#a\n"
     ]
    }
   ],
   "source": [
    "word1 = \"taj\"\n",
    "word2 = \"bandra\"\n",
    "\n",
    "l1 = len(word1)  #using length is useful instead of numbers when we different lenths and different words \n",
    "                 #which in all the cases we do not know the lengths of words manually if they r complex\n",
    "l2 = len(word2)\n",
    "\n",
    "no_hash = abs(l1-l2)\n",
    "padd =\"#\"*no_hash\n",
    "\n",
    "if l1<l2:\n",
    "    word1=word1+padd\n",
    "elif l2>l1:\n",
    "    word2 = word2+padd\n",
    "\n",
    "\n",
    "answer = \"\"\n",
    "\n",
    "for i in range(2*max(l1,l2)): #i= 0 to 9\n",
    "    if i%2==0:\n",
    "        obj = word1[int(i/2)] # index of a list is always an integer\n",
    "    else:\n",
    "        obj = word2[int((i-1)/2)]\n",
    "    answer = answer+obj\n",
    "\n",
    "print(answer)\n",
    "\n",
    "\n"
   ]
  },
  {
   "cell_type": "code",
   "execution_count": null,
   "metadata": {},
   "outputs": [],
   "source": [
    "a=4/2\n",
    "print(a,type(a))\n",
    "b=4/2.0\n",
    "print(b,type(b))"
   ]
  },
  {
   "cell_type": "code",
   "execution_count": 1,
   "metadata": {},
   "outputs": [
    {
     "data": {
      "text/plain": [
       "2401"
      ]
     },
     "execution_count": 1,
     "metadata": {},
     "output_type": "execute_result"
    }
   ],
   "source": [
    "7**4"
   ]
  },
  {
   "cell_type": "code",
   "execution_count": 2,
   "metadata": {},
   "outputs": [
    {
     "name": "stdout",
     "output_type": "stream",
     "text": [
      "The diameter of Earth is 12742 kilometers.\n"
     ]
    }
   ],
   "source": [
    "planet = \"Earth\"\n",
    "diameter = 12742\n",
    "print('The diameter of {} is {} kilometers.'.format(planet,diameter))\n"
   ]
  },
  {
   "cell_type": "code",
   "execution_count": 6,
   "metadata": {},
   "outputs": [
    {
     "data": {
      "text/plain": [
       "'hello'"
      ]
     },
     "execution_count": 6,
     "metadata": {},
     "output_type": "execute_result"
    }
   ],
   "source": [
    "lst = [1,2,[3,4],[5,[100,200,['hello']],23,11],1,7]\n",
    "a=lst[3][1][2][0]\n",
    "a"
   ]
  },
  {
   "cell_type": "code",
   "execution_count": 8,
   "metadata": {},
   "outputs": [
    {
     "name": "stdout",
     "output_type": "stream",
     "text": [
      "(0, 5)\n",
      "(1, [100, 200, ['hello']])\n",
      "(2, 23)\n",
      "(3, 11)\n"
     ]
    }
   ],
   "source": [
    "for item in enumerate(lst):\n",
    "    print(item)"
   ]
  },
  {
   "cell_type": "code",
   "execution_count": 9,
   "metadata": {},
   "outputs": [
    {
     "name": "stdout",
     "output_type": "stream",
     "text": [
      "(0, 5)\n",
      "(1, [100, 200, ['hello']])\n",
      "(2, 23)\n",
      "(3, 11)\n"
     ]
    }
   ],
   "source": [
    "for item in enumerate(lst[3]):\n",
    "    print(item)"
   ]
  },
  {
   "cell_type": "code",
   "execution_count": 12,
   "metadata": {},
   "outputs": [
    {
     "data": {
      "text/plain": [
       "'hello'"
      ]
     },
     "execution_count": 12,
     "metadata": {},
     "output_type": "execute_result"
    }
   ],
   "source": [
    "\n",
    "d = {'k1':[1,2,3,{'tricky':['oh','man','inception',{'target':[1,2,3,'hello']}]}]}\n",
    "k=d['k1'][3]['tricky'][3]['target'][3]\n",
    "k"
   ]
  },
  {
   "cell_type": "code",
   "execution_count": 11,
   "metadata": {},
   "outputs": [
    {
     "name": "stdout",
     "output_type": "stream",
     "text": [
      "(0, 'k1')\n"
     ]
    }
   ],
   "source": [
    "for item in enumerate(d):\n",
    "    print(item)"
   ]
  },
  {
   "cell_type": "code",
   "execution_count": 13,
   "metadata": {},
   "outputs": [
    {
     "name": "stdout",
     "output_type": "stream",
     "text": [
      "domain.com\n"
     ]
    }
   ],
   "source": [
    "def func2(string2):\n",
    "    return string2[string2.index('@')+1:] #return will be inside the function only not outside the funcn\n",
    "\n",
    "a=func2('user@domain.com')\n",
    "print(a)\n"
   ]
  },
  {
   "cell_type": "code",
   "execution_count": null,
   "metadata": {},
   "outputs": [],
   "source": [
    "** Use your python skills to filter out words from a list that don't start with the letter 's'. For example:**\n",
    "\n",
    "seq = ['soup','dog','salad','cat','great']\n",
    "should be filtered down to:\n",
    "\n",
    "['soup','salad']"
   ]
  },
  {
   "cell_type": "code",
   "execution_count": null,
   "metadata": {},
   "outputs": [],
   "source": [
    "list2 = []\n",
    "for word in seq:\n",
    "    if word[0]=='s':\n",
    "        list2.append(word)\n"
   ]
  },
  {
   "cell_type": "code",
   "execution_count": null,
   "metadata": {},
   "outputs": [],
   "source": [
    "**You are driving a little too fast, and a police officer stops you. Write a function to return one of 3 possible results: \"No ticket\", \"Small ticket\", or \"Big Ticket\". If your speed is 60 or less, the result is \"No Ticket\". If speed is between 61 and 80 inclusive, the result is \"Small Ticket\". If speed is 81 or more, the result is \"Big Ticket\". Unless it is your birthday (encoded as a boolean value in the parameters of the function) -- on your birthday, your speed can be 5 higher in all cases. **"
   ]
  },
  {
   "cell_type": "code",
   "execution_count": null,
   "metadata": {},
   "outputs": [],
   "source": [
    "def caught_speeding(speed, is_birthday):\n",
    "    \n",
    "    #let check if its birthday\n",
    "    \n",
    "    if is_birthday==True:\n",
    "        speeding=speed-5\n",
    "    else:\n",
    "        speeding=speed\n",
    "        \n",
    "    if speeding>=81:\n",
    "        return 'Big Ticket'\n",
    "    elif speeding>=60:\n",
    "        return 'Small Ticket'\n",
    "    else:\n",
    "        return 'No Ticket'"
   ]
  },
  {
   "cell_type": "code",
   "execution_count": null,
   "metadata": {},
   "outputs": [],
   "source": [
    "totalScore=0\n",
    "\n",
    "for c in 'rajan':\n",
    "    print(c,score[c])\n",
    "    \n",
    "    totalScore=totalScore+score[c]"
   ]
  },
  {
   "cell_type": "code",
   "execution_count": null,
   "metadata": {},
   "outputs": [],
   "source": [
    "def getNameScore(name):\n",
    "    sum=0\n",
    "    for c in name:\n",
    "        sum+=score[c] \n",
    "    return sum\n",
    "getNameScore('rajuprajapati')"
   ]
  },
  {
   "cell_type": "code",
   "execution_count": null,
   "metadata": {},
   "outputs": [],
   "source": [
    "shopping_list = [\"banana\", \"orange\", \"apple\",\"Candy\"]\n",
    "\n",
    "stock = {\n",
    "    \"banana\": 6,\n",
    "    \"apple\": 0,\n",
    "    \"orange\": 32,\n",
    "    \"pear\": 15\n",
    "}\n",
    "\n",
    "prices = {\n",
    "    \"banana\": 4,\n",
    "    \"apple\": 2,\n",
    "    \"orange\": 1.5,\n",
    "    \"pear\": 3\n",
    "}"
   ]
  },
  {
   "cell_type": "code",
   "execution_count": null,
   "metadata": {},
   "outputs": [],
   "source": [
    "# Calculate the Total Bill\n",
    "\n",
    "# make sure the stock is available means > 0\n",
    "# make sure the product is available in stock\n",
    "# make sure the prices are picked from prices"
   ]
  },
  {
   "cell_type": "code",
   "execution_count": null,
   "metadata": {},
   "outputs": [],
   "source": [
    "totalbill=0\n",
    "\n",
    "for item in shopping_list:\n",
    "    \n",
    "    if item in stock.keys() and stock[item]>0:\n",
    "        totalbill += prices[item]"
   ]
  },
  {
   "cell_type": "code",
   "execution_count": null,
   "metadata": {},
   "outputs": [],
   "source": [
    "# 2 players\n",
    "\n",
    "# computerChoice = generate a random number between 1 and 20\n",
    "# playerChoice = ask the user to enter a number between 1 and 20\n",
    "\n",
    "'''\n",
    "     if the playerChoice is greater then computerChoice \n",
    "         print ' your guess is too high'\n",
    "         \n",
    "    if the playerChoice is less then computerChoice \n",
    "        print 'your guess is too low'\n",
    "    if playerChoice Matches with computerChoice\n",
    "     pritn 'Gotcha! you made it!'\n",
    "    \n",
    "'''\n",
    "\n",
    "'''phase 2: in case of wrong guess a max of 6 attempts \n",
    "can be taken by user after exhausting the attempt \n",
    "print 'please try again later all attempts exhausted' '''"
   ]
  },
  {
   "cell_type": "code",
   "execution_count": null,
   "metadata": {},
   "outputs": [],
   "source": [
    "import random\n",
    "import sys\n",
    "computer_choice  = random.randint(1,20)\n",
    "\n",
    "count = 0\n",
    "while count<=6:\n",
    "  player_choice = int(input())\n",
    "\n",
    "  if player_choice < computer_choice:\n",
    "    print('Your guess is too low')\n",
    "  elif player_choice > computer_choice:\n",
    "    print('Your guess is too high')\n",
    "  elif player_choice = computer_choice:\n",
    "    print('Gotcha! you made it')\n",
    "    sys.exit()\n",
    "\n",
    "  count +=1\n",
    "\n",
    "print('Choice exhausted')\n"
   ]
  },
  {
   "cell_type": "code",
   "execution_count": null,
   "metadata": {},
   "outputs": [],
   "source": [
    "import random\n",
    "computerchoice = random.randint(1,20)\n",
    "for _ in range(6):\n",
    "    playerChoice= int(input('enter a number between 1 and 20 \\n'))\n",
    "\n",
    "    if playerChoice>computerchoice:\n",
    "        print('your guess is too high')\n",
    "    elif playerChoice<computerchoice:\n",
    "        print('your guess is too low')\n",
    "    else:\n",
    "        print('Gotcha you made it! wohoo! yeee')\n",
    "        break\n",
    "else:\n",
    "    print('wo wo woha wait ! what? you wernt able to guess ! please try laters')"
   ]
  },
  {
   "cell_type": "code",
   "execution_count": null,
   "metadata": {},
   "outputs": [],
   "source": [
    "final_out=[]\n",
    "for item in str:\n",
    "  l = item.split(' ')\n",
    "  fina_out.append(l[1]+'.'+l[0][0])\n",
    "print(final_out)\n"
   ]
  },
  {
   "cell_type": "code",
   "execution_count": 15,
   "metadata": {},
   "outputs": [
    {
     "name": "stdout",
     "output_type": "stream",
     "text": [
      "Jane.M\n",
      "Parker.P\n",
      "Hemsworth.C\n",
      "Chen.J\n"
     ]
    }
   ],
   "source": [
    "users='Merry Jane , Peter Parker , Chris Hemsworth , Jackie Chen'\n",
    "\n",
    "for name in users.split(','):\n",
    "    name_1 = name.split()\n",
    "    print(name_1[1]+\".\"+name_1[0][0])\n"
   ]
  },
  {
   "cell_type": "code",
   "execution_count": null,
   "metadata": {},
   "outputs": [],
   "source": [
    "user_list = users.split(',')\n",
    "print(user_list)\n",
    "\n",
    "for i in user_list:\n",
    "    l1 = i.split(\" \")\n",
    "    print(l1[1]+\".\"+l1[0][1])\n"
   ]
  },
  {
   "cell_type": "code",
   "execution_count": 18,
   "metadata": {},
   "outputs": [
    {
     "data": {
      "text/plain": [
       "1"
      ]
     },
     "execution_count": 18,
     "metadata": {},
     "output_type": "execute_result"
    }
   ],
   "source": [
    "a = 21 % 4\n",
    "a"
   ]
  },
  {
   "cell_type": "code",
   "execution_count": 19,
   "metadata": {},
   "outputs": [
    {
     "name": "stdout",
     "output_type": "stream",
     "text": [
      "4\n"
     ]
    }
   ],
   "source": [
    "d = 23//5\n",
    "print(d)"
   ]
  },
  {
   "cell_type": "code",
   "execution_count": 20,
   "metadata": {},
   "outputs": [
    {
     "ename": "IndentationError",
     "evalue": "expected an indented block (<ipython-input-20-ff38c761a243>, line 3)",
     "output_type": "error",
     "traceback": [
      "\u001b[1;36m  File \u001b[1;32m\"<ipython-input-20-ff38c761a243>\"\u001b[1;36m, line \u001b[1;32m3\u001b[0m\n\u001b[1;33m    print (True)\u001b[0m\n\u001b[1;37m    ^\u001b[0m\n\u001b[1;31mIndentationError\u001b[0m\u001b[1;31m:\u001b[0m expected an indented block\n"
     ]
    }
   ],
   "source": [
    "if (1):\n",
    "\n",
    "print (True)"
   ]
  },
  {
   "cell_type": "code",
   "execution_count": 21,
   "metadata": {},
   "outputs": [
    {
     "name": "stdout",
     "output_type": "stream",
     "text": [
      "True\n"
     ]
    }
   ],
   "source": [
    "if (1):\n",
    "\n",
    "    print (True)"
   ]
  },
  {
   "cell_type": "code",
   "execution_count": 22,
   "metadata": {},
   "outputs": [
    {
     "ename": "SyntaxError",
     "evalue": "invalid syntax (<ipython-input-22-928f6ca5e5e8>, line 1)",
     "output_type": "error",
     "traceback": [
      "\u001b[1;36m  File \u001b[1;32m\"<ipython-input-22-928f6ca5e5e8>\"\u001b[1;36m, line \u001b[1;32m1\u001b[0m\n\u001b[1;33m    if (1) print(True)\u001b[0m\n\u001b[1;37m           ^\u001b[0m\n\u001b[1;31mSyntaxError\u001b[0m\u001b[1;31m:\u001b[0m invalid syntax\n"
     ]
    }
   ],
   "source": [
    "if (1) print(True)"
   ]
  },
  {
   "cell_type": "code",
   "execution_count": 23,
   "metadata": {},
   "outputs": [
    {
     "name": "stdout",
     "output_type": "stream",
     "text": [
      "True\n"
     ]
    }
   ],
   "source": [
    "if (-1):\n",
    "\n",
    "    print('True')"
   ]
  },
  {
   "cell_type": "code",
   "execution_count": 24,
   "metadata": {},
   "outputs": [
    {
     "name": "stdout",
     "output_type": "stream",
     "text": [
      "True\n"
     ]
    }
   ],
   "source": [
    "if (1):\n",
    "\n",
    "    print ('True')\n",
    "\n"
   ]
  },
  {
   "cell_type": "code",
   "execution_count": 25,
   "metadata": {},
   "outputs": [
    {
     "ename": "SyntaxError",
     "evalue": "invalid syntax (<ipython-input-25-bb9305b141cc>, line 1)",
     "output_type": "error",
     "traceback": [
      "\u001b[1;36m  File \u001b[1;32m\"<ipython-input-25-bb9305b141cc>\"\u001b[1;36m, line \u001b[1;32m1\u001b[0m\n\u001b[1;33m    if (1)\u001b[0m\n\u001b[1;37m          ^\u001b[0m\n\u001b[1;31mSyntaxError\u001b[0m\u001b[1;31m:\u001b[0m invalid syntax\n"
     ]
    }
   ],
   "source": [
    "if (1)\n",
    "\n",
    "    print (True)"
   ]
  },
  {
   "cell_type": "code",
   "execution_count": 26,
   "metadata": {},
   "outputs": [
    {
     "name": "stdout",
     "output_type": "stream",
     "text": [
      "0\n",
      "1\n",
      "2\n"
     ]
    }
   ],
   "source": [
    "for i in range(3):\n",
    "    print(i)"
   ]
  },
  {
   "cell_type": "code",
   "execution_count": 27,
   "metadata": {},
   "outputs": [
    {
     "name": "stdout",
     "output_type": "stream",
     "text": [
      "11 12 13 \n",
      "14\n"
     ]
    }
   ],
   "source": [
    "print('11 12 13 \\n14')"
   ]
  },
  {
   "cell_type": "code",
   "execution_count": 28,
   "metadata": {},
   "outputs": [
    {
     "name": "stdout",
     "output_type": "stream",
     "text": [
      "36\n",
      "14\n"
     ]
    }
   ],
   "source": [
    "a=11\n",
    "\n",
    "b=12\n",
    "\n",
    "c=13 \n",
    "\n",
    "d=14\n",
    "\n",
    "print(a+b+c)\n",
    "\n",
    "print(d)"
   ]
  },
  {
   "cell_type": "code",
   "execution_count": 29,
   "metadata": {},
   "outputs": [
    {
     "name": "stdout",
     "output_type": "stream",
     "text": [
      "11 12 13\n",
      "14\n"
     ]
    }
   ],
   "source": [
    "a=11\n",
    "\n",
    "b=12\n",
    "\n",
    "c=13 \n",
    "\n",
    "d=14\n",
    "\n",
    "print(a,b,c)\n",
    "\n",
    "print(d)\n",
    "\n"
   ]
  },
  {
   "cell_type": "code",
   "execution_count": 30,
   "metadata": {},
   "outputs": [
    {
     "name": "stdout",
     "output_type": "stream",
     "text": [
      "11 12 13\n",
      "14\n"
     ]
    }
   ],
   "source": [
    "a=11\n",
    "\n",
    "b=12\n",
    "\n",
    "c=13 \n",
    "\n",
    "d=14\n",
    "\n",
    "print('{0} {1} {2}'.format(a,b,c) )\n",
    "\n",
    "print(d)"
   ]
  },
  {
   "cell_type": "code",
   "execution_count": 31,
   "metadata": {},
   "outputs": [
    {
     "name": "stdout",
     "output_type": "stream",
     "text": [
      "11 12 13\n",
      "14\n"
     ]
    }
   ],
   "source": [
    "a=11\n",
    "\n",
    "b=12\n",
    "\n",
    "c=13 \n",
    "\n",
    "d=14\n",
    "\n",
    "print('%d %d %d' %(a,b,c))\n",
    "\n",
    "print(d)"
   ]
  },
  {
   "cell_type": "code",
   "execution_count": 32,
   "metadata": {},
   "outputs": [
    {
     "name": "stdout",
     "output_type": "stream",
     "text": [
      "111213\n",
      "14\n"
     ]
    }
   ],
   "source": [
    "a=11\n",
    "\n",
    "b=12\n",
    "\n",
    "c=13 \n",
    "\n",
    "d=14\n",
    "\n",
    "print(f'{a}{b}{c}')\n",
    "\n",
    "print(d)"
   ]
  },
  {
   "cell_type": "code",
   "execution_count": 59,
   "metadata": {},
   "outputs": [
    {
     "data": {
      "text/plain": [
       "'I am learining Python'"
      ]
     },
     "execution_count": 59,
     "metadata": {},
     "output_type": "execute_result"
    }
   ],
   "source": [
    "s = \"I am learining Python\"\n",
    "t=s.split(' ')\n",
    "m=' '.join(t)\n",
    "m"
   ]
  },
  {
   "cell_type": "code",
   "execution_count": 37,
   "metadata": {},
   "outputs": [
    {
     "ename": "ValueError",
     "evalue": "invalid literal for int() with base 10: 'x'",
     "output_type": "error",
     "traceback": [
      "\u001b[1;31m---------------------------------------------------------------------------\u001b[0m",
      "\u001b[1;31mValueError\u001b[0m                                Traceback (most recent call last)",
      "\u001b[1;32m<ipython-input-37-3c50796a3e05>\u001b[0m in \u001b[0;36m<module>\u001b[1;34m\u001b[0m\n\u001b[0;32m      1\u001b[0m \u001b[0minput\u001b[0m\u001b[1;33m=\u001b[0m\u001b[1;33m[\u001b[0m\u001b[1;34m'x'\u001b[0m\u001b[1;33m,\u001b[0m\u001b[1;34m'y'\u001b[0m\u001b[1;33m]\u001b[0m\u001b[1;33m\u001b[0m\u001b[1;33m\u001b[0m\u001b[0m\n\u001b[1;32m----> 2\u001b[1;33m \u001b[0mx\u001b[0m\u001b[1;33m=\u001b[0m\u001b[0mint\u001b[0m\u001b[1;33m(\u001b[0m\u001b[0minput\u001b[0m\u001b[1;33m[\u001b[0m\u001b[1;36m0\u001b[0m\u001b[1;33m]\u001b[0m\u001b[1;33m)\u001b[0m\u001b[1;33m\u001b[0m\u001b[1;33m\u001b[0m\u001b[0m\n\u001b[0m\u001b[0;32m      3\u001b[0m \u001b[0my\u001b[0m\u001b[1;33m=\u001b[0m\u001b[0mint\u001b[0m\u001b[1;33m(\u001b[0m\u001b[0minput\u001b[0m\u001b[1;33m[\u001b[0m\u001b[1;36m1\u001b[0m\u001b[1;33m]\u001b[0m\u001b[1;33m)\u001b[0m\u001b[1;33m\u001b[0m\u001b[1;33m\u001b[0m\u001b[0m\n\u001b[0;32m      4\u001b[0m \u001b[0mprint\u001b[0m\u001b[1;33m(\u001b[0m\u001b[1;34m'x before swapping:{0}'\u001b[0m\u001b[1;33m.\u001b[0m\u001b[0mformat\u001b[0m\u001b[1;33m(\u001b[0m\u001b[0mx\u001b[0m\u001b[1;33m)\u001b[0m\u001b[1;33m)\u001b[0m\u001b[1;33m\u001b[0m\u001b[1;33m\u001b[0m\u001b[0m\n\u001b[0;32m      5\u001b[0m \u001b[0mprint\u001b[0m\u001b[1;33m(\u001b[0m\u001b[1;34m'y before swapping:{0}'\u001b[0m\u001b[1;33m.\u001b[0m\u001b[0mformat\u001b[0m\u001b[1;33m(\u001b[0m\u001b[0my\u001b[0m\u001b[1;33m)\u001b[0m\u001b[1;33m)\u001b[0m\u001b[1;33m\u001b[0m\u001b[1;33m\u001b[0m\u001b[0m\n",
      "\u001b[1;31mValueError\u001b[0m: invalid literal for int() with base 10: 'x'"
     ]
    }
   ],
   "source": [
    "input=['x','y']\n",
    "x=int(input[0])\n",
    "y=int(input[1])\n",
    "print('x before swapping:{0}'.format(x))\n",
    "print('y before swapping:{0}'.format(y))\n"
   ]
  },
  {
   "cell_type": "code",
   "execution_count": 4,
   "metadata": {},
   "outputs": [
    {
     "name": "stdout",
     "output_type": "stream",
     "text": [
      "enter x and y20 30\n",
      "x before swapping:20\n",
      "y before swapping:30\n",
      "x after swapping:30\n",
      "y after swapping:20\n"
     ]
    }
   ],
   "source": [
    "inp_str = input(\"enter x and y\")\n",
    "a= inp_str.split()\n",
    "x=int(a[0])\n",
    "y=int(a[1])\n",
    "print('x before swapping:{0}'.format(x))\n",
    "print('y before swapping:{0}'.format(y))\n",
    "x,y=y,x\n",
    "print('x after swapping:{0}'.format(x))\n",
    "print('y after swapping:{0}'.format(y))"
   ]
  },
  {
   "cell_type": "code",
   "execution_count": 5,
   "metadata": {},
   "outputs": [
    {
     "name": "stdout",
     "output_type": "stream",
     "text": [
      "10\n",
      "Even\n"
     ]
    }
   ],
   "source": [
    "num=int(input())\n",
    "\n",
    "if num%2==0:\n",
    "    print(\"Even\")\n",
    "else:\n",
    "    print(\"Odd\")"
   ]
  },
  {
   "cell_type": "code",
   "execution_count": 7,
   "metadata": {},
   "outputs": [
    {
     "name": "stdout",
     "output_type": "stream",
     "text": [
      "22\n",
      "beautiful\n"
     ]
    }
   ],
   "source": [
    "num=int(input())\n",
    "\n",
    "if num%3==0:\n",
    "    print(\"sexy\")\n",
    "elif num%3==1:\n",
    "    print(\"beautiful\")\n",
    "    \n",
    "else:\n",
    "    print(\"pretty\")"
   ]
  },
  {
   "cell_type": "code",
   "execution_count": 11,
   "metadata": {},
   "outputs": [
    {
     "name": "stdout",
     "output_type": "stream",
     "text": [
      "7,True\n",
      "7 True\n",
      "off\n"
     ]
    },
    {
     "ename": "NameError",
     "evalue": "name 'day' is not defined",
     "output_type": "error",
     "traceback": [
      "\u001b[1;31m---------------------------------------------------------------------------\u001b[0m",
      "\u001b[1;31mNameError\u001b[0m                                 Traceback (most recent call last)",
      "\u001b[1;32m<ipython-input-11-6690cf05c0ed>\u001b[0m in \u001b[0;36m<module>\u001b[1;34m\u001b[0m\n\u001b[0;32m     27\u001b[0m \u001b[1;33m\u001b[0m\u001b[0m\n\u001b[0;32m     28\u001b[0m \u001b[0mprint\u001b[0m\u001b[1;33m(\u001b[0m\u001b[0malarm_clock\u001b[0m\u001b[1;33m(\u001b[0m\u001b[0mday_of_the_week\u001b[0m\u001b[1;33m,\u001b[0m\u001b[0mis_on_vacation\u001b[0m\u001b[1;33m)\u001b[0m\u001b[1;33m)\u001b[0m\u001b[1;33m\u001b[0m\u001b[1;33m\u001b[0m\u001b[0m\n\u001b[1;32m---> 29\u001b[1;33m \u001b[0mprint\u001b[0m\u001b[1;33m(\u001b[0m\u001b[0malarm_clock\u001b[0m\u001b[1;33m(\u001b[0m\u001b[0mday\u001b[0m\u001b[1;33m,\u001b[0m\u001b[0mvacation\u001b[0m\u001b[1;33m)\u001b[0m\u001b[1;33m)\u001b[0m\u001b[1;33m\u001b[0m\u001b[1;33m\u001b[0m\u001b[0m\n\u001b[0m\u001b[0;32m     30\u001b[0m \u001b[1;33m\u001b[0m\u001b[0m\n",
      "\u001b[1;31mNameError\u001b[0m: name 'day' is not defined"
     ]
    }
   ],
   "source": [
    "#we will take input using ast sys\n",
    "import ast\n",
    "input_str = input()\n",
    "\n",
    "#ast.literal_eval() will evaluate the string and make a data structure for the same\n",
    "#here the input is a list since input is in '[...]', so ast.literal_eval() will\n",
    "#make a list with the same data as passed\n",
    "input_list = ast.literal_eval(input_str)\n",
    "\n",
    "#the data or the two values in list is now changed to separate variables\n",
    "day_of_the_week = input_list[0] #first element is an integer denoting the day of the week\n",
    "is_on_vacation = input_list[1] #this is a boolean denoting if its vacation or not\n",
    "\n",
    "# write your code here\n",
    "print(day_of_the_week,is_on_vacation)\n",
    "\n",
    "def alarm_clock(day,vacation):\n",
    "    weekend=[6,7]\n",
    "    if vacation and day in weekend:\n",
    "        return \"off\"\n",
    "    elif vacation and day not in weekend:\n",
    "        return \"10:00\"\n",
    "    elif not vacation and day in weekend:\n",
    "        return \"10:00\"\n",
    "    else:\n",
    "        return \"7:00\"\n",
    "    \n",
    "print(alarm_clock(day_of_the_week,is_on_vacation))\n",
    "#print(alarm_clock(day,vacation))\n",
    "        "
   ]
  },
  {
   "cell_type": "code",
   "execution_count": 19,
   "metadata": {},
   "outputs": [
    {
     "name": "stdout",
     "output_type": "stream",
     "text": [
      "6\n",
      "720\n"
     ]
    }
   ],
   "source": [
    "number= int(input())\n",
    "\n",
    "\n",
    "\n",
    "#the function definition starts here\n",
    "def factorial(n):\n",
    "    #write the funtion here that finds and RETURNS factorial of next\n",
    "    if n>=0:\n",
    "        fact=1\n",
    "        for i in range(1,n+1):\n",
    "            fact*=i\n",
    "        return fact\n",
    "    else:\n",
    "        return -1\n",
    "   \n",
    "\n",
    "    \n",
    "    \n",
    "\n",
    "\n",
    "#function definition ends here\n",
    "\n",
    "#do not alter the code typed below\n",
    "k=factorial(number)\n",
    "print(k)"
   ]
  },
  {
   "cell_type": "code",
   "execution_count": 1,
   "metadata": {},
   "outputs": [
    {
     "name": "stdout",
     "output_type": "stream",
     "text": [
      "120\n"
     ]
    }
   ],
   "source": [
    "def fact(n):\n",
    "    if n==1 or n==0:\n",
    "        return 1\n",
    "    else:\n",
    "        return n*fact(n-1) # look at this line.. inside fact function we are calling the same fact function ide clearga ledu\n",
    "    \n",
    "print(fact(5))"
   ]
  },
  {
   "cell_type": "code",
   "execution_count": 7,
   "metadata": {},
   "outputs": [],
   "source": [
    "def fact_2(n):\n",
    "    fact=1\n",
    "    for i in range(1,n+1):  # ee range observe chesava,,, start value, stop value, step next.. but in general manam step rayam telusu\n",
    "        fact = fact*i\n",
    "    return fact\n",
    "\n",
    "#print(fact_2(5)) # ee function lo oka mistake undi ..adento think chei...fact_2(0) entha vachiddi ?1\n",
    "#print(fact_2(0)) # ohhshit.rademo anukunnaa.. endukante range(1,1) aiddi kada.. appudu error vachiddi anukunna mari ela vachndi\n",
    "\n",
    "for i in range(1,1):\n",
    "    print(i) # observe chesava asalu loop lopalki vellatledu.. mana case lo kooda anthe aindi.. but mana munduline lo fact=1 define chesam\n",
    "    # kada. anduke adi simple ga 1 return chesindi\n",
    "#appudu if condition rayali for n>1 ani...yes correct.. inka n int ani kooda check cheyali... gnerally test cases ilantivi untayi pitfalls\n",
    "# anduke nuv code rasetappudu.. nee code break avvadaniki ekkadekkada chance undo munde think cheyalii ..lsedanrete full marks ravu"
   ]
  },
  {
   "cell_type": "code",
   "execution_count": 26,
   "metadata": {},
   "outputs": [
    {
     "name": "stdout",
     "output_type": "stream",
     "text": [
      "123\n",
      "321\n",
      "0\n"
     ]
    }
   ],
   "source": [
    "num=int(input())\n",
    "r=0\n",
    "while num>0:\n",
    "    r=r*10+num%10\n",
    "    num=num//10\n",
    "    \n",
    "print(r)\n",
    "print(num)\n",
    "\n",
    "\n"
   ]
  },
  {
   "cell_type": "code",
   "execution_count": 27,
   "metadata": {},
   "outputs": [
    {
     "name": "stdout",
     "output_type": "stream",
     "text": [
      "15,2\n",
      "10\n"
     ]
    }
   ],
   "source": [
    "input_string=input()\n",
    "l=input_string.split(\",\")\n",
    "m=int(l[0])\n",
    "c=int(l[1])\n",
    "choc=m//c\n",
    "w=m//c\n",
    "while w//3!=0:\n",
    "    choc=choc+w//3\n",
    "    w=w//3+w%3\n",
    "print(choc)"
   ]
  },
  {
   "cell_type": "markdown",
   "metadata": {},
   "source": [
    "# practice qns:"
   ]
  },
  {
   "cell_type": "code",
   "execution_count": 28,
   "metadata": {},
   "outputs": [
    {
     "name": "stdout",
     "output_type": "stream",
     "text": [
      "5\n",
      "    *\n",
      "   *_*\n",
      "  *_*_*\n",
      " *_*_*_*\n",
      "*_*_*_*_*\n"
     ]
    }
   ],
   "source": [
    "n=int(input())\n",
    "for i in range(1,n+1):#for no of lines\n",
    "    for j in range(n-i):#or spaces from top to bottom\n",
    "        print(\" \", end='')\n",
    "    for k in range(i-1):# for *_ \n",
    "        print(\"*_\",end=\"\")\n",
    "    print(\"*\") #for *  ivi cheyala..ivi logical ga alochinchali.. spaces ela unnayi.. stars ela unnay8i ani...\n",
    "    # different n values chusi nuvve pattern kanukogalagali...aa tarvatha okko for loop rayali ippudu vaddule ivi \n",
    "    "
   ]
  },
  {
   "cell_type": "code",
   "execution_count": 45,
   "metadata": {},
   "outputs": [
    {
     "ename": "SyntaxError",
     "evalue": "invalid syntax (<ipython-input-45-5aa2b8898040>, line 1)",
     "output_type": "error",
     "traceback": [
      "\u001b[1;36m  File \u001b[1;32m\"<ipython-input-45-5aa2b8898040>\"\u001b[1;36m, line \u001b[1;32m1\u001b[0m\n\u001b[1;33m    --------e--------\u001b[0m\n\u001b[1;37m                      ^\u001b[0m\n\u001b[1;31mSyntaxError\u001b[0m\u001b[1;31m:\u001b[0m invalid syntax\n"
     ]
    }
   ],
   "source": [
    "--------       e      -------- \n",
    "------   e-    d    -e  ------ \n",
    "----   e-d-    c    -d-e  ---- \n",
    "--   e-d-c-    b    -c-d-e  -- \n",
    "\n",
    "e-d-c-b-a-b-c-d-e \n",
    "\n",
    "--e-d-c-b-c-d-e-- \n",
    "----e-d-c-d-e---- \n",
    "------e-d-e------ \n",
    "--------e-------- "
   ]
  },
  {
   "cell_type": "code",
   "execution_count": 53,
   "metadata": {},
   "outputs": [
    {
     "name": "stdout",
     "output_type": "stream",
     "text": [
      "5\n",
      "--------e--------\n",
      "------e-d-e------\n",
      "----e-d-c-d-e----\n",
      "--e-d-c-b-c-d-e--\n",
      "e-d-c-b-a-b-c-d-e\n",
      "--e-d-c-b-c-d-e--\n",
      "----e-d-c-d-e----\n",
      "------e-d-e------\n",
      "--------e--------\n"
     ]
    }
   ],
   "source": [
    "n= int(input())\n",
    "alphabet = {1:'a', 2:'b', 3:'c',4:'d',5:'e',6:'f',7:'g',8:'h',9:'i',10:'j',11:'k',12:'l',13:'m',14:'n',15:'o',\n",
    "            16:'p',17:'q',18:'r',19:'s',20:'t',21:'u',22:'v', 23:'w', 24:'x', 25:'y', 26:'z'}\n",
    "\n",
    "if n>=1 and n<=26:\n",
    "    # First Part \n",
    "\n",
    "    for line in range(1,n-1+1):\n",
    "\n",
    "        print(2*(n-line)*\"-\",end=\"\")\n",
    "\n",
    "        for pair in range(line-1):\n",
    "            print(alphabet[n-pair]+\"-\",end=\"\")\n",
    "\n",
    "        print(alphabet[n+1-line],end=\"\")\n",
    "\n",
    "        # because of symmetry we are using the above code to write the last 2 components in first part. \n",
    "\n",
    "        for ind in range(n+2-line,n+1):\n",
    "            print(\"-\"+alphabet[ind],end=\"\")\n",
    "\n",
    "        print(2*(n-line)*\"-\")\n",
    "\n",
    "\n",
    "    # Middle Part\n",
    "    for i in range(n,0,-1):\n",
    "        print(alphabet[i]+\"-\",end=\"\")\n",
    "    for j in range(2,n+1):\n",
    "        if j!=n:\n",
    "            print(alphabet[j]+\"-\",end=\"\")\n",
    "        else:\n",
    "            print(alphabet[j])\n",
    "\n",
    "    # Last Part\n",
    "\n",
    "    for line in range(n-1,0,-1):\n",
    "\n",
    "        print(2*(n-line)*\"-\",end=\"\")\n",
    "\n",
    "        for pair in range(line-1):\n",
    "            print(alphabet[n-pair]+\"-\",end=\"\")\n",
    "\n",
    "        print(alphabet[n+1-line],end=\"\")\n",
    "\n",
    "        # because of symmetry we are using the above code to write the last 2 components in first part. \n",
    "\n",
    "        for ind in range(n+2-line,n+1):\n",
    "            print(\"-\"+alphabet[ind],end=\"\")\n",
    "\n",
    "        print(2*(n-line)*\"-\")"
   ]
  },
  {
   "cell_type": "code",
   "execution_count": 51,
   "metadata": {},
   "outputs": [
    {
     "data": {
      "text/plain": [
       "2"
      ]
     },
     "execution_count": 51,
     "metadata": {},
     "output_type": "execute_result"
    }
   ],
   "source": [
    "L=['Santa Cruz','Santa fe','Mumbai','Delhi']\n",
    "new= sum(list(map(lambda x:x[0]==\"S\",L)))\n",
    "new\n",
    "\n",
    "# explain cheaynaa.. map ni um\n",
    "# so nee daggara oka function undi anuko.. adi at a time oka input ee teeskuniddi.. but\n",
    "# nuv ade function ni oka list lo every element ki apply cheyali anuko.. oka for loop rayali kada ..\n",
    "# adi time waste ani idi kanipettaru..\n",
    "\n",
    "# pi example lo chud... nee lambda function em chestundi... oka string teeskoni.. andulo first element s aa kada ani boolean value\n",
    "# isthundii..avnaa haa.. so ee lambda function output either True/False\n",
    "# ipudu nee daggara unna list lo ila enni words unnayo telusukovali anuko...ideally manm em chestam\n",
    "# count =0, for word in L: count+1 ani ala rasthu veltham kada check chesi each word ni\n",
    "\n",
    "# but ippuu ee map em chesiddi ante direct ga list meeda apply chesiddi..\n",
    "# appudu neeku output em vachiddi ante list of booleans\n",
    "#[True, True, False, False] endukantee L meeda apply chesav kbatti\n",
    "\n",
    "# python lo true ante 1, false ante 0\n",
    "# so ee list ni sum cheste value 2 vachiddi.."
   ]
  },
  {
   "cell_type": "code",
   "execution_count": 1,
   "metadata": {
    "scrolled": true
   },
   "outputs": [
    {
     "ename": "SyntaxError",
     "evalue": "invalid character in identifier (<ipython-input-1-a704ee26f497>, line 4)",
     "output_type": "error",
     "traceback": [
      "\u001b[1;36m  File \u001b[1;32m\"<ipython-input-1-a704ee26f497>\"\u001b[1;36m, line \u001b[1;32m4\u001b[0m\n\u001b[1;33m    l = input_str.split('_')\u001b[0m\n\u001b[1;37m                             ^\u001b[0m\n\u001b[1;31mSyntaxError\u001b[0m\u001b[1;31m:\u001b[0m invalid character in identifier\n"
     ]
    }
   ],
   "source": [
    "import ast,sys\n",
    "input_str = sys.stdin.read()\n",
    "input_str = 'Kumar_Ravi_003'\n",
    "l = input_str.split('_')  \n",
    "first_name = list[1] \n",
    "second_name = list[0] \n",
    "customer_code = list[2]\n",
    "print(first_name)\n",
    "print(second_name)\n",
    "print(customer_code)"
   ]
  },
  {
   "cell_type": "code",
   "execution_count": 54,
   "metadata": {},
   "outputs": [
    {
     "name": "stdout",
     "output_type": "stream",
     "text": [
      "0\n"
     ]
    }
   ],
   "source": [
    "L=[2, 3, 4, 2, 1, 2, 3]\n",
    "print(L.index(2))"
   ]
  },
  {
   "cell_type": "code",
   "execution_count": 60,
   "metadata": {},
   "outputs": [
    {
     "name": "stdout",
     "output_type": "stream",
     "text": [
      "[20, 40, 60, 80]\n"
     ]
    }
   ],
   "source": [
    "L=[10,20,30,40,50,60,70,80,90,100]\n",
    "print([L[i] for i in range(1,9,2)])  # list comprehension idi.. gurthundaa haa..mundu output tarvatha loop/condition ok"
   ]
  },
  {
   "cell_type": "code",
   "execution_count": 72,
   "metadata": {},
   "outputs": [
    {
     "name": "stdout",
     "output_type": "stream",
     "text": [
      "*\n",
      "**\n",
      "***\n",
      "****\n",
      "a\n",
      "ab\n",
      "abc\n",
      "abcd\n",
      "a-b-c-d-e-\n",
      "a-b-c-d-e--e-d-c-b-a\n"
     ]
    }
   ],
   "source": [
    " \"\"\"\n",
    "    *\n",
    "   **\n",
    "  ***\n",
    " ****\n",
    " \"\"\"   \n",
    "n = 4\n",
    "for i in range(4):\n",
    "    print((i+1)*\"*\")\n",
    "    \n",
    "for i in range(n+1):\n",
    "    for k in range(i): # range(i) means 0,1,2,.....i-1\n",
    "        if k!=i-1:\n",
    "            print(alphabet[k+1],end=\"\")\n",
    "        else:\n",
    "            print(alphabet[k+1])\n",
    "            \n",
    "part_one = \"\"           \n",
    "for i in range(5):\n",
    "    part_one = part_one+alphabet[i+1]+\"-\"\n",
    "print(part_one)\n",
    "\n",
    "second_part = part_one[::-1]\n",
    "\n",
    "print(part_one+second_part)"
   ]
  },
  {
   "cell_type": "code",
   "execution_count": null,
   "metadata": {},
   "outputs": [],
   "source": [
    "import ast\n",
    "input_list=input()\n",
    "\n",
    "input_list=ast.literal_eval(input())\n",
    "if len(input_list)==0:\n",
    "    print(\"no minimum number\")\n",
    "else:\n",
    "    m=input_list[0]\n",
    "    for i in input_list:\n",
    "        if i<m:\n",
    "            m=item\n",
    "    print(m)"
   ]
  },
  {
   "cell_type": "code",
   "execution_count": 1,
   "metadata": {},
   "outputs": [
    {
     "ename": "KeyboardInterrupt",
     "evalue": "Interrupted by user",
     "output_type": "error",
     "traceback": [
      "\u001b[1;31m---------------------------------------------------------------------------\u001b[0m",
      "\u001b[1;31mKeyboardInterrupt\u001b[0m                         Traceback (most recent call last)",
      "\u001b[1;32m<ipython-input-1-831393fa5908>\u001b[0m in \u001b[0;36m<module>\u001b[1;34m\u001b[0m\n\u001b[0;32m      1\u001b[0m \u001b[1;32mimport\u001b[0m \u001b[0mast\u001b[0m\u001b[1;33m\u001b[0m\u001b[1;33m\u001b[0m\u001b[0m\n\u001b[1;32m----> 2\u001b[1;33m \u001b[0minput_list\u001b[0m\u001b[1;33m=\u001b[0m\u001b[0minput\u001b[0m\u001b[1;33m(\u001b[0m\u001b[1;33m)\u001b[0m\u001b[1;33m\u001b[0m\u001b[1;33m\u001b[0m\u001b[0m\n\u001b[0m\u001b[0;32m      3\u001b[0m \u001b[0minput_list\u001b[0m\u001b[1;33m=\u001b[0m\u001b[0mast\u001b[0m\u001b[1;33m.\u001b[0m\u001b[0mliteral_eval\u001b[0m\u001b[1;33m(\u001b[0m\u001b[0minput\u001b[0m\u001b[1;33m(\u001b[0m\u001b[1;33m)\u001b[0m\u001b[1;33m)\u001b[0m\u001b[1;33m\u001b[0m\u001b[1;33m\u001b[0m\u001b[0m\n\u001b[0;32m      4\u001b[0m \u001b[0mdata\u001b[0m\u001b[1;33m=\u001b[0m\u001b[0minput_list\u001b[0m\u001b[1;33m[\u001b[0m\u001b[1;36m0\u001b[0m\u001b[1;33m]\u001b[0m\u001b[1;33m\u001b[0m\u001b[1;33m\u001b[0m\u001b[0m\n\u001b[0;32m      5\u001b[0m \u001b[0mcheck\u001b[0m\u001b[1;33m=\u001b[0m\u001b[0minput_list\u001b[0m\u001b[1;33m[\u001b[0m\u001b[1;36m1\u001b[0m\u001b[1;33m]\u001b[0m\u001b[1;33m\u001b[0m\u001b[1;33m\u001b[0m\u001b[0m\n",
      "\u001b[1;32m~\\anaconda3\\lib\\site-packages\\ipykernel\\kernelbase.py\u001b[0m in \u001b[0;36mraw_input\u001b[1;34m(self, prompt)\u001b[0m\n\u001b[0;32m    858\u001b[0m                 \u001b[1;34m\"raw_input was called, but this frontend does not support input requests.\"\u001b[0m\u001b[1;33m\u001b[0m\u001b[1;33m\u001b[0m\u001b[0m\n\u001b[0;32m    859\u001b[0m             )\n\u001b[1;32m--> 860\u001b[1;33m         return self._input_request(str(prompt),\n\u001b[0m\u001b[0;32m    861\u001b[0m             \u001b[0mself\u001b[0m\u001b[1;33m.\u001b[0m\u001b[0m_parent_ident\u001b[0m\u001b[1;33m,\u001b[0m\u001b[1;33m\u001b[0m\u001b[1;33m\u001b[0m\u001b[0m\n\u001b[0;32m    862\u001b[0m             \u001b[0mself\u001b[0m\u001b[1;33m.\u001b[0m\u001b[0m_parent_header\u001b[0m\u001b[1;33m,\u001b[0m\u001b[1;33m\u001b[0m\u001b[1;33m\u001b[0m\u001b[0m\n",
      "\u001b[1;32m~\\anaconda3\\lib\\site-packages\\ipykernel\\kernelbase.py\u001b[0m in \u001b[0;36m_input_request\u001b[1;34m(self, prompt, ident, parent, password)\u001b[0m\n\u001b[0;32m    902\u001b[0m             \u001b[1;32mexcept\u001b[0m \u001b[0mKeyboardInterrupt\u001b[0m\u001b[1;33m:\u001b[0m\u001b[1;33m\u001b[0m\u001b[1;33m\u001b[0m\u001b[0m\n\u001b[0;32m    903\u001b[0m                 \u001b[1;31m# re-raise KeyboardInterrupt, to truncate traceback\u001b[0m\u001b[1;33m\u001b[0m\u001b[1;33m\u001b[0m\u001b[1;33m\u001b[0m\u001b[0m\n\u001b[1;32m--> 904\u001b[1;33m                 \u001b[1;32mraise\u001b[0m \u001b[0mKeyboardInterrupt\u001b[0m\u001b[1;33m(\u001b[0m\u001b[1;34m\"Interrupted by user\"\u001b[0m\u001b[1;33m)\u001b[0m \u001b[1;32mfrom\u001b[0m \u001b[1;32mNone\u001b[0m\u001b[1;33m\u001b[0m\u001b[1;33m\u001b[0m\u001b[0m\n\u001b[0m\u001b[0;32m    905\u001b[0m             \u001b[1;32mexcept\u001b[0m \u001b[0mException\u001b[0m \u001b[1;32mas\u001b[0m \u001b[0me\u001b[0m\u001b[1;33m:\u001b[0m\u001b[1;33m\u001b[0m\u001b[1;33m\u001b[0m\u001b[0m\n\u001b[0;32m    906\u001b[0m                 \u001b[0mself\u001b[0m\u001b[1;33m.\u001b[0m\u001b[0mlog\u001b[0m\u001b[1;33m.\u001b[0m\u001b[0mwarning\u001b[0m\u001b[1;33m(\u001b[0m\u001b[1;34m\"Invalid Message:\"\u001b[0m\u001b[1;33m,\u001b[0m \u001b[0mexc_info\u001b[0m\u001b[1;33m=\u001b[0m\u001b[1;32mTrue\u001b[0m\u001b[1;33m)\u001b[0m\u001b[1;33m\u001b[0m\u001b[1;33m\u001b[0m\u001b[0m\n",
      "\u001b[1;31mKeyboardInterrupt\u001b[0m: Interrupted by user"
     ]
    }
   ],
   "source": [
    "import ast\n",
    "input_list=input()\n",
    "input_list=ast.literal_eval(input())\n",
    "data=input_list[0]\n",
    "check=input_list[1]\n",
    "s=0\n",
    "for i in data:\n",
    "    s+=i\n",
    "    avg=s/len(data)\n",
    "    print(avg)\n",
    "if check>avg:\n",
    "    print(\"True\")\n",
    "else:\n",
    "    print(\"False\")"
   ]
  },
  {
   "cell_type": "code",
   "execution_count": 4,
   "metadata": {
    "scrolled": true
   },
   "outputs": [
    {
     "name": "stdout",
     "output_type": "stream",
     "text": [
      "[23, 45, 34, 76, 70, 94]\n"
     ]
    }
   ],
   "source": [
    "import ast\n",
    "team= [23,45,34,76]    #ast.literal_eval(input())\n",
    "applicant= [70,34,94]              #ast.literal_eval(input())\n",
    "\n",
    "for appl in applicant:\n",
    "#     s=0\n",
    "#     for i in team:\n",
    "#         s+=i\n",
    "    \n",
    "    avg=sum(team)/len(team)\n",
    "    if appl>avg:\n",
    "        team.append(appl)\n",
    "        \n",
    "print(team)\n"
   ]
  },
  {
   "cell_type": "code",
   "execution_count": null,
   "metadata": {},
   "outputs": [],
   "source": [
    "import ast\n",
    "\n",
    "team = ast.literal_eval(input())\n",
    "applicant = ast.literal_eval(input())\n",
    "\n",
    "#write your code here\n",
    "def check_above_average(data, check):\n",
    "    # s=0\n",
    "    # for item in data:\n",
    "    #     s = s+ item\n",
    "    s = sum(data)\n",
    "    avg = s/len(data)    \n",
    "    if check > avg:\n",
    "        return 1\n",
    "    else:\n",
    "        return 0\n",
    "\n",
    "for appl in applicant:\n",
    "    is_add = check_above_average(team,appl) ## ohh function nii inside for loop lo koodaa call cheyocha...yes baby ok.. right side of = ekkadina call cheyochu aram kaledoku\n",
    "    if is_add==1:                             ## ok ok ah function ekkadina call cheyochu..yes\n",
    "        team.append(appl)\n",
    "        \n",
    "    # adi just inicator variable laga..kadu is add =1 ni ela vachiddii akkada\n",
    "    # nen explain cheta chud.. nee dagara 2 lists unnayii.. teamink applicant.. nuv em chestunnav ante\n",
    "    # team average kanna ekkuva score unte applicant ni team ki add cheyali.. \n",
    "    # so obvious logic enti.. for every applicant ..check what is the current team avg and if appl> team average..\n",
    "    # add him to team..akkada loop lo ade jarugutndi.. is_add anedi just oka indicator ana mata if appl> team_avg\n",
    "    # anduke dani kinda if loop lo aa value 1 aithe team ki append chesthunnam..and this procedures fgoes on \n",
    "    # for remainig applicants..ardamainda...  ok akkada evry applicant ki check cheyali ante anni for loops rayaleka ah fn ni call chesi function true aithe append chesthunnam anthega...perfect\n",
    "    # pavan \n",
    "print(team)\n"
   ]
  },
  {
   "cell_type": "code",
   "execution_count": null,
   "metadata": {},
   "outputs": [],
   "source": [
    "team=[]\n",
    "for appl in applicant:\n",
    "    avg = sum(data)/len(data)    \n",
    "    if check > avg:\n",
    "        team.append(appl)\n",
    "print(team)   \n",
    "     ## ohh function nii inside for loop lo koodaa call cheyocha...yes baby ok.. right side of = ekkadina call cheyochu aram kaledoku\n",
    "                            ## ok ok ah function ekkadina call cheyochu..yes\n",
    "\n",
    "   # inka doubts unnayaa     \n",
    "# ila rayakoodada.. rayochu..  function lenappudu return rayakoodadu inthena..anthe"
   ]
  },
  {
   "cell_type": "code",
   "execution_count": 5,
   "metadata": {},
   "outputs": [
    {
     "name": "stdout",
     "output_type": "stream",
     "text": [
      "2\n"
     ]
    }
   ],
   "source": [
    "events=[ [29,31], [23,26], [24,25] ]\n",
    "wedding=24\n",
    "clash=0\n",
    "for event in events:\n",
    "    start=event[0]\n",
    "    end=event[1]\n",
    "    if wedding>=start and wedding<=end:\n",
    "        clash+=1\n",
    "print(clash)"
   ]
  },
  {
   "cell_type": "code",
   "execution_count": 9,
   "metadata": {},
   "outputs": [
    {
     "name": "stdout",
     "output_type": "stream",
     "text": [
      "4,5\n",
      "[0, 0, 0, 0, 0] [0, 0, 0, 0, 0, 0, 0, 0, 0, 0, 0, 0, 0, 0, 0, 0, 0, 0, 0, 0]\n"
     ]
    }
   ],
   "source": [
    "import ast\n",
    "l=ast.literal_eval(input())\n",
    "m=l[0]\n",
    "n=l[1]\n",
    "a=[0]*n\n",
    "b=a*m\n",
    "print(a,b) # ikkada [0]*4 cheste[0] radu.. but [0,0,0,0] vachiddi"
   ]
  },
  {
   "cell_type": "code",
   "execution_count": 13,
   "metadata": {},
   "outputs": [
    {
     "name": "stdout",
     "output_type": "stream",
     "text": [
      "4,5\n",
      "[1, 1, 1, 1, 1]\n",
      "[1, 1, 1, 1, 1]\n",
      "[1, 1, 1, 1, 1]\n",
      "[1, 1, 1, 1, 1]\n"
     ]
    }
   ],
   "source": [
    "# shallow copying in 2d lists\n",
    "\n",
    "import ast\n",
    "l=ast.literal_eval(input())\n",
    "m=l[0]\n",
    "n=l[1]\n",
    "a=[0]*n\n",
    "b=[a for i in range(m)] #copies of a\n",
    "\n",
    "for i in range(m):\n",
    "    for j in range(n):\n",
    "        if i==0 or j==0 or i==m-1 or j==n-1:\n",
    "            b[i][j]=1\n",
    "            \n",
    "            \n",
    "for i in range(m):\n",
    "    print(b[i])"
   ]
  },
  {
   "cell_type": "code",
   "execution_count": 12,
   "metadata": {},
   "outputs": [
    {
     "name": "stdout",
     "output_type": "stream",
     "text": [
      "4,5\n",
      "[1, 1, 1, 1, 1]\n",
      "[1, 0, 0, 0, 1]\n",
      "[1, 0, 0, 0, 1]\n",
      "[1, 1, 1, 1, 1]\n"
     ]
    }
   ],
   "source": [
    "# deep copying in 2d lists\n",
    "\n",
    "import ast\n",
    "l=ast.literal_eval(input())\n",
    "m=l[0]\n",
    "n=l[1]\n",
    "a=[0]*n\n",
    "b=[list(a) for i in range(m)]\n",
    "for i in range(m):\n",
    "    for j in range(n):\n",
    "        if i==0 or j==0 or i==m-1 or j==n-1:\n",
    "            b[i][j]=1\n",
    "            \n",
    "for i in range(m):\n",
    "    print(b[i])\n",
    "        "
   ]
  },
  {
   "cell_type": "code",
   "execution_count": 14,
   "metadata": {},
   "outputs": [
    {
     "name": "stdout",
     "output_type": "stream",
     "text": [
      "3\n"
     ]
    }
   ],
   "source": [
    "print(chr(51))"
   ]
  },
  {
   "cell_type": "code",
   "execution_count": 16,
   "metadata": {},
   "outputs": [
    {
     "data": {
      "text/plain": [
       "'upGrad'"
      ]
     },
     "execution_count": 16,
     "metadata": {},
     "output_type": "execute_result"
    }
   ],
   "source": [
    "'G'.join(['up','rad'])"
   ]
  },
  {
   "cell_type": "code",
   "execution_count": 18,
   "metadata": {},
   "outputs": [
    {
     "data": {
      "text/plain": [
       "'upGrad'"
      ]
     },
     "execution_count": 18,
     "metadata": {},
     "output_type": "execute_result"
    }
   ],
   "source": [
    "s='aabupGradaab'.strip('aab')\n",
    "s"
   ]
  },
  {
   "cell_type": "code",
   "execution_count": 19,
   "metadata": {},
   "outputs": [
    {
     "data": {
      "text/plain": [
       "'upGrad'"
      ]
     },
     "execution_count": 19,
     "metadata": {},
     "output_type": "execute_result"
    }
   ],
   "source": [
    "s='aabupGradaab'.strip('a').strip('b').strip('a')\n",
    "s"
   ]
  },
  {
   "cell_type": "code",
   "execution_count": 1,
   "metadata": {},
   "outputs": [
    {
     "name": "stdout",
     "output_type": "stream",
     "text": [
      "2\n",
      "2\n"
     ]
    }
   ],
   "source": [
    "n=int(input())\n",
    "\n",
    "#check if the number is prime or no\n",
    "def is_prime(num):\n",
    "    for i in range(2,num):\n",
    "        if num%i==0:\n",
    "            return False\n",
    "    return True\n",
    "\n",
    "s=0 #sum of primes\n",
    "for i in range(2, n+1):\n",
    "    if(is_prime(i)):\n",
    "        s=s+i\n",
    "print(s)\n"
   ]
  },
  {
   "cell_type": "code",
   "execution_count": 3,
   "metadata": {},
   "outputs": [
    {
     "name": "stdout",
     "output_type": "stream",
     "text": [
      "Hannah\n",
      "1\n"
     ]
    }
   ],
   "source": [
    "# Read the input\n",
    "s = input()\n",
    "\n",
    "#check for palindrome here\n",
    "s=s.lower()\n",
    "r=''\n",
    "for i in s:\n",
    "    r=i+r\n",
    "if r==s:\n",
    "    print(1)\n",
    "else:\n",
    "    print(0)\n",
    "    \n"
   ]
  },
  {
   "cell_type": "code",
   "execution_count": 1,
   "metadata": {},
   "outputs": [
    {
     "name": "stdout",
     "output_type": "stream",
     "text": [
      "Hannah\n",
      "1\n"
     ]
    }
   ],
   "source": [
    "# Read the input\n",
    "s = input()\n",
    "\n",
    "#check for palindrome here\n",
    "s=s.lower()\n",
    "if s == s[::-1]:\n",
    "    print(1)\n",
    "else:\n",
    "    print(0)"
   ]
  },
  {
   "cell_type": "code",
   "execution_count": 2,
   "metadata": {},
   "outputs": [
    {
     "name": "stdout",
     "output_type": "stream",
     "text": [
      "Hannah\n"
     ]
    }
   ],
   "source": [
    "s = input()\n",
    "def isPalindrome(s):\n",
    "     \n",
    "    # Using predefined function to \n",
    "    # reverse to string print(s)\n",
    "    rev = ''.join(reversed(s))\n",
    " \n",
    "    # Checking if both string are \n",
    "    # equal or not\n",
    "    if (s == rev):\n",
    "        return True\n",
    "    return False"
   ]
  },
  {
   "cell_type": "code",
   "execution_count": null,
   "metadata": {},
   "outputs": [],
   "source": [
    "\n",
    "#PRACTISE QNS LISTS\n",
    "n=int(input())\n",
    "answer=[['1']]\n",
    "for i in range(2, n+1):\n",
    "    #print(\"i= \"+str(i))\n",
    "    t=[str(i)]*((2*i)-3)\n",
    "    t2=[str(i)]*((2*i)-3)\n",
    "    answer.insert(0, t2)\n",
    "    answer.append(t)\n",
    "    for a in answer:\n",
    "        a.insert(0,str(i))\n",
    "        a.append(str(i))\n",
    "answerfinal=[]\n",
    "for a in answer:\n",
    "    answerfinal.append(\"\".join(a))\n",
    "for a in answerfinal:\n",
    "    print(a)"
   ]
  },
  {
   "cell_type": "code",
   "execution_count": 11,
   "metadata": {},
   "outputs": [
    {
     "name": "stdout",
     "output_type": "stream",
     "text": [
      "fun and easy super is python\n"
     ]
    }
   ],
   "source": [
    "#sentence=input()\n",
    "sentence='python is super easy and fun'\n",
    "a=sentence.split(\" \")\n",
    "a.reverse()\n",
    "final_string=\" \".join(a)\n",
    "print(final_string)\n",
    "\n",
    "\n",
    "#reverse the words of the sentence here"
   ]
  },
  {
   "cell_type": "code",
   "execution_count": 29,
   "metadata": {},
   "outputs": [
    {
     "name": "stdout",
     "output_type": "stream",
     "text": [
      "ramya,pavan\n",
      "Ramya,pavan\n"
     ]
    }
   ],
   "source": [
    "s=input()\n",
    "r=s.lower()\n",
    "words=r.split(\" \")\n",
    "final_list=[word[0].upper()+word[1:] for word in words]\n",
    "final_string=\"_\".join(final_list)\n",
    "print(final_string)"
   ]
  },
  {
   "cell_type": "code",
   "execution_count": 27,
   "metadata": {},
   "outputs": [
    {
     "name": "stdout",
     "output_type": "stream",
     "text": [
      "ramya,pavan\n",
      "Ramya,Pavan\n",
      "R_a_m_y_a_,_P_a_v_a_n\n"
     ]
    }
   ],
   "source": [
    "s=input()\n",
    "r=s.lower()\n",
    "words=r.split(\" \")\n",
    "for word in words:\n",
    "    final_list=word.title()\n",
    "print(final_list)\n",
    "final_string=\"_\".join(final_list)\n",
    "print(final_string)\n"
   ]
  },
  {
   "cell_type": "code",
   "execution_count": 32,
   "metadata": {},
   "outputs": [
    {
     "name": "stdout",
     "output_type": "stream",
     "text": [
      "oaiprgrmmng\n"
     ]
    }
   ],
   "source": [
    "\n",
    "s='programming'\n",
    "vowels='a,e,i,o,u'\n",
    "c=''\n",
    "v=''\n",
    "for i in s:\n",
    "    if i in vowels:\n",
    "        v=v+i\n",
    "    else:\n",
    "        c=c+i\n",
    "    final_word=v+c\n",
    "print(final_word)"
   ]
  },
  {
   "cell_type": "code",
   "execution_count": null,
   "metadata": {},
   "outputs": [],
   "source": [
    "#common prefixes\n",
    "string1=input()\n",
    "string2=input()\n",
    "string1=string1.lower()\n",
    "string2=string2.lower()\n",
    "l3=min(len(string1),len(string2))\n",
    "for i in range(l3):\n",
    "    if string1[i]!=string2[i]:\n",
    "        break\n",
    "if i==0:\n",
    "    print(-1)\n",
    "else:\n",
    "    print(string2[:i])\n",
    "    "
   ]
  },
  {
   "cell_type": "code",
   "execution_count": null,
   "metadata": {},
   "outputs": [],
   "source": [
    "string1=input()\n",
    "string2=input()\n",
    "string1=string1.lower()\n",
    "string2=string2.lower()\n",
    "l3=min(len(string1),len(string2))\n",
    "for i in range(l3):\n",
    "    if string1[i]!=string2[i]:\n",
    "        break\n",
    "if i==0:\n",
    "    print(-1)\n",
    "else:\n",
    "    print(string1[:i])"
   ]
  },
  {
   "cell_type": "code",
   "execution_count": null,
   "metadata": {},
   "outputs": [],
   "source": [
    "string1=input()\n",
    "string2=input()\n",
    "string1=string1.lower()\n",
    "string2=string2.lower()\n",
    "l3=min(len(string1),len(string2))\n",
    "for i in range(l3):\n",
    "    if string1[i]!=string2[i]:\n",
    "        break\n",
    "if i==0:\n",
    "    print(-1)\n",
    "else:\n",
    "    print(string2[:i])"
   ]
  },
  {
   "cell_type": "code",
   "execution_count": 32,
   "metadata": {},
   "outputs": [
    {
     "name": "stdout",
     "output_type": "stream",
     "text": [
      "True\n",
      "True\n",
      "True\n",
      "True\n",
      "True\n",
      "4\n"
     ]
    }
   ],
   "source": [
    "s1='thing'\n",
    "s2='night'\n",
    "s1=s1.lower()\n",
    "s2=s2.lower()\n",
    "if len(s1)!=len(s2):\n",
    "    print(\"False\")\n",
    "#if len s1= len s2\n",
    "for i in range(len(s1)):\n",
    "    if s1.count(s1[i])==2.count(s1[i]):\n",
    "        print(\"True\")\n",
    "    else:\n",
    "        print(\"False\")\n"
   ]
  },
  {
   "cell_type": "code",
   "execution_count": 51,
   "metadata": {},
   "outputs": [
    {
     "name": "stdout",
     "output_type": "stream",
     "text": [
      "True\n"
     ]
    }
   ],
   "source": [
    "s1='thing'\n",
    "s2='night'\n",
    "s1=s1.lower()\n",
    "s2=s2.lower()\n",
    "def anagram(s1,s2):\n",
    "    if len(s1)!=len(s2):\n",
    "        return False\n",
    "    for i in range(len(s1)):#if len s1= len s2\n",
    "        if s1.count(s1[i])!=s2.count(s1[i]):\n",
    "            return False\n",
    "    return True\n",
    "print(anagram(s1,s2))\n"
   ]
  },
  {
   "cell_type": "code",
   "execution_count": 52,
   "metadata": {},
   "outputs": [
    {
     "ename": "KeyError",
     "evalue": "'e'",
     "output_type": "error",
     "traceback": [
      "\u001b[1;31m---------------------------------------------------------------------------\u001b[0m",
      "\u001b[1;31mKeyError\u001b[0m                                  Traceback (most recent call last)",
      "\u001b[1;32m<ipython-input-52-5832ad0089c6>\u001b[0m in \u001b[0;36m<module>\u001b[1;34m\u001b[0m\n\u001b[0;32m      1\u001b[0m \u001b[0md\u001b[0m\u001b[1;33m=\u001b[0m\u001b[1;33m{\u001b[0m\u001b[1;34m'a'\u001b[0m\u001b[1;33m:\u001b[0m\u001b[1;36m64\u001b[0m\u001b[1;33m,\u001b[0m \u001b[1;34m'b'\u001b[0m\u001b[1;33m:\u001b[0m\u001b[1;36m65\u001b[0m\u001b[1;33m,\u001b[0m \u001b[1;34m'c'\u001b[0m\u001b[1;33m:\u001b[0m\u001b[1;36m66\u001b[0m\u001b[1;33m,\u001b[0m \u001b[1;34m'd'\u001b[0m\u001b[1;33m:\u001b[0m\u001b[1;36m67\u001b[0m\u001b[1;33m}\u001b[0m\u001b[1;33m\u001b[0m\u001b[1;33m\u001b[0m\u001b[0m\n\u001b[1;32m----> 2\u001b[1;33m \u001b[0mprint\u001b[0m\u001b[1;33m(\u001b[0m\u001b[0md\u001b[0m\u001b[1;33m[\u001b[0m\u001b[1;34m'e'\u001b[0m\u001b[1;33m]\u001b[0m\u001b[1;33m)\u001b[0m\u001b[1;33m\u001b[0m\u001b[1;33m\u001b[0m\u001b[0m\n\u001b[0m\u001b[0;32m      3\u001b[0m \u001b[1;33m\u001b[0m\u001b[0m\n",
      "\u001b[1;31mKeyError\u001b[0m: 'e'"
     ]
    }
   ],
   "source": [
    "d={'a':64, 'b':65, 'c':66, 'd':67}\n",
    "print(d['e'])\n",
    " "
   ]
  },
  {
   "cell_type": "code",
   "execution_count": 53,
   "metadata": {},
   "outputs": [
    {
     "name": "stdout",
     "output_type": "stream",
     "text": [
      "dict_keys(['a', 'b', 'c', 'd'])\n"
     ]
    }
   ],
   "source": [
    "d={'a':64, 'b':65, 'c':66, 'd':67}\n",
    "print(d.keys())\n",
    " "
   ]
  },
  {
   "cell_type": "code",
   "execution_count": 55,
   "metadata": {},
   "outputs": [
    {
     "data": {
      "text/plain": [
       "{2, 3, 4, 5, 8, 9}"
      ]
     },
     "execution_count": 55,
     "metadata": {},
     "output_type": "execute_result"
    }
   ],
   "source": [
    "l=[8, 9, 2, 2, 3, 4, 5, 2]\n",
    "v=set(l)\n",
    "v"
   ]
  },
  {
   "cell_type": "code",
   "execution_count": 57,
   "metadata": {},
   "outputs": [
    {
     "name": "stdout",
     "output_type": "stream",
     "text": [
      "[8, 9, 2, 3, 4, 5]\n"
     ]
    }
   ],
   "source": [
    "l=[8, 9, 2, 2, 3, 4, 5, 2]\n",
    "v={}\n",
    "for item in l:\n",
    "    if item not in v:\n",
    "        v[item]=1\n",
    "    else:\n",
    "        v[item]+=1\n",
    "print(list(v.keys()))\n",
    "        "
   ]
  },
  {
   "cell_type": "code",
   "execution_count": 58,
   "metadata": {},
   "outputs": [
    {
     "name": "stdout",
     "output_type": "stream",
     "text": [
      "['Mobile_Redmi', 'Mobile_Samsung', 'Mobile_Realme', 'Laptop_Dell', 'Laptop_HP', 'TV_Videocon', 'TV_Sony']\n"
     ]
    }
   ],
   "source": [
    "d={'Mobile': ['Redmi', 'Samsung', 'Realme'], 'Laptop': ['Dell', 'HP'],'TV': ['Videocon', 'Sony'] }\n",
    "l=[]\n",
    "for key in d.keys():\n",
    "    for word in d[key]:\n",
    "        l.append(key+\"_\"+word)\n",
    "print(l)\n",
    "    \n"
   ]
  },
  {
   "cell_type": "code",
   "execution_count": 80,
   "metadata": {},
   "outputs": [
    {
     "name": "stdout",
     "output_type": "stream",
     "text": [
      "{'$': 2, 'y': 1, 'r': 4, 's': 3}\n",
      "True\n"
     ]
    }
   ],
   "source": [
    "s=\"$yrr$ssrsr\" \n",
    "t=list(s)\n",
    "d={}\n",
    "for w in t:\n",
    "    if w not in d:\n",
    "        d[w]=1\n",
    "        \n",
    "    else: #d[key]=valve or frequency\n",
    "        d[w]=d[w]+1\n",
    "        \n",
    "print(d)\n",
    "\n",
    "\n",
    "# logic : if there is a duplicate then max element in the list will not be equal to len(list). so upgrad string will always have len(l)==max(l)\n",
    "\"\"\"\n",
    "example :\n",
    "l =[1,2,3,4]\n",
    "len(l) is 4\n",
    "max(l) is also 4\n",
    "\n",
    "example2:\n",
    "l=[1,1,2,3,4]\n",
    "len(l) is 5\n",
    "max(l) is 4\n",
    "\n",
    "\"\"\"\n",
    "val=d.values()\n",
    "n=len(d)\n",
    "for i in range(1,n+1):\n",
    "    if i not in val:\n",
    "        print(\"False\")\n",
    "else:\n",
    "    print(\"True\")\n",
    "\n",
    "    \n",
    "\n"
   ]
  },
  {
   "cell_type": "code",
   "execution_count": null,
   "metadata": {},
   "outputs": [],
   "source": [
    "s=\"$yrr$ssrsr\" \n",
    "t=list(s)\n",
    "d={}\n",
    "for w in t:\n",
    "    if w not in d:\n",
    "        d[w]=1\n",
    "        \n",
    "    else: #d[key]=valve or frequency\n",
    "        d[w]=d[w]+1\n",
    "val=d.values()\n",
    "n=len(d)\n",
    "\n",
    "def chk_upg(n,val):\n",
    "    for i in range(1,n+1):\n",
    "        if i not in val:\n",
    "            return False\n",
    "    return True\n",
    "\n",
    "print(chk_upg(n,val))"
   ]
  },
  {
   "cell_type": "code",
   "execution_count": 76,
   "metadata": {},
   "outputs": [
    {
     "name": "stdout",
     "output_type": "stream",
     "text": [
      "['$', 'y', 'r', 'r', '$', 's', 's', 'r', 's', 'r']\n",
      "{'s', '$', 'r', 'y'}\n"
     ]
    }
   ],
   "source": [
    "s=\"$yrr$ssrsr\" \n",
    "t=list(s)\n",
    "len(t)\n",
    "print(t)\n",
    "q=set(t)\n",
    "len(q)\n",
    "print(q)"
   ]
  },
  {
   "cell_type": "code",
   "execution_count": 28,
   "metadata": {},
   "outputs": [
    {
     "name": "stdout",
     "output_type": "stream",
     "text": [
      "pavaN iS thE besT\n"
     ]
    }
   ],
   "source": [
    "s =\" pavan is the best\"\n",
    "l =s.split()\n",
    "\n",
    "final_l = []\n",
    "for word in l:\n",
    "    new_word = []\n",
    "    for i in range(len(word)): #index based iteration\n",
    "        if i==len(word)-1:\n",
    "            new_word.append(word[i].upper())\n",
    "        else:\n",
    "            new_word.append(word[i])\n",
    "            \n",
    "    final_l.append(\"\".join(new_word)) #converting new word list to string by using join \n",
    "\n",
    "print(\" \".join(final_l))\n",
    "\n",
    "\n"
   ]
  },
  {
   "cell_type": "code",
   "execution_count": 29,
   "metadata": {},
   "outputs": [
    {
     "name": "stdout",
     "output_type": "stream",
     "text": [
      "paVan iS tHe beSt\n"
     ]
    }
   ],
   "source": [
    "s =\" pavan is the best\"\n",
    "l =s.split()\n",
    "\n",
    "final_l = []\n",
    "for word in l:\n",
    "    new_word = []\n",
    "    for i in range(len(word)): #index based iteration\n",
    "        if i==len(word)//2:\n",
    "            new_word.append(word[i].upper())\n",
    "        else:\n",
    "            new_word.append(word[i])\n",
    "            \n",
    "    final_l.append(\"\".join(new_word))\n",
    "\n",
    "print(\" \".join(final_l))\n"
   ]
  },
  {
   "cell_type": "code",
   "execution_count": 82,
   "metadata": {},
   "outputs": [
    {
     "name": "stdout",
     "output_type": "stream",
     "text": [
      "No\n",
      "[')', ')']\n"
     ]
    }
   ],
   "source": [
    "s=\"){[[]]}())()\"\n",
    "stack=[]\n",
    "for i in s:\n",
    "    if len(stack)==0:\n",
    "        stack.append(i)\n",
    "    else:\n",
    "        if i==')' and stack[-1]=='(':\n",
    "            stack.pop()\n",
    "        elif i=='}' and stack[-1]=='{':\n",
    "            stack.pop()\n",
    "        elif i==']' and stack[-1]=='[':\n",
    "            stack.pop()\n",
    "        else:\n",
    "            stack.append(i)\n",
    "if stack:\n",
    "    print(\"No\")\n",
    "else:\n",
    "    print(\"Yes\")\n",
    "                \n",
    "print(stack)"
   ]
  },
  {
   "cell_type": "code",
   "execution_count": null,
   "metadata": {},
   "outputs": [],
   "source": [
    "i=( ,s=)"
   ]
  },
  {
   "cell_type": "code",
   "execution_count": 83,
   "metadata": {},
   "outputs": [
    {
     "name": "stdout",
     "output_type": "stream",
     "text": [
      "No\n",
      "[')', '{', '[', '[', ']', ']', '}', '(', ')', ')']\n"
     ]
    }
   ],
   "source": [
    "# stack operations:pop and push, this works based on last in,first out\n",
    "\n",
    "s=\"){[[]]}())()\"\n",
    "stack=[]\n",
    "for i in s:\n",
    "    if len(stack)==0:\n",
    "        stack.append(i)\n",
    "    else:\n",
    "        if i=='(' and stack[-1]==')': # we have to write the paranthesis like this only\n",
    "            stack.pop()\n",
    "        elif i=='{' and stack[-1]=='}':\n",
    "            stack.pop()\n",
    "        elif i=='[' and stack[-1]==']':\n",
    "            stack.pop()\n",
    "        else:\n",
    "            stack.append(i)\n",
    "if len(stack): #bad way of writing program\n",
    "    print(\"No\")\n",
    "else:\n",
    "    print(\"Yes\")\n",
    "                \n",
    "print(stack)"
   ]
  },
  {
   "cell_type": "code",
   "execution_count": 88,
   "metadata": {},
   "outputs": [
    {
     "name": "stdout",
     "output_type": "stream",
     "text": [
      "False\n",
      "False\n"
     ]
    }
   ],
   "source": [
    "a =0\n",
    "print(bool(a))\n",
    "\n",
    "b = []\n",
    "print(bool(b))"
   ]
  },
  {
   "cell_type": "code",
   "execution_count": 7,
   "metadata": {},
   "outputs": [
    {
     "name": "stdout",
     "output_type": "stream",
     "text": [
      "Hello related to main_arg\n",
      "Hello related to main_arg\n",
      "Welcome related to argv\n",
      "to related to argv\n",
      "GeeksforGeeks related to argv\n"
     ]
    },
    {
     "ename": "TypeError",
     "evalue": "myFun() missing 1 required positional argument: 'main_arg'",
     "output_type": "error",
     "traceback": [
      "\u001b[1;31m---------------------------------------------------------------------------\u001b[0m",
      "\u001b[1;31mTypeError\u001b[0m                                 Traceback (most recent call last)",
      "\u001b[1;32m<ipython-input-7-186ebdc6dc08>\u001b[0m in \u001b[0;36m<module>\u001b[1;34m\u001b[0m\n\u001b[0;32m      7\u001b[0m \u001b[0mmyFun\u001b[0m\u001b[1;33m(\u001b[0m\u001b[1;34m'Hello'\u001b[0m\u001b[1;33m)\u001b[0m\u001b[1;33m\u001b[0m\u001b[1;33m\u001b[0m\u001b[0m\n\u001b[0;32m      8\u001b[0m \u001b[0mmyFun\u001b[0m\u001b[1;33m(\u001b[0m\u001b[1;34m'Hello'\u001b[0m\u001b[1;33m,\u001b[0m \u001b[1;34m'Welcome'\u001b[0m\u001b[1;33m,\u001b[0m \u001b[1;34m'to'\u001b[0m\u001b[1;33m,\u001b[0m \u001b[1;34m'GeeksforGeeks'\u001b[0m\u001b[1;33m)\u001b[0m\u001b[1;33m\u001b[0m\u001b[1;33m\u001b[0m\u001b[0m\n\u001b[1;32m----> 9\u001b[1;33m \u001b[0mmyFun\u001b[0m\u001b[1;33m(\u001b[0m\u001b[1;33m)\u001b[0m\u001b[1;33m\u001b[0m\u001b[1;33m\u001b[0m\u001b[0m\n\u001b[0m",
      "\u001b[1;31mTypeError\u001b[0m: myFun() missing 1 required positional argument: 'main_arg'"
     ]
    }
   ],
   "source": [
    "def myFun(main_arg ,*argv):  \n",
    "    print(main_arg, \"related to main_arg\")\n",
    "    for arg in argv:  \n",
    "        print(arg, \"related to argv\") \n",
    "\n",
    "        \n",
    "myFun('Hello')\n",
    "myFun('Hello', 'Welcome', 'to', 'GeeksforGeeks')  \n",
    "myFun()"
   ]
  },
  {
   "cell_type": "code",
   "execution_count": 14,
   "metadata": {},
   "outputs": [
    {
     "name": "stdout",
     "output_type": "stream",
     "text": [
      "8\n",
      "3.0\n",
      "12\n"
     ]
    }
   ],
   "source": [
    "def cal(a,b):\n",
    "    s=a+b\n",
    "    d=a/b\n",
    "    m=a*b\n",
    "    return s,d,m\n",
    "\n",
    "f,g,h = cal(6,2)\n",
    "print(f)\n",
    "print(g)\n",
    "print(h)"
   ]
  },
  {
   "cell_type": "code",
   "execution_count": 30,
   "metadata": {},
   "outputs": [
    {
     "ename": "TypeError",
     "evalue": "cal() missing 2 required positional arguments: 'a' and 'b'",
     "output_type": "error",
     "traceback": [
      "\u001b[1;31m---------------------------------------------------------------------------\u001b[0m",
      "\u001b[1;31mTypeError\u001b[0m                                 Traceback (most recent call last)",
      "\u001b[1;32m<ipython-input-30-43078bfe7675>\u001b[0m in \u001b[0;36m<module>\u001b[1;34m\u001b[0m\n\u001b[0;32m     17\u001b[0m \u001b[0ma\u001b[0m\u001b[1;33m=\u001b[0m\u001b[1;36m3\u001b[0m\u001b[1;33m\u001b[0m\u001b[1;33m\u001b[0m\u001b[0m\n\u001b[0;32m     18\u001b[0m \u001b[0mb\u001b[0m\u001b[1;33m=\u001b[0m\u001b[1;36m2\u001b[0m\u001b[1;33m\u001b[0m\u001b[1;33m\u001b[0m\u001b[0m\n\u001b[1;32m---> 19\u001b[1;33m \u001b[0mf\u001b[0m\u001b[1;33m,\u001b[0m\u001b[0mg\u001b[0m\u001b[1;33m,\u001b[0m\u001b[0mh\u001b[0m \u001b[1;33m=\u001b[0m \u001b[0mcal\u001b[0m\u001b[1;33m(\u001b[0m\u001b[1;33m)\u001b[0m \u001b[1;31m#outside function\u001b[0m\u001b[1;33m\u001b[0m\u001b[1;33m\u001b[0m\u001b[0m\n\u001b[0m\u001b[0;32m     20\u001b[0m \u001b[0mprint\u001b[0m\u001b[1;33m(\u001b[0m\u001b[0mf\u001b[0m\u001b[1;33m)\u001b[0m\u001b[1;33m\u001b[0m\u001b[1;33m\u001b[0m\u001b[0m\n\u001b[0;32m     21\u001b[0m \u001b[0mprint\u001b[0m\u001b[1;33m(\u001b[0m\u001b[0mg\u001b[0m\u001b[1;33m)\u001b[0m\u001b[1;33m\u001b[0m\u001b[1;33m\u001b[0m\u001b[0m\n",
      "\u001b[1;31mTypeError\u001b[0m: cal() missing 2 required positional arguments: 'a' and 'b'"
     ]
    }
   ],
   "source": [
    "def cal(a,b,t=\"case1\"):\n",
    "    if t==\"case1\":\n",
    "        s=a+b\n",
    "        d=a/b\n",
    "        m=a*b\n",
    "    else:\n",
    "        s=1\n",
    "        d=2\n",
    "        m=3\n",
    "    print(s)#inside function\n",
    "    return s,d,m\n",
    "\n",
    "# def welcome6(self,h,k):\n",
    "#     print(h,k)\n",
    "# welcome6(2,3)\n",
    "\n",
    "f,g,h = cal(6,2) #outside function\n",
    "print(f)\n",
    "print(g)\n",
    "print(h)\n",
    "\n",
    "\n"
   ]
  },
  {
   "cell_type": "code",
   "execution_count": 29,
   "metadata": {},
   "outputs": [],
   "source": [
    "def cal_without_return(a,b,t=\"case1\"):\n",
    "    if t==\"case1\":\n",
    "        s=a+b\n",
    "        d=a/b\n",
    "        m=a*b\n",
    "    else:\n",
    "        s=1\n",
    "        d=2\n",
    "        m=3\n",
    "    print(s)#inside function\n",
    "    print(d)\n",
    "    print(m)\n",
    "    \n",
    "cal_without_return(6,2)\n",
    "\n"
   ]
  },
  {
   "cell_type": "code",
   "execution_count": 33,
   "metadata": {},
   "outputs": [
    {
     "data": {
      "text/plain": [
       "[0, 0, 0, 0, 0]"
      ]
     },
     "execution_count": 33,
     "metadata": {},
     "output_type": "execute_result"
    }
   ],
   "source": [
    "[0]+[0]+[0]+[0]+[0] #[0]*5"
   ]
  },
  {
   "cell_type": "code",
   "execution_count": 35,
   "metadata": {},
   "outputs": [
    {
     "name": "stdout",
     "output_type": "stream",
     "text": [
      "[0, 0, 0, 0, 0]\n",
      "[0, 0, 0, 0, 0, 0, 0, 0, 0, 0, 0, 0, 0, 0, 0]\n",
      "[[0, 0, 0, 0, 0], [0, 0, 0, 0, 0], [0, 0, 0, 0, 0]]\n"
     ]
    }
   ],
   "source": [
    "a=[0]*5\n",
    "m=3\n",
    "b=a*m  #[0,0,0,0,0]+[0,0,0,0,0]+[0,0,0,0,0]\n",
    "print(a)\n",
    "print(b)\n",
    "\n",
    "c =[list(a) for i in range(m)]\n",
    "print(c)\n",
    "\n",
    "a=[1,2,3]\n",
    "b=[1,1,1]\n",
    "\n",
    "#get c=[2,3,4]\n",
    "\n",
    "ans=[]\n",
    "for i in range(len(a)):\n",
    "    ans.append(a[i]+b[i])\n",
    "\n",
    "print(ans)\n",
    "\n",
    "\n",
    "ans2= [0]*len(a)\n",
    "for i in range(len(a)):\n",
    "    ans2[i]=a[i]+b[i]\n",
    "    \n",
    "    \n",
    "print(ans2)\n"
   ]
  },
  {
   "cell_type": "code",
   "execution_count": 2,
   "metadata": {},
   "outputs": [
    {
     "name": "stdout",
     "output_type": "stream",
     "text": [
      "True\n"
     ]
    }
   ],
   "source": [
    "n=153\n",
    "\n",
    "unit = n%10\n",
    "ten =(n%100-unit)/10\n",
    "hundred=n//100\n",
    "s=(unit)**3+(ten)**3+(hundred)**3\n",
    "if s==n:\n",
    "    print(\"True\")\n",
    "else:\n",
    "    print(\"False\")"
   ]
  },
  {
   "cell_type": "code",
   "execution_count": 24,
   "metadata": {},
   "outputs": [
    {
     "name": "stdout",
     "output_type": "stream",
     "text": [
      "0\n",
      "1\n",
      "2\n",
      "3\n",
      "5\n"
     ]
    }
   ],
   "source": [
    "n=5\n",
    "fibi_i_1=1\n",
    "fibi_i_2=0\n",
    "\n",
    "for i in range(n):\n",
    "    if i<=1:\n",
    "        fibi_i=i\n",
    "    else:\n",
    "\n",
    "        fibi_i = fibi_i_1+fibi_i_2\n",
    "        fibi_i_2= fibi_i_1\n",
    "        fibi_i_1= fibi_i\n",
    "        \n",
    "    print(fibi_i)\n",
    "    \n",
    "    \n",
    "    \"\"\"\n",
    "    i \n",
    "    i = 3 fib_3 = 0+1 =1  (0 is fib_i_2, 1 is fib_i_1 : 1 is fib_i)\n",
    "    i = 4 fib_4 = 1+1 =2  (1 is fib_i_2, 1 is fib_i_1 : 2 is fib_i)  # previous\n",
    "    i = 5 fib_5 = 1+2 =3  (1 is fib_i_2, 2 is fib_i_1 : 3 is fib_i)  # current\n",
    "    i = 6 fib_6 = 2+3 =5  (2 is fib_i_2, 3 is fib_i_1 : 5 is fib_i)  # next\n",
    "    i = 7 fib_7 = 3+5 =8  (3 is fib_i_2, 5 is fib_i_1 : 8 is fib_i)  \n",
    "    i = 8 fib_8 = 5+8 =13 (5 is fib_i_2, 8 is fib_i_1 : 13 is fib_i) \n",
    "    \n",
    "    current fib_i_2 = previous fib_i_1\n",
    "    current fib_i_1 = previous fib_i\n",
    "    \n",
    "    which is same as:\n",
    "    \n",
    "    next fib_i_2 = current fib_i_1\n",
    "    next fib_i_1 = current fib_i\n",
    "    \n",
    "    (we use the above logic to update the for loop)\n",
    "    \n",
    "    \n",
    "    \"\"\""
   ]
  },
  {
   "cell_type": "code",
   "execution_count": null,
   "metadata": {},
   "outputs": [],
   "source": [
    "n=int(input())\n",
    "secondLast=0\n",
    "last=1\n",
    "if n>0:\n",
    "    print(secondLast)\n",
    "if n>1:\n",
    "    print(last)\n",
    "for i in range(3,n+1):\n",
    "    nextNumber=last+secondLast\n",
    "    print(nextNumber)\n",
    "    secondLast=last\n",
    "    last=nextNumber \n"
   ]
  },
  {
   "cell_type": "code",
   "execution_count": null,
   "metadata": {},
   "outputs": [],
   "source": [
    "n=10\n",
    "sum_primes=0\n",
    " \n",
    "for i in range(n):\n",
    "    for k in range(i):  \n",
    "        if i%k==0:\n",
    "            is_prime = False\n",
    "            break\n",
    "        else:\n",
    "            is_prime=True\n",
    "            \n",
    "    if is_prime:\n",
    "        sum_primes=i+sum_prime\n",
    "        \n",
    "        "
   ]
  },
  {
   "cell_type": "code",
   "execution_count": 13,
   "metadata": {},
   "outputs": [
    {
     "name": "stdout",
     "output_type": "stream",
     "text": [
      "0\n"
     ]
    }
   ],
   "source": [
    "n=1\n",
    "sum_primes=0\n",
    "\n",
    "\n",
    "def is_prime(num):\n",
    "    if num>2:\n",
    "        for k in range(2,num):\n",
    "            if num%k==0:\n",
    "                return  False\n",
    "                break\n",
    "            else:\n",
    "                return True\n",
    "    else:\n",
    "        if num <2:\n",
    "            return False\n",
    "        elif num==2:\n",
    "            return True\n",
    "        \n",
    "# print(is_prime(2))\n",
    "# print(is_prime(3))\n",
    "# print(is_prime(5))\n",
    "# print(is_prime(10))\n",
    "        \n",
    "for i in range(1,n+1):        \n",
    "    if is_prime(i):\n",
    "        sum_primes=i+sum_primes\n",
    "\n",
    "print(sum_primes)\n",
    "        "
   ]
  },
  {
   "cell_type": "code",
   "execution_count": 4,
   "metadata": {},
   "outputs": [],
   "source": [
    "for i in range(2,2):\n",
    "    print(i)"
   ]
  },
  {
   "cell_type": "code",
   "execution_count": 11,
   "metadata": {},
   "outputs": [
    {
     "name": "stdout",
     "output_type": "stream",
     "text": [
      "2\n"
     ]
    }
   ],
   "source": [
    "n=2\n",
    "sum_primes=0\n",
    "\n",
    "\n",
    "def is_prime(i):\n",
    "    if i>2:\n",
    "        for k in range(2,i):\n",
    "            if i%k==0:\n",
    "                return  False\n",
    "                break\n",
    "            else:\n",
    "                return True\n",
    "    else:\n",
    "        if i <2:\n",
    "            return False\n",
    "        elif i==2:\n",
    "            return True\n",
    "        \n",
    "# print(is_prime(2))\n",
    "# print(is_prime(3))\n",
    "# print(is_prime(5))\n",
    "# print(is_prime(10))\n",
    "        \n",
    "for i in range(1,n+1):        \n",
    "    if is_prime(i):\n",
    "        sum_primes=i+sum_primes\n",
    "\n",
    "print(sum_primes)\n",
    "        "
   ]
  },
  {
   "cell_type": "code",
   "execution_count": null,
   "metadata": {},
   "outputs": [],
   "source": [
    "input_string=input()\n",
    "l=input_string.split(\",\")\n",
    "m=int(l[0])\n",
    "c=int(l[1])\n",
    "w= int(l[2])\n",
    "k = int(l[3])\n",
    "\n",
    "\n",
    "\n",
    "choc=m//c\n",
    "wr=m//c\n",
    "\n",
    "while wr//3!=0:\n",
    "    choc=choc+wr//3\n",
    "    wr=wr//3+wr%3\n",
    "print(choc)\n",
    "\n",
    "\n",
    "'''\n",
    "1 choc = 2 rs\n",
    "\n",
    "3 wrappers = 1 choc\n",
    "\n",
    "15 rs = 7 choc+ 1re\n",
    "\n",
    "\n",
    "\n",
    "\n",
    "6 wrappers return  = 2choc 1 choc + 1 re\n",
    "\n",
    "\n",
    "\n",
    "1 choc for returning 3 wrappers \n",
    "\n",
    "total = 7+2+1 = 10 choclates\n",
    "'''\n",
    "\n"
   ]
  },
  {
   "cell_type": "code",
   "execution_count": 14,
   "metadata": {},
   "outputs": [
    {
     "name": "stdout",
     "output_type": "stream",
     "text": [
      "15, 2, 3, 1\n",
      "10\n"
     ]
    }
   ],
   "source": [
    "\n",
    "n = input()\n",
    "i = n.split(',')\n",
    "m, c, w, k = [int(x) for x in i]\n",
    "\n",
    "total_eaten = 0\n",
    "current_money = m\n",
    "\n",
    "# buy as many as we can\n",
    "buy = current_money // c\n",
    "\n",
    "# reduce money, increase eaten\n",
    "current_money -= buy * c\n",
    "total_eaten += buy\n",
    "\n",
    "# then start trading wrappers\n",
    "\n",
    "wrappers = total_eaten\n",
    "\n",
    "while True:\n",
    "  # we get extra chocolate for wrappers back\n",
    "    extra_choc = (wrappers // w)\n",
    "\n",
    "  # remove the wrappers\n",
    "    wrappers -= extra_choc * w\n",
    "\n",
    "    if extra_choc == 0:\n",
    "    # no more extra chocolate :(\n",
    "        break\n",
    "\n",
    "  # eat the extra chocolate\n",
    "    total_eaten += extra_choc * k\n",
    "\n",
    "  # and also increase how many wrappers we have\n",
    "    wrappers += extra_choc * k\n",
    "\n",
    "print(total_eaten)"
   ]
  },
  {
   "cell_type": "code",
   "execution_count": null,
   "metadata": {},
   "outputs": [],
   "source": [
    "take input here\n",
    "mystring = input()\n",
    "mylist = mystring.split(',')\n",
    "\n",
    "m = int(mylist[0])\n",
    "c = int(mylist[1])\n",
    "w = int(mylist[2])\n",
    "k = int(mylist[3])\n",
    "\n",
    "#start writing your code here\n",
    "\n",
    "choc = m//c\n",
    "wrappers = m//c\n",
    "\n",
    "while wrappers//w!=0:\n",
    "    choc = choc + ((wrappers//w)*k)\n",
    "    wrappers = ((wrappers//w)*k) + (wrappers%w)\n",
    "\n",
    "#dont forget to print the number of chocolates Sanjay can eat\n",
    "print(choc)"
   ]
  },
  {
   "cell_type": "code",
   "execution_count": 22,
   "metadata": {},
   "outputs": [
    {
     "name": "stdout",
     "output_type": "stream",
     "text": [
      "[1, 5, 10, 10, 5, 1]\n"
     ]
    }
   ],
   "source": [
    "num = 6\n",
    "\n",
    "def fact(num):\n",
    "    factorial = 1\n",
    "\n",
    "    # check if the number is negative, positive or zero\n",
    "    if num < 0:\n",
    "        return 1\n",
    "    elif num == 0:\n",
    "        return 1\n",
    "    else:\n",
    "        for i in range(1,num + 1):\n",
    "            factorial = factorial*i\n",
    "        return factorial\n",
    "    \n",
    "def comb(n,r):\n",
    "    return int(fact(n)/(fact(n-r)*fact(r)))\n",
    "# print(fact(num))\n",
    "# print(comb(4,2\n",
    "\n",
    "\n",
    "ans=[]\n",
    "for i in range(num):\n",
    "    ans.append(comb(num-1,i))\n",
    "print(ans)\n",
    "\n",
    "\"\"\"\n",
    "6 - 5c0, 5c1, 5c2 5c3, 5c4, 5c5\n",
    "     comb(5,0), comb(5,1), comb(5,2), comb(5,3), comb(5,4), comb(5,5)\n",
    "     \n",
    "     \n",
    "\"\"\""
   ]
  },
  {
   "cell_type": "code",
   "execution_count": 23,
   "metadata": {},
   "outputs": [
    {
     "name": "stdout",
     "output_type": "stream",
     "text": [
      "[0.16666666666666666, 1.0, 2.5, 3.3333333333333335, 2.5, 1.0]\n"
     ]
    },
    {
     "data": {
      "text/plain": [
       "'\\n6 - 5c0, 5c1, 5c2 5c3, 5c4, 5c5\\n     comb(5,0), comb(5,1), comb(5,2), comb(5,3), comb(5,4), comb(5,5)\\n     \\n     \\n'"
      ]
     },
     "execution_count": 23,
     "metadata": {},
     "output_type": "execute_result"
    }
   ],
   "source": [
    "num = 6\n",
    "\n",
    "\n",
    "\n",
    "ans=[]\n",
    "for i in range(num):     # a= (n-1)*fact,b=(n-r)*fact,c=r*fact \n",
    "    a=1\n",
    "    for k in range(1,num-1+1):\n",
    "        a=a*k\n",
    "    \n",
    "    b=1\n",
    "    for j in range(1,num-i+1):\n",
    "        b=b*j\n",
    "        \n",
    "    c=1\n",
    "    for l in range(1,i+1):\n",
    "        c=c*l\n",
    "    \n",
    "    \n",
    "    \n",
    "    to_append = a/(b*c)\n",
    "    ans.append(to_append)\n",
    "print(ans)\n",
    "\n",
    "\"\"\"\n",
    "6 - 5c0, 5c1, 5c2 5c3, 5c4, 5c5\n",
    "     comb(5,0), comb(5,1), comb(5,2), comb(5,3), comb(5,4), comb(5,5)\n",
    "     \n",
    "     \n",
    "\"\"\""
   ]
  },
  {
   "cell_type": "code",
   "execution_count": null,
   "metadata": {},
   "outputs": [],
   "source": [
    "n=int(input())\n",
    "\n",
    "# we will make a list with n lists in it\n",
    "# each nth list will have n numbers\n",
    "#we put all 1 in all sub lists\n",
    "#suppose n = 4\n",
    "Pascals=[[1 for i in range(j)] for j in range(1, n+1)]\n",
    "#Pascals = [[1], [1, 1], [1, 1, 1], [1, 1, 1, 1], [1, 1, 1, 1, 1], [1, 1, 1, 1, 1, 1]]\n",
    "#we dont need to change first two sublists\n",
    "for i in range(2, n):\n",
    "    for j in range(1,i):\n",
    "        Pascals[i][j]=Pascals[i-1][j-1]+Pascals[i-1][j]\n",
    "        #we add from previous sublist as shown in the link\n",
    "\n",
    "print(Pascals[-1]) #print last element of the list\n",
    "\n"
   ]
  },
  {
   "cell_type": "code",
   "execution_count": 36,
   "metadata": {},
   "outputs": [
    {
     "name": "stdout",
     "output_type": "stream",
     "text": [
      "[1, 2, 3, 4, 5, 6, 7, 8, 9]\n"
     ]
    }
   ],
   "source": [
    "import math\n",
    "\n",
    "lis=[1,2,3,4,5,6,7,8,9]\n",
    "k=9 #9/4 = 2.25 = ceil(2.25) =3\n",
    "if k<=len(lis):\n",
    "    for i in range(math.ceil(len(lis)/k)):\n",
    "        print(lis[k*i:i*k+k])\n",
    "\n"
   ]
  },
  {
   "cell_type": "code",
   "execution_count": null,
   "metadata": {},
   "outputs": [],
   "source": [
    "lis=[1,2,3,4,5,6,7,8,9]\n",
    "k=3\n",
    "print(lis[0:3])\n",
    "print(lis[3:6])\n",
    "print(lis[6:9])\n",
    "\n",
    "for i in range(k):\n",
    "    print(lis[3*i:i*3+3])"
   ]
  },
  {
   "cell_type": "code",
   "execution_count": null,
   "metadata": {},
   "outputs": [],
   "source": [
    "#take input here\n",
    "import ast\n",
    "input_str = input()\n",
    "input_list = ast.literal_eval(input_str)\n",
    "lis=input_list[0]\n",
    "k=input_list[1]\n",
    "\n",
    "\n",
    "for i in range(0, len(lis), k):  \n",
    "    print(lis[i: i + k]) #remember list comprehension"
   ]
  },
  {
   "cell_type": "code",
   "execution_count": 43,
   "metadata": {},
   "outputs": [
    {
     "name": "stdout",
     "output_type": "stream",
     "text": [
      "[-1, 0, 2, 7, 8, 9]\n",
      "8\n"
     ]
    }
   ],
   "source": [
    "input_list=[7, 2, 0, 9, -1, 8]\n",
    "\n",
    "b=sorted(list(set(input_list)))\n",
    "\n",
    "if len(b)>1:\n",
    "    print(b[-2])\n",
    "else:\n",
    "    print('not present')\n"
   ]
  },
  {
   "cell_type": "code",
   "execution_count": 49,
   "metadata": {},
   "outputs": [
    {
     "name": "stdout",
     "output_type": "stream",
     "text": [
      "[4, 4, 4, 4, 4, 4, 4, 4, 4]\n",
      "[4, 4, 3, 3, 3, 3, 3, 3, 3, 4, 4]\n",
      "[4, 4, 3, 3, 2, 2, 2, 2, 2, 3, 3, 4, 4]\n",
      "[4, 3, 2, 1, 2, 3, 4]\n",
      "[4, 4, 3, 3, 2, 2, 2, 2, 2, 3, 3, 4, 4]\n",
      "[4, 4, 3, 3, 3, 3, 3, 3, 3, 4, 4]\n",
      "[4, 4, 4, 4, 4, 4, 4, 4, 4]\n"
     ]
    }
   ],
   "source": [
    "#input n taken here\n",
    "n= 4  #int(input())\n",
    "\n",
    "#we will make a list of lists with just [1] in it. We will run a for loop from i= 2 to n and in each iteration\n",
    "#we will add [i]*(2i-3) in top of the list and and in bottom\n",
    "#then add i on both sides of all sub_lists \n",
    "\n",
    "answer=[[1]]\n",
    "for i in range(2, n+1):\n",
    "    t=[i]*((2*i)-3)\n",
    "    answer.insert(0, t)\n",
    "    answer.append(t)\n",
    "    for a in answer:\n",
    "        a.insert(0,i)\n",
    "        a.append(i)\n",
    "\n",
    "answerfinal=[]\n",
    "#we join the elements of the string without space\n",
    "for a in answer:\n",
    "    answerfinal.append(\"\".join(str(a)))\n",
    "#print \n",
    "for a in answerfinal:\n",
    "    print(a)\n"
   ]
  },
  {
   "cell_type": "code",
   "execution_count": 57,
   "metadata": {},
   "outputs": [
    {
     "name": "stdout",
     "output_type": "stream",
     "text": [
      "e\n"
     ]
    }
   ],
   "source": [
    "input_1='abcd'\n",
    "input_2='cedab'\n",
    "a=set(input_1)\n",
    "b=set(input_2)\n",
    "if len(input_1)<len(input_2):\n",
    "    c=b.difference(a)\n",
    "else:\n",
    "    c=a.difference(b)\n",
    "    \n",
    "print(list(c)[0])\n"
   ]
  },
  {
   "cell_type": "code",
   "execution_count": 64,
   "metadata": {},
   "outputs": [
    {
     "name": "stdout",
     "output_type": "stream",
     "text": [
      "STR\n"
     ]
    }
   ],
   "source": [
    "\n",
    "\n",
    "n= '17478t'     #input()\n",
    "\n",
    "if n.isdigit():\n",
    "    print(\"INT\")\n",
    "else:\n",
    "    print(\"STR\")\n"
   ]
  },
  {
   "cell_type": "code",
   "execution_count": 71,
   "metadata": {},
   "outputs": [
    {
     "name": "stdout",
     "output_type": "stream",
     "text": [
      "2345789078878\n"
     ]
    }
   ],
   "source": [
    "num='2 3 4 5   7,890,788  78 '\n",
    "a=num.replace(' ', '')\n",
    "b=a.replace(',', '')\n",
    "print(int(b))\n"
   ]
  },
  {
   "cell_type": "code",
   "execution_count": 77,
   "metadata": {},
   "outputs": [
    {
     "name": "stdout",
     "output_type": "stream",
     "text": [
      "[ZgZgZ\n"
     ]
    }
   ],
   "source": [
    "inp=['banana', 7]\n",
    "new_pw=inp[0]\n",
    "step=inp[1]\n",
    "\n",
    "new_pw_ascii=[]\n",
    "for i in range(len(new_pw)):\n",
    "    new_pw_ascii.append(ord(new_pw[i]))\n",
    "    \n",
    "old_pw_ascii=[]\n",
    "for j in range(len(new_pw)):\n",
    "    old_pw_ascii.append(new_pw_ascii[j]-step)\n",
    "    \n",
    "old_pw_char=[]\n",
    "for k in range(len(new_pw)):\n",
    "    old_pw_char.append(chr(old_pw_ascii[k]))\n",
    "\n",
    "final=''.join(old_pw_char)\n",
    "print(final)\n"
   ]
  },
  {
   "cell_type": "code",
   "execution_count": 76,
   "metadata": {},
   "outputs": [
    {
     "name": "stdout",
     "output_type": "stream",
     "text": [
      "upGrad\n"
     ]
    }
   ],
   "source": [
    "inp=['ytKveh', 4]\n",
    "new_pw=inp[0]\n",
    "step=inp[1]\n",
    "\n",
    "new_pw_ascii=[]\n",
    "old_pw_ascii=[]\n",
    "old_pw_char=[]\n",
    "\n",
    "for i in range(len(new_pw)):\n",
    "    new_pw_ascii.append(ord(new_pw[i]))\n",
    "    old_pw_ascii.append(new_pw_ascii[i]-step)\n",
    "    old_pw_char.append(chr(old_pw_ascii[i]))\n",
    "\n",
    "final=''.join(old_pw_char)\n",
    "print(final)\n"
   ]
  },
  {
   "cell_type": "code",
   "execution_count": 81,
   "metadata": {},
   "outputs": [
    {
     "name": "stdout",
     "output_type": "stream",
     "text": [
      "ytKveh\n",
      "utgtgt\n"
     ]
    }
   ],
   "source": [
    "inp=['upGrad', 4]\n",
    "new_pw=inp[0]\n",
    "step=inp[1]\n",
    "\n",
    "def encrypt(text,s): #to convert old pw to new pw\n",
    "    result = \"\"\n",
    "   # transverse the plain text\n",
    "    for i in range(len(text)):\n",
    "        char = text[i]\n",
    "      # Encrypt uppercase characters in plain text\n",
    "      \n",
    "        if (char.isupper()):\n",
    "            result += chr((ord(char) + s-65) % 26 + 65)\n",
    "          # Encrypt lowercase characters in plain text\n",
    "        else:\n",
    "            result += chr((ord(char) + s - 97) % 26 + 97)\n",
    "    return result\n",
    "\n",
    "print(encrypt(new_pw,step))\n",
    "\n",
    "\n",
    "def decrypt(text,s):  #to convert new pw to old pw\n",
    "    result = \"\"\n",
    "   # transverse the plain text\n",
    "    for i in range(len(text)):\n",
    "        char = text[i]\n",
    "      # Encrypt uppercase characters in plain text\n",
    "      \n",
    "        if (char.isupper()):\n",
    "            result += chr((ord(char) - s - 65) % 26 + 65)\n",
    "          # Encrypt lowercase characters in plain text\n",
    "        else:\n",
    "            result += chr((ord(char) - s - 97) % 26 + 97)\n",
    "    return result\n",
    "\n",
    "print(decrypt('banana',7))\n"
   ]
  },
  {
   "cell_type": "code",
   "execution_count": 84,
   "metadata": {},
   "outputs": [
    {
     "name": "stdout",
     "output_type": "stream",
     "text": [
      "10203040506070809100\n"
     ]
    }
   ],
   "source": [
    "n='10'\n",
    "s=0\n",
    "for i in range(1,int(n)+1):\n",
    "    something=int(n*i)\n",
    "    s=s+something\n",
    "print(s)"
   ]
  },
  {
   "cell_type": "code",
   "execution_count": 85,
   "metadata": {},
   "outputs": [
    {
     "name": "stdout",
     "output_type": "stream",
     "text": [
      "['a', 1, True]\n"
     ]
    }
   ],
   "source": [
    "l=[1,2,3]\n",
    "a=['a','b','c']"
   ]
  },
  {
   "cell_type": "code",
   "execution_count": 99,
   "metadata": {},
   "outputs": [
    {
     "name": "stdout",
     "output_type": "stream",
     "text": [
      "['mobile1', 'mobile4']\n",
      "mobile1 : 9000\n"
     ]
    }
   ],
   "source": [
    "d={'mobile1':9000, 'mobile2':11000, 'mobile3':13000, 'mobile4':9000, 'mobile5':15000, 'mobile6':16000, 'mobile7':17000, 'mobile8':18000, 'mobile9':19000}\n",
    "# e=list(d.values())\n",
    "# f=sorted(e)\n",
    "# print(f)\n",
    "# g=min(d.values())\n",
    "# print(g)\n",
    "\n",
    "temp = min(d.values()) \n",
    "res = [key for key in d if d[key] == temp] \n",
    "print(res)\n",
    "print(res[0],\":\", temp)"
   ]
  },
  {
   "cell_type": "code",
   "execution_count": 9,
   "metadata": {},
   "outputs": [
    {
     "name": "stdout",
     "output_type": "stream",
     "text": [
      "1\n",
      "2\n",
      "3\n",
      "4\n",
      "5\n",
      "\n",
      "\n",
      "one\n",
      "1\n",
      "two\n",
      "2\n",
      "three\n",
      "3\n",
      "four\n",
      "4\n",
      "\n",
      "\n",
      "one\n",
      "two\n",
      "three\n",
      "four\n",
      "\n",
      "\n",
      "1\n",
      "2\n",
      "3\n",
      "4\n",
      "\n",
      "\n",
      "one\n",
      "two\n",
      "three\n",
      "four\n",
      "\n",
      "\n",
      "1\n",
      "2\n",
      "3\n",
      "4\n",
      "\n",
      "\n",
      "one\n",
      "two\n",
      "three\n",
      "four\n",
      "\n",
      "\n"
     ]
    }
   ],
   "source": [
    "# iteration over list:\n",
    "L = [1,2,3,4,5]\n",
    "for item in L:\n",
    "    print(item)\n",
    "\n",
    "print(\"\\n\")\n",
    " #iteration over dictionary\n",
    "d ={'one':100,'two':200, 'three':3, 'four':4}\n",
    "\n",
    "# when we want both keys and values\n",
    "for key, val in d.items():\n",
    "    print(key)\n",
    "    print(val)\n",
    "\n",
    "print(\"\\n\")\n",
    "# when we want only keys in dict\n",
    "for key in d.keys():\n",
    "    print(key)\n",
    "\n",
    "print(\"\\n\")\n",
    "# when we want only values in dict\n",
    "\n",
    "for val in d.values():\n",
    "    print(val)\n",
    "    \n",
    "print(\"\\n\")\n",
    "# other method:\n",
    "\n",
    "for key, _ in d.items():\n",
    "    print(key)\n",
    "    \n",
    "print(\"\\n\")\n",
    "\n",
    "for  _, val in d.items():\n",
    "    print(val)\n",
    "\n",
    "print(\"\\n\")\n",
    "\n",
    "for i in d:\n",
    "    print(i)\n",
    "\n",
    "print(\"\\n\")\n"
   ]
  },
  {
   "cell_type": "code",
   "execution_count": 11,
   "metadata": {},
   "outputs": [
    {
     "name": "stdout",
     "output_type": "stream",
     "text": [
      "1\n",
      "2\n",
      "3\n",
      "4\n",
      "5\n",
      "1\n",
      "2\n",
      "3\n",
      "4\n",
      "5\n"
     ]
    }
   ],
   "source": [
    "L =[1,2,3,4,5]\n",
    "\n",
    "#method 1: iterating with index\n",
    "for i in range(len(L)):\n",
    "    print(L[i])\n",
    "\n",
    "for i in L:\n",
    "    print(i)\n",
    "    \n",
    "    "
   ]
  },
  {
   "cell_type": "code",
   "execution_count": 3,
   "metadata": {},
   "outputs": [
    {
     "name": "stdout",
     "output_type": "stream",
     "text": [
      "NOTA\n"
     ]
    }
   ],
   "source": [
    "l=[\"pasta\",\"pasta\",\"pasta\",\"paratha\",\"paratha\",\"paratha\"]\n",
    "d={}\n",
    "for item in l:\n",
    "    if item not in d.keys(): # dictionary meeda iteration gurthundaa... for key, val in d.items(): nakem vaduu ..agu call chesthunna\n",
    "        \n",
    "        d[item]=1\n",
    "    else:\n",
    "        d[item]=d[item]+1 #d[item] gives value and item is a key\n",
    "        \n",
    "temp = max(d.values()) \n",
    "res = [key for key in d if d[key] == temp] \n",
    "\n",
    "if temp>= (len(l)/2)+1:\n",
    "    print(res[0])\n",
    "else:\n",
    "    print('NOTA')\n",
    "    \n",
    "    \n",
    "\n"
   ]
  },
  {
   "cell_type": "code",
   "execution_count": null,
   "metadata": {},
   "outputs": [],
   "source": [
    "print([7])\n",
    "print(7)"
   ]
  },
  {
   "cell_type": "code",
   "execution_count": null,
   "metadata": {},
   "outputs": [],
   "source": [
    "d={'Fruit': 1, 'Vegetable': {'Cabbage': 2, 'Cauliflower': 3}, 'Spices': 4}"
   ]
  },
  {
   "cell_type": "code",
   "execution_count": 15,
   "metadata": {},
   "outputs": [
    {
     "name": "stdout",
     "output_type": "stream",
     "text": [
      "Fruit 1\n",
      "Vegetable {'Cabbage': 2, 'Cauliflower': 3}\n",
      "Spices 4\n",
      "['Fruit', 'Spices', 'Vegetable_Cabbage', 'Vegetable_Cauliflower']\n",
      "[1, 2, 3, 4]\n"
     ]
    }
   ],
   "source": [
    "\n",
    "input_dict = {'Fruit': 1, 'Vegetable': {'Cabbage': 2, 'Cauliflower': 3}, 'Spices': 4}\n",
    "\n",
    "# for key in input_dict.keys():\n",
    "#     print(key,input_dict[key])\n",
    "\n",
    "# for key,val in dd.items()\n",
    "# print(key,val)\n",
    "\n",
    "\n",
    "def flatten_dict(dd, separator='_', prefix=''):\n",
    "    #complete this function\n",
    "    d = {}\n",
    "    for key,val in dd.items(): # checking whether the value is dictonary or not,isinstance gives boolean result\n",
    "        if isinstance(val,dict): # idi avasarm ledu..\n",
    "            for key_2, val_2 in val.items():\n",
    "                d[key+separator+key_2]=val_2\n",
    "        else:\n",
    "            d[key] =val\n",
    "    return d\n",
    "\n",
    "\n",
    "out1=list(flatten_dict(input_dict).keys())\n",
    "out2=list(flatten_dict(input_dict).values())\n",
    "out1.sort()\n",
    "out2.sort()\n",
    "print(out1)\n",
    "print(out2)\n"
   ]
  },
  {
   "cell_type": "code",
   "execution_count": 22,
   "metadata": {},
   "outputs": [
    {
     "name": "stdout",
     "output_type": "stream",
     "text": [
      "[1, 2, 3, 4, 5, 6, 7, 8]\n",
      "{1: 5, 2: 8, 3: 0, 4: 0, 5: 0, 6: 4, 7: 0, 8: 0}\n"
     ]
    }
   ],
   "source": [
    "l=[1, 2, 3, 2, 5, 1, 2, 4, 6, 2, 7, 8, 6]\n",
    "\n",
    "unique = list(set(l))\n",
    "#print(unique)\n",
    "\n",
    "max_dist = {}\n",
    "for element in unique:\n",
    "    index = []\n",
    "    for i in range(len(l)):\n",
    "        if l[i]==element:\n",
    "            index.append(i)\n",
    "    min_index = min(index)\n",
    "    max_index = max(index)\n",
    "    max_dist[element]=max_index-min_index\n",
    "\n",
    "#print(max_dist)    \n",
    "print(max(list(max_dist.values())))\n",
    "\n",
    "\n",
    "[1,3,6,9]\n",
    "\n",
    "\n"
   ]
  },
  {
   "cell_type": "code",
   "execution_count": null,
   "metadata": {},
   "outputs": [],
   "source": [
    "#lego stack\n",
    "n = len(sides) \n",
    "\n",
    "my_stack = []\n",
    "i = 0\n",
    "\n",
    "while(i < n):\n",
    "    if sides[i] >= sides[n-1]:\n",
    "        my_stack.append(sides[i])\n",
    "        i = i+1\n",
    "    else:\n",
    "        my_stack.append(sides[n-1])\n",
    "        n = n - 1\n",
    "\n",
    "flag = 0\n",
    "i = 1\n",
    "while i < len(my_stack): \n",
    "    if(my_stack[i] > my_stack[i - 1]): \n",
    "        flag = 1\n",
    "    i += 1\n",
    "      \n",
    "\n",
    "if (not flag) : \n",
    "    print (\"Possible\") \n",
    "else : \n",
    "    print (\"Impossible\")"
   ]
  },
  {
   "cell_type": "code",
   "execution_count": 23,
   "metadata": {},
   "outputs": [
    {
     "name": "stdout",
     "output_type": "stream",
     "text": [
      "5\n",
      "555555555\n",
      "544444445\n",
      "543333345\n",
      "543222345\n",
      "543212345\n",
      "543222345\n",
      "543333345\n",
      "544444445\n",
      "555555555\n"
     ]
    }
   ],
   "source": [
    "n=int(input())\n",
    "answer=[['1']]\n",
    "for i in range(2, n+1):\n",
    "    t=[str(i)]*((2*i)-3)\n",
    "    t2=[str(i)]*((2*i)-3)\n",
    "    answer.insert(0, t2)\n",
    "    answer.append(t)\n",
    "    for a in answer:\n",
    "        a.insert(0,str(i))\n",
    "        a.append(str(i))\n",
    "answerfinal=[]\n",
    "for a in answer:\n",
    "    answerfinal.append(\"\".join(a))\n",
    "for a in answerfinal:\n",
    "    print(a)"
   ]
  },
  {
   "cell_type": "code",
   "execution_count": null,
   "metadata": {},
   "outputs": [],
   "source": [
    "import numpy as np\n",
    "N=int(input())\n",
    "A=np.zeros((N,N),dtype=int)\n",
    "B=np.zeros((N,N),dtype=int)\n",
    "for i in range(N):\n",
    "    row=input().split()\n",
    "    for j in range(N):\n",
    "        A[i,j]=int(row[j])\n",
    "for i in range (N):\n",
    "    row=input().split()\n",
    "    for j in range(N):\n",
    "        B[i,j]=int(row[j])\n",
    "final=np.zeros((N,N),dtype=int)\n",
    "for i in range(N):\n",
    "    for j in range(N):\n",
    "        final[i,j]= np.dot(A[i,:],B[ :,j])\n",
    "print(final)      \n",
    "# first row of A: A[0,:]\n",
    "# first column  : A[:,0]\n"
   ]
  },
  {
   "cell_type": "code",
   "execution_count": null,
   "metadata": {},
   "outputs": [],
   "source": [
    "import numpy as np\n",
    "inp=input().split()\n",
    "N=int(inp[0])\n",
    "M=int(inp[1])\n",
    "my_array=np.zeros((N,M),dtype=int)\n",
    "for i in range(N):\n",
    "    row=input().split()\n",
    "    for j in range(M):\n",
    "        my_array[i,j]=int(row[j])\n",
    "\n",
    "print(np.mean(my_array,axis=1))\n",
    "print(np.var(my_array,axis=0))\n",
    "print(round(np.std(my_array,axis=None),11 ))\n"
   ]
  },
  {
   "cell_type": "code",
   "execution_count": null,
   "metadata": {},
   "outputs": [],
   "source": [
    "import numpy as np\n",
    "i=input().split()\n",
    "N=int(i[0])\n",
    "M=int(i[1])\n",
    "mat = np.zeros((N,M),dtype=int)\n",
    "for i in range(N):\n",
    "    inp = input().split()\n",
    "    for j in range(M):\n",
    "        mat[i,j] =int(inp[j])\n",
    "print(np.max(np.min(mat,axis=1)))\n"
   ]
  },
  {
   "cell_type": "code",
   "execution_count": null,
   "metadata": {},
   "outputs": [],
   "source": [
    "if __name__ == '__main__':\n",
    "    n = int(input())\n",
    "    integer_list = map(int, input().split())\n",
    "    t=tuple(integer_list)\n",
    "    print(hash(t))"
   ]
  },
  {
   "cell_type": "code",
   "execution_count": null,
   "metadata": {},
   "outputs": [],
   "source": [
    " N = int(input())\n",
    "    final_list=[]\n",
    "    for i in range (N):\n",
    "        instruction= input().split()\n",
    "        if instruction[0]=='insert':\n",
    "            final_list.insert(int(instruction[1]), int(instruction[2]))\n",
    "        elif instruction[0]=='print':\n",
    "            print(final_list)\n",
    "        elif instruction[0]=='remove':\n",
    "            final_list.remove(int(instruction[1]))\n",
    "        elif instruction[0]=='append':\n",
    "            final_list.append(int(instruction[1]))\n",
    "        elif instruction[0]=='sort':\n",
    "            final_list.sort()\n",
    "        elif instruction[0]=='pop':\n",
    "            final_list.pop()\n",
    "        elif instruction[0]=='reverse':\n",
    "            final_list.reverse()\n"
   ]
  },
  {
   "cell_type": "code",
   "execution_count": null,
   "metadata": {},
   "outputs": [],
   "source": [
    "# -*- coding: utf-8 -*-\n",
    "\"\"\"\n",
    "Spyder Editor\n",
    "\n",
    "This is a temporary script file.\n",
    "\"\"\"\n",
    "\n",
    "\n",
    "import pandas as pd\n",
    "#input_str = sys.stdin.read()\n",
    "#input_list = ast.literal_eval(input_str)\n",
    "list1=[1,2,3,4,5,6,7]\n",
    "list2=[1,3,7]\n",
    "series1=pd.Series(list1)\n",
    "series2=pd.Series(list2)\n",
    "out_list= series1.isin(series2)\n",
    "out_list=out_list[out_list].index\n",
    "\n",
    "import ast,sys\n",
    "import pandas as pd\n",
    "input_str = sys.stdin.read()\n",
    "input_list = ast.literal_eval(input_str)\n",
    "series1=pd.Series(input_list[0])\n",
    "series2=pd.Series(input_list[1])\n",
    "out_list=[pd.Index(series1).get_loc(num) for num in series2]\n",
    "print(list(map(int,out_list)))\n",
    "\n",
    "\n",
    "print(list(map(int,out_list)))#do not alter this step, list must be int type for evaluation purposes\n",
    "\n",
    "\n",
    "import pandas as pd \n",
    "df=pd.read_csv(\"https://media-doselect.s3.amazonaws.com/generic/8NMooe4G0ENEe8z9q5ZvaZA7/googleplaystore.csv\")\n",
    "#add your cleaning code here\n",
    "#data = data.loc[data[\"cases\"] != 0]\n",
    "#df = df[df[\"Installs\"] !=\"Free\"]\n",
    "df1= df.drop(df.index[(df[\"Installs\"] == \"Free\")],axis=0)\n",
    "#df1['Avg_Annual'] = df1['Avg_Annual'].str.replace(',', '').str.replace('$', '').astype(int)\n",
    "df1[\"Installs\"] = df1[\"Installs\"].str.replace(\",\",\"\").str.replace(\"+\",\"\").astype(int)\n",
    "#df1[\"Installs\"] = df1[\"Installs\"].str.replace(\"+\",\"\")\n",
    "#df1[\"Installs\"] = df1[\"Installs\"].astype(int)\n",
    "\n",
    "print(df1.corr())"
   ]
  },
  {
   "cell_type": "code",
   "execution_count": null,
   "metadata": {},
   "outputs": [],
   "source": [
    "# -*- coding: utf-8 -*-\n",
    "\"\"\"\n",
    "Created on Sat Jan  2 10:41:47 2021\n",
    "\n",
    "@author: RAMYA\n",
    "\"\"\"\n",
    "\n",
    "# print(\" this is a single line\")\n",
    "\n",
    "# print(\"Hello world\")\n",
    "\n",
    "# a = 2**45\n",
    "\n",
    "# print(a)\n",
    "\n",
    "\n",
    "\n",
    "# you are given two inputs\n",
    "\n",
    "a= 7 #int(input())\n",
    "b= [2,3,1,4,6,5,5]#[int(i) for i in input().split()]\n",
    "\n",
    "\n",
    "count = 0\n",
    "for i in range(2,len(b)-1):\n",
    "    print(i, \":\",b[i-2], b[i-1],b[i],b[i+1])\n",
    "    if b[i-2]+b[i-1]==b[i]+b[i+1]:\n",
    "        count+=1\n",
    "\n",
    "print(count)\n",
    "\n",
    "\n",
    "# count =0\n",
    "# for i in range(3,len(b)):\n",
    "#     print(i, \":\",b[i-3], b[i-2],b[i-1],b[i])\n",
    "#     if b[i-3]+b[i-2]==b[i-1]+b[i]:\n",
    "#         count+=1\n",
    "\n",
    "# print(count)\n",
    "final = \"\"\n",
    "for i in range(len(b)):\n",
    "    if i%3==0:\n",
    "        final= final+\" \"+str(b[i])\n",
    "\n",
    "print(final)\n",
    "\n",
    "\n",
    "\n",
    "final = []\n",
    "for i in range(len(b)):\n",
    "    if i%3==0:\n",
    "        final.append(str(b[i]))\n",
    "\n",
    "output = \" \".join(final)\n",
    "print(output)\n",
    "\n",
    "\n",
    "import numpy as np\n",
    "mat =np.zeros((5,5))\n",
    "\n",
    "for i in range(5):\n",
    "    mat[i][i]=1\n",
    "    \n",
    "for i in range(5):\n",
    "    for j in range(5):\n",
    "        if i==j:\n",
    "            mat[i][j]=3\n",
    "\n",
    "\n",
    "\n",
    "for i in range(5):\n",
    "    mat[i][4-i]=-100\n",
    "\n",
    "\n",
    "for i in range(5):\n",
    "    for j in range(5):\n",
    "        if j==4-i:\n",
    "            mat[i][j]=300000\n"
   ]
  },
  {
   "cell_type": "code",
   "execution_count": null,
   "metadata": {},
   "outputs": [],
   "source": [
    "# -*- coding: utf-8 -*-\n",
    "\"\"\"\n",
    "Created on Wed Feb  3 21:48:56 2021\n",
    "\n",
    "@author: RAMYA\n",
    "\"\"\"\n",
    "\n",
    "import numpy as np\n",
    "heights= np.array([10,20,30,40])\n",
    "cm=heights*2.5\n",
    "print(type(heights))\n",
    "print(cm)\n",
    "\n",
    "l1=[1,2,3]\n",
    "l2=[4,5,6]\n",
    "a=l1+l2\n",
    "print(a)\n",
    "\n",
    "np1=np.array([1,2,3])\n",
    "np2=np.array([4,5,6])\n",
    "b=np1+np2\n",
    "print(b)\n",
    "print(type(b))\n",
    "\n",
    "np3 = np.array(l1) + np.array(l2)\n",
    "print(np3)\n",
    "\n",
    "t=(1,2,3)\n",
    "npt=np.array(t)\n",
    "print(npt)\n",
    "\n",
    "array_1 = [1,2,3,5,4,6,7,8,5,3,2]\n",
    "array_2=array_1[1: : 2]\n",
    "print(array_1[ : : -2])\n",
    "print(array_2)\n",
    "\n",
    "import ast \n",
    "input_list=[ 1, 5, 9, 12, 15, 7, 12, 9 ]#ast.literal_eval(input())\n",
    "m=6#int(input())\n",
    "n=12#int(input())\n",
    "\n",
    "import numpy as np\n",
    "array_1 =np.array( input_list)\n",
    "#final_array = array_1[array_1>m and array_1<n]\n",
    "array_1 =np.array( input_list)\n",
    "final_array_1 = array_1[array_1>m]\n",
    "final_array = final_array_1[final_array_1<n]\n",
    "print(final_array)\n",
    "\n",
    "\n",
    "res= list()\n",
    "for i in range(len(input_list)):\n",
    "    if input_list[i]>m and input_list[i]<n:\n",
    "        res.append(input_list[i])\n",
    "print(res)\n",
    "\n",
    "\n",
    "import numpy as np\n",
    "one_d_array = np.array([1,2,3,4,5])\n",
    "\n",
    "two_d_array=np.array([[1,2,3,4,5],[6,7,8,9,10],[11,12,13,14,15]])\n",
    "\n",
    "elem1 = two_d_array\n",
    "elem2 = np.array([[21,22,23,24,25],[26,27,8,9,10],[11,12,13,14,15]])\n",
    "three_d_array = np.array([ elem1 , elem2 ])\n",
    "\n",
    "Input_1=[[11,12,13,14],[21,22,23,24],[31,32,33, 34]]\n",
    "Input_np_arr=np.array(Input_1)\n",
    "print(Input_np_arr)\n",
    "print(Input_np_arr[0,:])\n",
    "print(Input_np_arr[:,0])\n",
    "print(Input_np_arr[-1,:])\n",
    "print(Input_np_arr[:,-1])\n",
    "\n",
    "\n",
    "array_multipleof5 = np.arange(5,55,5)\n",
    "print(array_multipleof5)\n",
    "\n",
    "m=np.zeros((n,n),dtype=int)\n",
    "m[0, :]=1\n",
    "m[: ,0]=1\n",
    "m[-1,:]=1 \n",
    "m[:,-1]=1 \n",
    "print(m)\n",
    "\n",
    "n=4\n",
    "k = np.ones((n,n),dtype=int)\n",
    "k[1:n-1,1:n-1]=0\n",
    "print(k)\n",
    "\n",
    "\n",
    "\n",
    "a = np.arange(1,13)\n",
    "\n",
    "b = a.reshape(3,4)\n",
    "c = a.reshape(3,4,order='F')\n",
    "\n",
    "print(a)\n",
    "print(b)\n",
    "print(c)\n",
    "\n",
    "p=np.array([[1, 5],[3, 7],[4, 9]])\n",
    "q=np.reshape(p, -1)\n",
    "print(q.shape)\n",
    "\n",
    "array_1=np.array([[1, 2, 3, 4, 5], [6, 7, 8, 9, 10],[11, 12, 13, 14, 15],[16, 17, 18, 19, 20]])\n",
    "#print(array_1.reshape(5, 4)[array_1%2 != 0])\n",
    "#print(array_1[array_1%2 != 0])\n",
    "#print(array_1[array_1%2 == 0].reshape(5, 2))\n",
    "print(array_1[array_1%2 != 0].reshape(5, 2))\n",
    "\n",
    "import numpy as np\n",
    "p=np.array([[1, 5],[3, 7],[4, 9]])\n",
    "q=np.reshape(p, (1, -1))\n",
    "print(q)\n",
    "print(q.shape)\n",
    "\n",
    "\n",
    "\n",
    "\n",
    "ar1=np.array(list_1)\n",
    "ar2=np.array(list_2)\n",
    "ar3=np.array(list_3)\n",
    "part1 = np.vstack((ar1,ar2.reshape(1,3)))\n",
    "final_array = np.hstack((part1,np.transpose(ar3)))\n",
    "print(final_array)\n",
    "\n",
    "\n",
    "import numpy as np\n",
    "\n",
    "to_fill = np.arange(1,65).reshape((8,8))\n",
    "print(to_fill)\n",
    "\n",
    "\n",
    "print(to_fill[:3,-5:])\n",
    "\n",
    "np.arange(1,16,2).reshape(4, 2) \n",
    "\n",
    "n=8\n",
    "if n>2:\n",
    "    mat=np.zeros((n,n),dtype=int)\n",
    "    if n%2!=0:\n",
    "        middle = int((n-1)/(2))\n",
    "        mat[middle,:]=1\n",
    "        mat[:,middle]=1\n",
    "        print(mat)\n",
    "    if n%2==0:\n",
    "        middle = int((n)/(2))-1\n",
    "        mat[middle:middle+2,:]=1\n",
    "        mat[:,middle:middle+2]=1\n",
    "        print(mat)\n"
   ]
  },
  {
   "cell_type": "code",
   "execution_count": null,
   "metadata": {},
   "outputs": [],
   "source": [
    "# -*- coding: utf-8 -*-\n",
    "\"\"\"\n",
    "Created on Fri Feb  5 21:05:24 2021\n",
    "\n",
    "@author: RAMYA\n",
    "\"\"\"\n",
    "\n",
    "import pandas as pd\n",
    "cars_df=pd.read_csv('cars.csv',header=None,names=['A','B','C','D','E'],index_col=0)\n",
    "\n",
    "link='https://media-doselect.s3.amazonaws.com/generic/A08MajL8qN4rq72EpVJbAP1Rw/marks_1.csv'\n",
    "df = pd.read_csv(link,sep='|',header=None,index_col=0)\n",
    "df.index.name='S.No.'\n",
    "df.columns=['Name','Subject','Maximum Marks','Marks Obtained','Percentage']\n",
    "print(df)\n",
    "\n",
    "sales_df=pd.read_excel('sales.xlsx')\n",
    "\n",
    "df = pd.read_csv('https://media-doselect.s3.amazonaws.com/generic/NMgEjwkAEGGQZBoNYGr9Ld7w0/rating.csv',index_col=[2,1])\n",
    "print(df.head(5))\n",
    "\n",
    "a = sales_df['Sales']\n",
    "print(a)\n",
    "print(type(a))\n",
    "\n",
    "b = sales_df[['Sales','Profit']]\n",
    "print(b)\n",
    "print(type(b))\n",
    "\n",
    "c=  sales_df[\"Market\"][sales_df[\"Sales\"] > 3000]\n",
    "\n",
    "\n",
    "d=  sales_df[sales_df[\"Sales\"] > 3000]\n",
    "\n",
    "import pandas as pd\n",
    "weather=pd.read_csv('weatherdata.csv',header=0)\n",
    "\n",
    "df=pd.read_csv('rating.csv',header=0)\n",
    "\n",
    "#new = pd.read_csv('https://media-doselect.s3.amazonaws.com/generic/NMgEjwkAEGGQZBoNYGr9Ld7w0/rating.csv')\n",
    "\n",
    "df['Training']= df['Rating'].apply(lambda x: 'Yes' if x<=3.5 else 'No')\n",
    "print(df.head(5))\n",
    "\n",
    "df.describe()\n",
    "\n",
    "df.groupby('Department')['Training'].value_counts()\n",
    "\n",
    "\n",
    "for i in ['Finance', 'HR', 'Sales', 'Marketing']:\n",
    "    print(i, len(df[(df['Training'] == 'No') & (df['Department'] == i)]) / len(df[df['Department'] == i]) * 100)\n",
    "    \n",
    "df = pd.read_csv('https://query.data.world/s/vBDCsoHCytUSLKkLvq851k2b8JOCkF')\n",
    "#Type your groupby command here\n",
    "df_1 = df.groupby(by=['month' , 'day']).mean()\n",
    "df_2 = df_1.loc[:,['rain','wind']]\n",
    "print(df_2.head(20))\n",
    "\n",
    "df_1 = pd.read_csv('https://query.data.world/s/vv3snq28bp0TJq2ggCdxGOghEQKPZo')\n",
    "df_2 = pd.read_csv('https://query.data.world/s/9wVKjNT0yiRc3YbVJaiI8a6HGl2d74')\n",
    "df_3 =pd.concat([df_1,df_2],axis= 0)\n",
    "\n",
    "\n",
    "import numpy as np \n",
    "import pandas as pd\n",
    "\n",
    "# Defining the three dataframes indicating the gold, silver, and bronze medal counts\n",
    "# of different countries\n",
    "gold = pd.DataFrame({'Country': ['USA', 'France', 'Russia'],\n",
    "                         'Medals': [15, 13, 9]}\n",
    "                    )\n",
    "silver = pd.DataFrame({'Country': ['USA', 'Germany', 'Russia'],\n",
    "                        'Medals': [29, 20, 16]}\n",
    "                    )\n",
    "bronze = pd.DataFrame({'Country': ['France', 'USA', 'UK'],\n",
    "                        'Medals': [40, 28, 27]}\n",
    "                    )\n",
    "\n",
    "g_s = gold.merge(silver, on=\"Country\", how=\"outer\")\n",
    "all_medals = g_s.merge(bronze, on=\"Country\", how=\"outer\")\n",
    "\n",
    "all_medals = all_medals.fillna(0)\n",
    "\n",
    "all_medals[\"Medals\"]=all_medals[\"Medals_x\"]+all_medals[\"Medals_y\"]+all_medals[\"Medals\"]\n",
    "final = all_medals[[\"Country\",\"Medals\"]]\n",
    "final=final.sort_values(\"Medals\",ascending=False)\n",
    "print(final.set_index(['Country']))\n",
    "\n",
    "df = pd.read_csv('https://query.data.world/s/vBDCsoHCytUSLKkLvq851k2b8JOCkF')\n",
    "df_1 = df.pivot_table(index=['month','day'],values=['rain','wind'],aggfunc=np.mean)\n",
    "print(df_1.head(20))\n",
    "\n",
    "#chk = pd.concat([gold,silver,bronze])\n",
    "\n",
    "\n",
    "\n",
    "null_cols =0\n",
    "cols = list(movies.columns)\n",
    "for col in cols:\n",
    "    if movies[col].isnull().sum()!=0:\n",
    "        null_cols+=1\n",
    "print(null_cols)\n",
    "\n",
    "print((movies.isnull().sum()>0).sum())\n",
    "\n",
    "cols = list(movies.columns)\n",
    "for col in cols:\n",
    "    num= movies[col].isnull().sum()\n",
    "    dem= len(movies[col])\n",
    "    pc =(num/dem)*100\n",
    "    print(col, \" : \", pc)\n",
    "    \n",
    "round(100*(movies.isnull().sum()/len(movies.index)), 2)\n",
    "\n",
    "import pandas as pd \n",
    "\n",
    "items = [['a',5],['c',10],['e',25]]\n",
    "          \n",
    "df = pd.DataFrame(items, columns=['Item','Price'], dtype=float) \n",
    "print(df)\n",
    "\n",
    "df2 = pd.DataFrame(items, dtype=float) \n",
    "print(df)\n",
    "\n",
    "\n",
    "\n",
    "\n",
    "\n",
    "\n",
    "df =  {'num':[1,2,3],'char':['a','e','f']}\n",
    "df =  pd.DataFrame(df)\n",
    "\n",
    "\n",
    "import numpy as np\n",
    "\n",
    "\n",
    "a= 1+np.nan\n",
    "\n",
    "print(a)\n",
    "\n",
    "b= 5*np.nan\n",
    "\n",
    "print(b)\n",
    "\n",
    "c = np.nan+np.nan\n",
    "\n",
    "print(c)\n",
    "\n",
    "\n",
    "d = np.array([1,3,5,np.nan,7,9,np.nan])\n",
    "\n",
    "print(np.nansum(d))\n",
    "\n",
    "\n",
    "\n",
    "\n",
    "\n"
   ]
  },
  {
   "cell_type": "code",
   "execution_count": null,
   "metadata": {},
   "outputs": [],
   "source": [
    "# -*- coding: utf-8 -*-\n",
    "\"\"\"\n",
    "Created on Fri Feb 12 22:58:35 2021\n",
    "\n",
    "@author: RAMYA\n",
    "\"\"\"\n",
    "\n",
    "import seaborn as sb\n",
    "\n",
    "import numpy as np\n",
    "import pandas as pd\n",
    "\n",
    "row_arry = np.ones((1,5))\n",
    "\n",
    "clm_arry = np.ones((5,1))\n",
    "\n",
    "just_arry = clm_arry.reshape(-1)\n",
    "\n",
    "\n",
    "df = pd.DataFrame({'a':[1,2,3,4],'b':[5,6,7,8],'c':[7,8,9,10]})\n",
    "\n",
    "series1 = df['a']\n",
    "series2= df['c']\n",
    "\n",
    "# Method 1\n",
    "\n",
    "df_final = pd.DataFrame({'A':series1.values,'C':series2.values})\n",
    "\n",
    "# Method 2\n",
    "\n",
    "df_final_2 = pd.concat([series1,series2],axis=1)\n",
    "\n",
    "c= df.values\n",
    "\n",
    "d = c.reshape(-1,1)\n",
    "\n",
    "\n",
    "\n",
    "series_arry_1 = series1.values\n",
    "\n",
    "e = series_arry_1.reshape(-1)\n"
   ]
  },
  {
   "cell_type": "code",
   "execution_count": null,
   "metadata": {},
   "outputs": [],
   "source": [
    "# -*- coding: utf-8 -*-\n",
    "\"\"\"\n",
    "Created on Mon May 24 20:49:41 2021\n",
    "\n",
    "@author: RAMYA\n",
    "\"\"\"\n",
    "\n",
    "n=10\n",
    "\n",
    "num = 5\n",
    "\n",
    "if num==2:\n",
    "    return True\n",
    "else:\n",
    "    for i in range(2,num):\n",
    "        \n",
    "\n",
    "\n",
    "\n",
    "# for num in range(2,n+1):\n",
    "#     if is_prime(num)==True:\n",
    "#         print(num)\n",
    "        \n",
    "    "
   ]
  },
  {
   "cell_type": "code",
   "execution_count": null,
   "metadata": {},
   "outputs": [],
   "source": [
    "import numpy as np\n",
    "A=np.array(list(map(int,input().split())))\n",
    "B=np.array(list(map(int,input().split())))\n",
    "print(np.inner(A, B))\n",
    "print(np.outer(A, B))\n",
    "\n"
   ]
  },
  {
   "cell_type": "code",
   "execution_count": null,
   "metadata": {},
   "outputs": [],
   "source": [
    "import numpy as np\n",
    "coeff=np.array(list(map(float,input().split())))\n",
    "val=float(input())\n",
    "\n",
    "print(np.polyval(coeff, val))"
   ]
  },
  {
   "cell_type": "code",
   "execution_count": null,
   "metadata": {},
   "outputs": [],
   "source": [
    "import numpy as np\n",
    "dimen=int(input())\n",
    "A=np.zeros((dimen,dimen))\n",
    "for i in range(dimen):\n",
    "    row=list(map(float,input().split()))\n",
    "    for j in range(dimen):\n",
    "        A[i,j]=row[j]\n",
    "print(round((np.linalg.det(A)),2))\n"
   ]
  },
  {
   "cell_type": "code",
   "execution_count": null,
   "metadata": {},
   "outputs": [],
   "source": [
    "def swap_case(s):\n",
    "    return s.swapcase()\n",
    "\n",
    "if __name__ == '__main__':\n",
    "    s = input()\n",
    "    result = swap_case(s)\n",
    "    print(result)"
   ]
  },
  {
   "cell_type": "code",
   "execution_count": null,
   "metadata": {},
   "outputs": [],
   "source": [
    "def split_and_join(line):\n",
    "    a=line.split(\" \")\n",
    "    b=\"-\".join(a)\n",
    "    return b\n",
    "\n",
    "if __name__ == '__main__':\n",
    "    line = input()\n",
    "    result = split_and_join(line)\n",
    "    print(result)"
   ]
  },
  {
   "cell_type": "code",
   "execution_count": null,
   "metadata": {},
   "outputs": [],
   "source": [
    "def print_full_name(first, last):\n",
    "    firstname=first\n",
    "    lastname=last\n",
    "    #print(\"Hello \"+firstname+\" \"+lastname+\"! You just delved into python.\")\n",
    "    statement = \"Hello {firstname} {lastname}! You just delved into python.\".format (firstname = first, lastname = last)\n",
    "    print(statement)\n",
    "\n",
    "\n",
    "if __name__ == '__main__':\n",
    "    first_name = input()\n",
    "    last_name = input()\n",
    "    print_full_name(first_name, last_name)\n",
    "    \n",
    "    "
   ]
  },
  {
   "cell_type": "code",
   "execution_count": null,
   "metadata": {},
   "outputs": [],
   "source": [
    "def print_full_name(first, last):\n",
    "\n",
    "    #print(\"Hello \"+firstname+\" \"+lastname+\"! You just delved into python.\")\n",
    "    statement = \"Hello {} {}! You just delved into python.\".format (first,last)\n",
    "    print(statement)\n",
    "\n",
    "\n",
    "if __name__ == '__main__':\n",
    "    first_name = input()\n",
    "    last_name = input()\n",
    "    print_full_name(first_name, last_name)"
   ]
  },
  {
   "cell_type": "code",
   "execution_count": null,
   "metadata": {},
   "outputs": [],
   "source": [
    "def mutate_string(string, position, character):\n",
    "    l=list(string)\n",
    "    l[position]=character\n",
    "    final=\"\".join(l)\n",
    "    return final\n",
    "\n",
    "if __name__ == '__main__':\n",
    "    s = input()\n",
    "    i, c = input().split()\n",
    "    s_new = mutate_string(s, int(i), c)\n",
    "    print(s_new)"
   ]
  },
  {
   "cell_type": "code",
   "execution_count": 2,
   "metadata": {},
   "outputs": [
    {
     "name": "stdout",
     "output_type": "stream",
     "text": [
      "567\n"
     ]
    }
   ],
   "source": [
    "a = \"123456789\"\n",
    "i = 4\n",
    "ss_length=3\n",
    "print(a[i:i+ss_length])"
   ]
  },
  {
   "cell_type": "code",
   "execution_count": null,
   "metadata": {},
   "outputs": [],
   "source": [
    "# String      : ABCDCDC\n",
    "# Sub string  : CDC\n",
    "\n",
    "\n",
    "def count_substring(string, sub_string):\n",
    "    count=0\n",
    "    ss_length = len(sub_string)\n",
    "    for i in range(len(string)):\n",
    "        if string[i]==sub_string[0]:\n",
    "            if string[i:i+ss_length] == sub_string:\n",
    "                count=count+1\n",
    "    return count\n",
    "\n",
    "if __name__ == '__main__':\n",
    "    string = input().strip()\n",
    "    sub_string = input().strip()\n",
    "    \n",
    "    count = count_substring(string, sub_string)\n",
    "    print(count)"
   ]
  },
  {
   "cell_type": "code",
   "execution_count": null,
   "metadata": {},
   "outputs": [],
   "source": [
    "if __name__ == '__main__':\n",
    "    s = input()\n",
    "    print(s.isalnum())\n",
    "    print(any((c.isalpha() for c in s)))\n",
    "    print(any((c.isalpha() for c in s)))\n",
    "    print(any((c.isalpha() for c in s)))\n",
    "    print(any((c.isalpha() for c in s)))\n",
    "    print(any((c.isupper() for c in s)))\n",
    "    print(s.isdigit())\n",
    "    print(s.islower())\n",
    "    print(s.isupper())"
   ]
  },
  {
   "cell_type": "code",
   "execution_count": null,
   "metadata": {},
   "outputs": [],
   "source": [
    "if __name__ == '__main__':\n",
    "    s = input()\n",
    "    print(any((c.isalnum() for c in s)))\n",
    "    print(any((c.isalpha() for c in s)))\n",
    "    print(any((c.isdigit() for c in s)))\n",
    "    print(any((c.islower() for c in s)))\n",
    "    print(any((c.isupper() for c in s)))"
   ]
  },
  {
   "cell_type": "code",
   "execution_count": 17,
   "metadata": {},
   "outputs": [
    {
     "name": "stdout",
     "output_type": "stream",
     "text": [
      "    H    \n",
      "   HHH   \n",
      "  HHHHH  \n",
      " HHHHHHH \n",
      "HHHHHHHHH\n",
      "  HHHHH               HHHHH             \n",
      "  HHHHH               HHHHH             \n",
      "  HHHHH               HHHHH             \n",
      "  HHHHH               HHHHH             \n",
      "  HHHHH               HHHHH             \n",
      "  HHHHH               HHHHH             \n",
      "  HHHHHHHHHHHHHHHHHHHHHHHHH   \n",
      "  HHHHHHHHHHHHHHHHHHHHHHHHH   \n",
      "  HHHHHHHHHHHHHHHHHHHHHHHHH   \n",
      "  HHHHH               HHHHH             \n",
      "  HHHHH               HHHHH             \n",
      "  HHHHH               HHHHH             \n",
      "  HHHHH               HHHHH             \n",
      "  HHHHH               HHHHH             \n",
      "  HHHHH               HHHHH             \n",
      "                    HHHHHHHHH \n",
      "                     HHHHHHH  \n",
      "                      HHHHH   \n",
      "                       HHH    \n",
      "                        H     \n"
     ]
    }
   ],
   "source": [
    "thickness = 5 #This must be an odd number\n",
    "c = 'H'\n",
    "\n",
    "#Top Cone\n",
    "for i in range(thickness):\n",
    "    print((c*i).rjust(thickness-1)+c+(c*i).ljust(thickness-1))\n",
    "#Top Pillars\n",
    "for i in range(thickness+1):\n",
    "    print((c*thickness).center(thickness*2)+(c*thickness).center(thickness*6))\n",
    "#Middle Belt\n",
    "for i in range((thickness+1)//2):\n",
    "    print((c*thickness*5).center(thickness*6)) \n",
    "#Bottom Pillars\n",
    "for i in range(thickness+1):\n",
    "    print((c*thickness).center(thickness*2)+(c*thickness).center(thickness*6))  \n",
    "#Bottom Cone\n",
    "for i in range(thickness):\n",
    "    print(((c*(thickness-i-1)).rjust(thickness)+c+(c*(thickness-i-1)).ljust(thickness)).rjust(thickness*6))\n",
    "\n"
   ]
  },
  {
   "cell_type": "code",
   "execution_count": 20,
   "metadata": {},
   "outputs": [
    {
     "name": "stdout",
     "output_type": "stream",
     "text": [
      "fghijklmnopqrstuvwxyz\n",
      "4\n",
      "fghi\n",
      "jklm\n",
      "nopq\n",
      "rstu\n",
      "vwxy\n",
      "z\n"
     ]
    }
   ],
   "source": [
    "import textwrap\n",
    "\n",
    "def wrap(string, max_width):\n",
    "    my_wrap = textwrap.TextWrapper(width = max_width)\n",
    "    wrap_list = my_wrap.wrap(text=string)\n",
    "    final=\"\\n\".join(wrap_list)\n",
    "    return final\n",
    "if __name__ == '__main__':\n",
    "    string, max_width = input(), int(input())\n",
    "    result = wrap(string, max_width)\n",
    "    print(result)"
   ]
  },
  {
   "cell_type": "code",
   "execution_count": 29,
   "metadata": {},
   "outputs": [
    {
     "name": "stdout",
     "output_type": "stream",
     "text": [
      "---------.|.---------\n",
      "------.|..|..|.------\n",
      "---.|..|..|..|..|.---\n",
      "-------WELCOME-------\n",
      "---.|..|..|..|..|.---\n",
      "------.|..|..|.------\n",
      "---------.|.---------\n"
     ]
    }
   ],
   "source": [
    "N = 7\n",
    "M = 21\n",
    "\n",
    "#modify i inside loop when we are doing pattrens in increasing order like 1,3,5,7....N-2\n",
    "for i in range((N-1)//2):\n",
    "    print(((2*i+1)*\".|.\").center(M,'-'))\n",
    "\n",
    "# print(\".|.\".center(M,'-'))\n",
    "# print((3*\".|.\").center(M,'-'))\n",
    "# print((5*\".|.\").center(M,'-'))\n",
    "\n",
    "print(\"WELCOME\".center(M,'-'))\n",
    "#modify range when we are using reverse pattren or decreasing order like N-2,N-4,N-6.....1\n",
    "#if we modify range during decreasing order it is difficult to find the formula as it involves both i and N parameters\n",
    "#while deriving the formula\n",
    "for i in range(N-2,-1,-2):\n",
    "    print(((i)*\".|.\").center(M,'-'))\n"
   ]
  },
  {
   "cell_type": "code",
   "execution_count": 31,
   "metadata": {},
   "outputs": [
    {
     "name": "stdout",
     "output_type": "stream",
     "text": [
      "---------.|.---------\n",
      "------.|..|..|.------\n",
      "---.|..|..|..|..|.---\n",
      "-------WELCOME-------\n",
      "---.|..|..|..|..|.---\n",
      "------.|..|..|.------\n",
      "---------.|.---------\n"
     ]
    }
   ],
   "source": [
    "# i = 0 we need f(i) = N-2\n",
    "# i = 1 we need f(i) = N-4\n",
    "\n",
    "#f(i) = ai+b\n",
    "#\n",
    "\n",
    "#b=N-2\n",
    "#a =N-4 -(N-2) = -2\n",
    "# f(i) = -2i+N-2\n",
    "\n",
    "N = 7\n",
    "M = 21\n",
    "\n",
    "\n",
    "for i in range((N-1)//2):\n",
    "    print(((2*i+1)*\".|.\").center(M,'-'))\n",
    "\n",
    "print(\"WELCOME\".center(M,'-'))\n",
    "\n",
    "for i in range((N-1)//2):\n",
    "    print(((-2*i+N-2)*\".|.\").center(M,'-'))\n",
    "\n"
   ]
  },
  {
   "cell_type": "code",
   "execution_count": 2,
   "metadata": {},
   "outputs": [
    {
     "name": "stdout",
     "output_type": "stream",
     "text": [
      "69\n",
      "0o105\n",
      "0x45\n",
      "0b1000101\n"
     ]
    }
   ],
   "source": [
    "i = 69\n",
    "print(int(i))\n",
    "print(oct(i))\n",
    "print(hex(i))\n",
    "print(bin(i))\n"
   ]
  },
  {
   "cell_type": "code",
   "execution_count": null,
   "metadata": {},
   "outputs": [],
   "source": [
    "4*16+5"
   ]
  },
  {
   "cell_type": "code",
   "execution_count": null,
   "metadata": {},
   "outputs": [],
   "source": [
    "st=int(raw_input())\n",
    "\n",
    "w=len(bin(st)[2:])\n",
    "\n",
    "for i in range(1,st+1):\n",
    "\n",
    "print (str(i).rjust(w,' '),str(oct(i)[1:]).rjust(w,' '),str(hex(i)[2:].upper()).rjust(w,' '),str(bin(i)[2:]).rjust(w,' '),sep=' ')"
   ]
  },
  {
   "cell_type": "code",
   "execution_count": null,
   "metadata": {},
   "outputs": [],
   "source": [
    "\n",
    "for i in range((N-1)//2):\n",
    "    print(((2*i+1)*\".|.\").center(M,'-'))\n",
    "\n",
    "print(\"WELCOME\".center(M,'-'))\n",
    "\n",
    "for i in range((N-1)//2):\n",
    "    print(((-2*i+N-2)*\".|.\").center(M,'-'))"
   ]
  },
  {
   "cell_type": "code",
   "execution_count": 44,
   "metadata": {},
   "outputs": [
    {
     "name": "stdout",
     "output_type": "stream",
     "text": [
      "4 -5\n",
      "4\n",
      "3\n",
      "2\n",
      "1\n",
      "0\n",
      "-1\n",
      "-2\n",
      "-3\n",
      "-4\n"
     ]
    }
   ],
   "source": [
    "#3=9,5=17,9=3a+b,17=5a+b,a=4,b=-3 take w=f(N) =aN+b as function for caluculating width\n",
    "#3=5,5=9,5=3a+b,9=5a+b,a=2,b=-1 for l = f(N) = aN+b as function for caluculating number of lines\n",
    "# interms of i will come inside loop\n",
    "N=5\n",
    "w=4*N-3\n",
    "l=2*N-1\n",
    "charcters = \"abcdefghijklmnopqrstuvwxyz\"\n",
    "ing= list(charcters[0:N])\n",
    "# for i in range(N-1,-1*N,-1):\n",
    "#     line =  ing[abs(i):N][::-1][:-1] +ing[abs(i):N] #ing[abs(i):N][::-1][:-1]\n",
    "#     print(\"-\".join(line).center(w,\"-\"))\n",
    "start = N-1\n",
    "stop = start-l\n",
    "print(start,stop)\n",
    "for i in range(start,stop,-1):\n",
    "    print(i)\n",
    "    \n",
    "# for i in range(l):\n",
    "#     line =  ing[abs(N-1-i):N][::-1][:-1] +ing[abs(N-1-i):N] #ing[abs(i):N][::-1][:-1]\n",
    "#     print(\"-\".join(line).center(w,\"-\"))"
   ]
  },
  {
   "cell_type": "code",
   "execution_count": null,
   "metadata": {},
   "outputs": [],
   "source": []
  },
  {
   "cell_type": "code",
   "execution_count": 3,
   "metadata": {},
   "outputs": [
    {
     "name": "stdout",
     "output_type": "stream",
     "text": [
      "--c-b-c--\n"
     ]
    }
   ],
   "source": [
    "N= 3\n",
    "w = 4*N-3\n",
    "\n",
    "print('c-b-c'.center(w,'-'))"
   ]
  },
  {
   "cell_type": "code",
   "execution_count": 6,
   "metadata": {},
   "outputs": [
    {
     "name": "stdout",
     "output_type": "stream",
     "text": [
      "c-b-a-b-c\n"
     ]
    }
   ],
   "source": [
    "li =['c','b']+['a','b','c']\n",
    "print(\"-\".join(li))"
   ]
  },
  {
   "cell_type": "code",
   "execution_count": 16,
   "metadata": {},
   "outputs": [
    {
     "name": "stdout",
     "output_type": "stream",
     "text": [
      "a-b-c-d-e\n",
      "----a-b-c-d-e----\n"
     ]
    }
   ],
   "source": [
    "N= 5\n",
    "w = 4*N-3\n",
    "charcters = \"abcdefghijklmnopqrstuvwxyz\"\n",
    "li = list(charcters[0:N])\n",
    "k=\"-\".join(li)\n",
    "print(k)\n",
    "print(k.center(w,'-'))"
   ]
  },
  {
   "cell_type": "code",
   "execution_count": 27,
   "metadata": {},
   "outputs": [
    {
     "name": "stdout",
     "output_type": "stream",
     "text": [
      "[4, 5, 1, 2]\n"
     ]
    }
   ],
   "source": [
    "a = [4,5]\n",
    "b =[1,2]\n",
    "print(a+b)"
   ]
  },
  {
   "cell_type": "code",
   "execution_count": 50,
   "metadata": {},
   "outputs": [
    {
     "name": "stdout",
     "output_type": "stream",
     "text": [
      "['132', '456', 'Wq', '', 'm', 'e']\n"
     ]
    },
    {
     "ename": "IndexError",
     "evalue": "string index out of range",
     "output_type": "error",
     "traceback": [
      "\u001b[1;31m---------------------------------------------------------------------------\u001b[0m",
      "\u001b[1;31mIndexError\u001b[0m                                Traceback (most recent call last)",
      "\u001b[1;32m<ipython-input-50-f1fd45f6d975>\u001b[0m in \u001b[0;36m<module>\u001b[1;34m\u001b[0m\n\u001b[0;32m      4\u001b[0m \u001b[0mfinal\u001b[0m\u001b[1;33m=\u001b[0m\u001b[1;33m[\u001b[0m\u001b[1;33m]\u001b[0m\u001b[1;33m\u001b[0m\u001b[1;33m\u001b[0m\u001b[0m\n\u001b[0;32m      5\u001b[0m \u001b[1;32mfor\u001b[0m \u001b[0mword\u001b[0m \u001b[1;32min\u001b[0m \u001b[0mnew\u001b[0m\u001b[1;33m:\u001b[0m\u001b[1;33m\u001b[0m\u001b[1;33m\u001b[0m\u001b[0m\n\u001b[1;32m----> 6\u001b[1;33m     \u001b[1;32mif\u001b[0m \u001b[0mword\u001b[0m\u001b[1;33m[\u001b[0m\u001b[1;36m0\u001b[0m\u001b[1;33m]\u001b[0m\u001b[1;33m.\u001b[0m\u001b[0mislower\u001b[0m\u001b[1;33m(\u001b[0m\u001b[1;33m)\u001b[0m\u001b[1;33m:\u001b[0m\u001b[1;33m\u001b[0m\u001b[1;33m\u001b[0m\u001b[0m\n\u001b[0m\u001b[0;32m      7\u001b[0m         \u001b[0mfinal\u001b[0m\u001b[1;33m.\u001b[0m\u001b[0mappend\u001b[0m\u001b[1;33m(\u001b[0m\u001b[0mword\u001b[0m\u001b[1;33m.\u001b[0m\u001b[0mcapitalize\u001b[0m\u001b[1;33m(\u001b[0m\u001b[1;33m)\u001b[0m\u001b[1;33m)\u001b[0m\u001b[1;33m\u001b[0m\u001b[1;33m\u001b[0m\u001b[0m\n\u001b[0;32m      8\u001b[0m     \u001b[1;32melse\u001b[0m\u001b[1;33m:\u001b[0m\u001b[1;33m\u001b[0m\u001b[1;33m\u001b[0m\u001b[0m\n",
      "\u001b[1;31mIndexError\u001b[0m: string index out of range"
     ]
    }
   ],
   "source": [
    "name=\"132 456 Wq  m e\"\n",
    "new=name.split(\" \")\n",
    "print(new)\n",
    "final=[]\n",
    "for word in new:\n",
    "    if word[0].islower():\n",
    "        final.append(word.capitalize())\n",
    "    else:\n",
    "        final.append(word)\n",
    "final_1=\" \".join(final)\n",
    "print(final_1)\n",
    "        \n",
    "        \n"
   ]
  },
  {
   "cell_type": "code",
   "execution_count": null,
   "metadata": {},
   "outputs": [],
   "source": [
    "'''IMPORTANT: click on \"Compile & Run\" to generate an output to the written code\n",
    "ONLY this will generate scores for your code!\n",
    "Also this will help you to check correctness of your code against test cases'''\n",
    "\n",
    "#this is default OUTPUT. You are allowed to modify it.\n",
    "result=[]\n",
    "\n",
    "#INPUT [uncomment & modify if required]\n",
    "\n",
    "#input for number of records given as input\n",
    "n=int(input())\n",
    "\n",
    "#input for the n records. Each record denotes Sex, Age, Weight, Temperature.\n",
    "# for i in range(n):\n",
    "# \tline=input().split(' ')\n",
    "# \ttemp=float(line[3])\n",
    "# \tweight=float(line[2])\n",
    "\t\n",
    "#NOTE: The input now contains n records and each record contains Sex, Age, Weight, Temperature.\n",
    "\n",
    "#WRITE YOUR LOGIC HERE:\n",
    "for j in range(n):\n",
    "    line=input().split(' ')\n",
    "    temp=float(line[3])\n",
    "    weight=float(line[2])\n",
    "    if temp>=96 and temp<=109:\n",
    "        temp=(temp-32)*float(5/9)\n",
    "        weight=weight/2.2046\n",
    "    line[3]=\"%0.3f\" %temp\n",
    "    line[2]=\"%0.3f\" %weight\n",
    "    result.append(\" \".join(line))\n",
    "result=\"\\n\".join(result)\n",
    "\n",
    "\n",
    "#OUTPUT [uncomment & modify if required]\n",
    "#This is just 1 of the output. You will need to handle and manage to match as per the Test Cases.\n",
    "print( result)"
   ]
  },
  {
   "cell_type": "code",
   "execution_count": null,
   "metadata": {},
   "outputs": [],
   "source": [
    "'''IMPORTANT: click on \"Compile & Run\" to generate an output to the written code\n",
    "ONLY this will generate scores for your code!\n",
    "Also this will help you to check correctness of your code against test cases'''\n",
    "\n",
    "import numpy as np\n",
    "import pandas as pd\n",
    "\n",
    "from sklearn.datasets import load_boston\n",
    "from sklearn.linear_model import LinearRegression\n",
    "\n",
    "temp_dataset = load_boston()\n",
    "\n",
    "dataset = pd.DataFrame(temp_dataset.data, columns=temp_dataset.feature_names)\n",
    "dataset['MEDV'] = temp_dataset.target\n",
    "\n",
    "#this is default OUTPUT. You are allowed to modify it.\n",
    "result=-404.000\n",
    "\n",
    "#INPUT [uncomment & modify if required]\n",
    "#input for data entries\n",
    "n = int(input())\n",
    "\n",
    "\n",
    "data =[]\n",
    "#input for \"LSTAT\" AND \"RM\"\n",
    "for i in range(n):\n",
    "    line = list(map(float, input().split(' ')))\n",
    "    data.append(line)\n",
    "X_test = pd.DataFrame.from_records(data, columns=[\"LSTAT\",\"RM\"])\n",
    "#NOTE: The variable \"n\" and now contains data entries \n",
    "#NOTE: The variable \"line\" now contains n lines. Each line contains two space-separated floating-point values corresponding to \"LSTAT\" and \"RM\" for each data point.\n",
    "\n",
    "#WRITE YOUR LOGIC HERE:\n",
    "model = LinearRegression()\n",
    "X_train = dataset.drop(\"MEDV\",axis=1)\n",
    "y_train = dataset[\"MEDV\"]\n",
    "\n",
    "model.fit(X_train,y_train)\n",
    "pred = model.predict(X_test)\n",
    "\n",
    "\n",
    "\n",
    "#OUTPUT [uncomment & modify if required]\n",
    "print(pred)"
   ]
  },
  {
   "cell_type": "markdown",
   "metadata": {},
   "source": [
    "xbar - 2 sig =1.1\n",
    "xbar + 2 sig =1.7\n",
    "\n",
    "2xbar = 2.8 \n",
    "4sig = 0.3\n",
    "sig = \n",
    "\n",
    "\n",
    "\n",
    "99.7 of data lies between 3 std \n",
    "xbar - 3 sig =\n",
    "xbar + 3 sig =\n",
    "\n",
    "\n"
   ]
  }
 ],
 "metadata": {
  "kernelspec": {
   "display_name": "Python 3",
   "language": "python",
   "name": "python3"
  },
  "language_info": {
   "codemirror_mode": {
    "name": "ipython",
    "version": 3
   },
   "file_extension": ".py",
   "mimetype": "text/x-python",
   "name": "python",
   "nbconvert_exporter": "python",
   "pygments_lexer": "ipython3",
   "version": "3.8.5"
  }
 },
 "nbformat": 4,
 "nbformat_minor": 4
}
